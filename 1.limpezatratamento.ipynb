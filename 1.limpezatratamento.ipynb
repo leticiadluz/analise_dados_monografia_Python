{
 "cells": [
  {
   "cell_type": "markdown",
   "metadata": {},
   "source": [
    "O arquivo foi preenchido juntamente com o **professor Fernando Amaral do Curso Formação Cientista de Dados da Udemy**. Além disso, adicionei comentários acima de cada código para tornar a estrutura mais compreensível e facilitar a revisão do conteúdo. A definição de cada estrutura foi aprimorada com o auxílio do chat GPT, que ofereceu esclarecimentos ao longo do processo. Além disso, foram incorporados ensinamentos fornecidos pelo professor Fernando Amaral."
   ]
  },
  {
   "cell_type": "code",
   "execution_count": 1,
   "metadata": {},
   "outputs": [],
   "source": [
    "import pandas as pd\n",
    "import seaborn as srn\n",
    "import statistics  as sts"
   ]
  },
  {
   "cell_type": "markdown",
   "metadata": {},
   "source": [
    "#### Importando Dados:\n",
    "Nessa parte do código, um arquivo CSV chamado \"Churn.csv\" é importado e lido em um DataFrame do Pandas. \n",
    "O arquivo é lido usando a função pd.read_csv, onde pd é um alias para o módulo Pandas. \n",
    "**O parâmetro sep=\";** \" é usado para especificar que o separador entre os valores no arquivo CSV é o ponto e vírgula (;).\n",
    "Ao importar dados de um arquivo CSV (Comma Separated Values), é necessário informar à função pd.read_csv() qual é o caractere ou sequência de caracteres usado para separar os valores em cada linha do arquivo. Por padrão, a função pd.read_csv() assume que o separador é uma vírgula (,), pois a extensão do arquivo CSV sugere \"Comma\" Separated Values. \n",
    "**No entanto, em alguns casos, os arquivos CSV podem usar outros caracteres como separadores, como ponto e vírgula (;), tabulação (\\t), espaço em branco, entre outros.**\n",
    "\n",
    "#### Visualizar\n",
    "O método head() é chamado no DataFrame dataset. Esse método é usado para visualizar as primeiras \n",
    "linhas do DataFrame, por padrão, as cinco primeiras linhas"
   ]
  },
  {
   "cell_type": "code",
   "execution_count": 2,
   "metadata": {},
   "outputs": [
    {
     "data": {
      "text/html": [
       "<div>\n",
       "<style scoped>\n",
       "    .dataframe tbody tr th:only-of-type {\n",
       "        vertical-align: middle;\n",
       "    }\n",
       "\n",
       "    .dataframe tbody tr th {\n",
       "        vertical-align: top;\n",
       "    }\n",
       "\n",
       "    .dataframe thead th {\n",
       "        text-align: right;\n",
       "    }\n",
       "</style>\n",
       "<table border=\"1\" class=\"dataframe\">\n",
       "  <thead>\n",
       "    <tr style=\"text-align: right;\">\n",
       "      <th></th>\n",
       "      <th>X0</th>\n",
       "      <th>X1</th>\n",
       "      <th>X2</th>\n",
       "      <th>X3</th>\n",
       "      <th>X4</th>\n",
       "      <th>X4.1</th>\n",
       "      <th>X6</th>\n",
       "      <th>X7</th>\n",
       "      <th>X8</th>\n",
       "      <th>X9</th>\n",
       "      <th>X10</th>\n",
       "      <th>X11</th>\n",
       "    </tr>\n",
       "  </thead>\n",
       "  <tbody>\n",
       "    <tr>\n",
       "      <th>0</th>\n",
       "      <td>1</td>\n",
       "      <td>619</td>\n",
       "      <td>RS</td>\n",
       "      <td>Feminino</td>\n",
       "      <td>42</td>\n",
       "      <td>2</td>\n",
       "      <td>0</td>\n",
       "      <td>1</td>\n",
       "      <td>1</td>\n",
       "      <td>1</td>\n",
       "      <td>10134888.0</td>\n",
       "      <td>1</td>\n",
       "    </tr>\n",
       "    <tr>\n",
       "      <th>1</th>\n",
       "      <td>2</td>\n",
       "      <td>608</td>\n",
       "      <td>SC</td>\n",
       "      <td>Feminino</td>\n",
       "      <td>41</td>\n",
       "      <td>1</td>\n",
       "      <td>8380786</td>\n",
       "      <td>1</td>\n",
       "      <td>0</td>\n",
       "      <td>1</td>\n",
       "      <td>11254258.0</td>\n",
       "      <td>0</td>\n",
       "    </tr>\n",
       "    <tr>\n",
       "      <th>2</th>\n",
       "      <td>3</td>\n",
       "      <td>502</td>\n",
       "      <td>RS</td>\n",
       "      <td>Feminino</td>\n",
       "      <td>42</td>\n",
       "      <td>8</td>\n",
       "      <td>1596608</td>\n",
       "      <td>3</td>\n",
       "      <td>1</td>\n",
       "      <td>0</td>\n",
       "      <td>11393157.0</td>\n",
       "      <td>1</td>\n",
       "    </tr>\n",
       "    <tr>\n",
       "      <th>3</th>\n",
       "      <td>4</td>\n",
       "      <td>699</td>\n",
       "      <td>RS</td>\n",
       "      <td>Feminino</td>\n",
       "      <td>39</td>\n",
       "      <td>1</td>\n",
       "      <td>0</td>\n",
       "      <td>2</td>\n",
       "      <td>0</td>\n",
       "      <td>0</td>\n",
       "      <td>9382663.0</td>\n",
       "      <td>0</td>\n",
       "    </tr>\n",
       "    <tr>\n",
       "      <th>4</th>\n",
       "      <td>5</td>\n",
       "      <td>850</td>\n",
       "      <td>SC</td>\n",
       "      <td>Feminino</td>\n",
       "      <td>43</td>\n",
       "      <td>2</td>\n",
       "      <td>12551082</td>\n",
       "      <td>1</td>\n",
       "      <td>1</td>\n",
       "      <td>1</td>\n",
       "      <td>790841.0</td>\n",
       "      <td>0</td>\n",
       "    </tr>\n",
       "  </tbody>\n",
       "</table>\n",
       "</div>"
      ],
      "text/plain": [
       "   X0   X1  X2        X3  X4  X4.1        X6  X7  X8  X9         X10  X11\n",
       "0   1  619  RS  Feminino  42     2         0   1   1   1  10134888.0    1\n",
       "1   2  608  SC  Feminino  41     1   8380786   1   0   1  11254258.0    0\n",
       "2   3  502  RS  Feminino  42     8   1596608   3   1   0  11393157.0    1\n",
       "3   4  699  RS  Feminino  39     1         0   2   0   0   9382663.0    0\n",
       "4   5  850  SC  Feminino  43     2  12551082   1   1   1    790841.0    0"
      ]
     },
     "execution_count": 2,
     "metadata": {},
     "output_type": "execute_result"
    }
   ],
   "source": [
    "#importar dados: \n",
    "dataset = pd.read_csv(\"Churn.csv\", sep=\";\")\n",
    "#visulizar\n",
    "dataset.head()"
   ]
  },
  {
   "cell_type": "markdown",
   "metadata": {},
   "source": [
    "A propriedade **shape** é usada para obter as dimensões de um conjunto de dados. No exemplo abaixo há 999 linhas e 12 colunas.\n",
    "A propriedade shape não conta o cabeçalho do DataFrame ao retornar o número de linhas e colunas."
   ]
  },
  {
   "cell_type": "code",
   "execution_count": 3,
   "metadata": {},
   "outputs": [
    {
     "data": {
      "text/plain": [
       "(999, 12)"
      ]
     },
     "execution_count": 3,
     "metadata": {},
     "output_type": "execute_result"
    }
   ],
   "source": [
    "#tamanho\n",
    "dataset.shape"
   ]
  },
  {
   "cell_type": "markdown",
   "metadata": {},
   "source": [
    "Precisamos renomear as colunas. O **dataset** é o nome do DataFrame que será modificado, atribuímos este nome anteriormente;**Columns:** É uma propriedade do DataFrame que retorna uma lista com os nomes das colunas atuais. Ao atribuir valores a essa propriedade, podemos renomear as colunas. É importante que o número de elementos na lista seja o mesmo número de colunas já existentes no DataFrame, caso contrário haverá erro na execução do código.\n",
    "**Importante notar que a atribuição dataset.columns = [...] não altera o arquivo original (ou DataFrame original) em si**. Ela apenas renomeia temporariamente as colunas durante a sessão atual do Python. Para realizar a modificação diretamente no DataFrame original, você pode utilizar o parâmetro **inplace=True e o método rename**.O método rename permite fornecer um dicionário em que as chaves são os nomes antigos das colunas e os valores são os novos nomes que você deseja atribuir a elas.\n",
    "\n",
    "dataset.rename(columns={\"X0\": \"Id\", \"X1\": \"Score\", \"X2\": \"Estado\", \"X3\": \"Genero\", \"X4\": \"Idade\",\n",
    "                        \"X4.1\": \"Patrimonio\", \"X6\": \"Saldo\", \"X7\": \"Produtos\", \"X8\": \"TemCartCredito\",\n",
    "                        \"X9\": \"Ativo\", \"X10\": \"Salario\", \"X11\": \"Saiu\"}, inplace=True)"
   ]
  },
  {
   "cell_type": "code",
   "execution_count": 4,
   "metadata": {},
   "outputs": [],
   "source": [
    "#primeiro problema é dar nomes as colunas\n",
    "dataset.columns = [\"Id\",\"Score\",\"Estado\",\"Genero\",\"Idade\",\"Patrimonio\",\"Saldo\",\"Produtos\",\"TemCartCredito\",\n",
    "                    \"Ativo\",\"Salario\", \"Saiu\"]"
   ]
  },
  {
   "cell_type": "code",
   "execution_count": 5,
   "metadata": {},
   "outputs": [
    {
     "data": {
      "text/html": [
       "<div>\n",
       "<style scoped>\n",
       "    .dataframe tbody tr th:only-of-type {\n",
       "        vertical-align: middle;\n",
       "    }\n",
       "\n",
       "    .dataframe tbody tr th {\n",
       "        vertical-align: top;\n",
       "    }\n",
       "\n",
       "    .dataframe thead th {\n",
       "        text-align: right;\n",
       "    }\n",
       "</style>\n",
       "<table border=\"1\" class=\"dataframe\">\n",
       "  <thead>\n",
       "    <tr style=\"text-align: right;\">\n",
       "      <th></th>\n",
       "      <th>Id</th>\n",
       "      <th>Score</th>\n",
       "      <th>Estado</th>\n",
       "      <th>Genero</th>\n",
       "      <th>Idade</th>\n",
       "      <th>Patrimonio</th>\n",
       "      <th>Saldo</th>\n",
       "      <th>Produtos</th>\n",
       "      <th>TemCartCredito</th>\n",
       "      <th>Ativo</th>\n",
       "      <th>Salario</th>\n",
       "      <th>Saiu</th>\n",
       "    </tr>\n",
       "  </thead>\n",
       "  <tbody>\n",
       "    <tr>\n",
       "      <th>0</th>\n",
       "      <td>1</td>\n",
       "      <td>619</td>\n",
       "      <td>RS</td>\n",
       "      <td>Feminino</td>\n",
       "      <td>42</td>\n",
       "      <td>2</td>\n",
       "      <td>0</td>\n",
       "      <td>1</td>\n",
       "      <td>1</td>\n",
       "      <td>1</td>\n",
       "      <td>10134888.0</td>\n",
       "      <td>1</td>\n",
       "    </tr>\n",
       "    <tr>\n",
       "      <th>1</th>\n",
       "      <td>2</td>\n",
       "      <td>608</td>\n",
       "      <td>SC</td>\n",
       "      <td>Feminino</td>\n",
       "      <td>41</td>\n",
       "      <td>1</td>\n",
       "      <td>8380786</td>\n",
       "      <td>1</td>\n",
       "      <td>0</td>\n",
       "      <td>1</td>\n",
       "      <td>11254258.0</td>\n",
       "      <td>0</td>\n",
       "    </tr>\n",
       "    <tr>\n",
       "      <th>2</th>\n",
       "      <td>3</td>\n",
       "      <td>502</td>\n",
       "      <td>RS</td>\n",
       "      <td>Feminino</td>\n",
       "      <td>42</td>\n",
       "      <td>8</td>\n",
       "      <td>1596608</td>\n",
       "      <td>3</td>\n",
       "      <td>1</td>\n",
       "      <td>0</td>\n",
       "      <td>11393157.0</td>\n",
       "      <td>1</td>\n",
       "    </tr>\n",
       "    <tr>\n",
       "      <th>3</th>\n",
       "      <td>4</td>\n",
       "      <td>699</td>\n",
       "      <td>RS</td>\n",
       "      <td>Feminino</td>\n",
       "      <td>39</td>\n",
       "      <td>1</td>\n",
       "      <td>0</td>\n",
       "      <td>2</td>\n",
       "      <td>0</td>\n",
       "      <td>0</td>\n",
       "      <td>9382663.0</td>\n",
       "      <td>0</td>\n",
       "    </tr>\n",
       "    <tr>\n",
       "      <th>4</th>\n",
       "      <td>5</td>\n",
       "      <td>850</td>\n",
       "      <td>SC</td>\n",
       "      <td>Feminino</td>\n",
       "      <td>43</td>\n",
       "      <td>2</td>\n",
       "      <td>12551082</td>\n",
       "      <td>1</td>\n",
       "      <td>1</td>\n",
       "      <td>1</td>\n",
       "      <td>790841.0</td>\n",
       "      <td>0</td>\n",
       "    </tr>\n",
       "  </tbody>\n",
       "</table>\n",
       "</div>"
      ],
      "text/plain": [
       "   Id  Score Estado    Genero  Idade  Patrimonio     Saldo  Produtos  \\\n",
       "0   1    619     RS  Feminino     42           2         0         1   \n",
       "1   2    608     SC  Feminino     41           1   8380786         1   \n",
       "2   3    502     RS  Feminino     42           8   1596608         3   \n",
       "3   4    699     RS  Feminino     39           1         0         2   \n",
       "4   5    850     SC  Feminino     43           2  12551082         1   \n",
       "\n",
       "   TemCartCredito  Ativo     Salario  Saiu  \n",
       "0               1      1  10134888.0     1  \n",
       "1               0      1  11254258.0     0  \n",
       "2               1      0  11393157.0     1  \n",
       "3               0      0   9382663.0     0  \n",
       "4               1      1    790841.0     0  "
      ]
     },
     "execution_count": 5,
     "metadata": {},
     "output_type": "execute_result"
    }
   ],
   "source": [
    "#visulizar\n",
    "dataset.head()"
   ]
  },
  {
   "cell_type": "markdown",
   "metadata": {},
   "source": [
    "Verificar a ocorrência de valores por estado\n",
    "Nesse código, estamos utilizando o método groupby() do Pandas para agrupar os dados do DataFrame **dataset** pela coluna 'Estado'. O método **groupby()** cria grupos de linhas com base nos valores únicos presentes na coluna 'Estado'. Em seguida, aplicamos a função **size()** para contar o número de ocorrências em cada grupo.\n",
    "O resultado é uma série com o número de ocorrências para cada valor único na coluna 'Estado'.\n",
    "**Este comando é aplicado a uma nova variável chamada de 'agrupado' responsável por armazenar o resultado do agrupamento feito pelo método groupby()**"
   ]
  },
  {
   "cell_type": "code",
   "execution_count": 6,
   "metadata": {},
   "outputs": [
    {
     "data": {
      "text/plain": [
       "Estado\n",
       "PR    257\n",
       "RP      1\n",
       "RS    478\n",
       "SC    258\n",
       "SP      4\n",
       "TD      1\n",
       "dtype: int64"
      ]
     },
     "execution_count": 6,
     "metadata": {},
     "output_type": "execute_result"
    }
   ],
   "source": [
    "#explorar dados categoricos\n",
    "#estado\n",
    "agrupado = dataset.groupby(['Estado']).size()\n",
    "agrupado"
   ]
  },
  {
   "cell_type": "markdown",
   "metadata": {},
   "source": [
    "Neste ponto queremos criar um gráfico de barras com base nos dados da variável 'agrupado'. **Plot** é um método do Pandas que permite criar gráficos a partir dos dados de uma série ou DataFrame, se você utilizar apenas plot sem especificação, o Pandas criará um gráfico padrão, que geralmente é um gráfico de linhas, desta forma, cada valor único da coluna 'Estado' será representado no eixo x, e o valor associado (número de ocorrências) será representado no eixo y. O argumento **bar** passado para o método plot indica que queremos criar um gráfico de barras com base nos dados da série 'agrupado'.**color='orange** É um argumento opcional que define a cor das barras no gráfico. Neste caso, estamos definindo a cor das barras como laranja ('orange'). Você pode personalizar as cores como desejar."
   ]
  },
  {
   "cell_type": "code",
   "execution_count": 7,
   "metadata": {},
   "outputs": [
    {
     "data": {
      "text/plain": [
       "<AxesSubplot:xlabel='Estado'>"
      ]
     },
     "execution_count": 7,
     "metadata": {},
     "output_type": "execute_result"
    },
    {
     "data": {
      "image/png": "[encoded data removed]",
      "text/plain": [
       "<Figure size 640x480 with 1 Axes>"
      ]
     },
     "metadata": {},
     "output_type": "display_data"
    }
   ],
   "source": [
    "agrupado.plot.bar(color = 'orange')"
   ]
  },
  {
   "cell_type": "code",
   "execution_count": 8,
   "metadata": {},
   "outputs": [
    {
     "data": {
      "text/plain": [
       "Genero\n",
       "F              2\n",
       "Fem            1\n",
       "Feminino     461\n",
       "M              6\n",
       "Masculino    521\n",
       "dtype: int64"
      ]
     },
     "execution_count": 8,
     "metadata": {},
     "output_type": "execute_result"
    }
   ],
   "source": [
    "#genero\n",
    "agrupado = dataset.groupby(['Genero']).size()\n",
    "agrupado"
   ]
  },
  {
   "cell_type": "code",
   "execution_count": 9,
   "metadata": {},
   "outputs": [
    {
     "data": {
      "text/plain": [
       "<AxesSubplot:xlabel='Genero'>"
      ]
     },
     "execution_count": 9,
     "metadata": {},
     "output_type": "execute_result"
    },
    {
     "data": {
      "image/png": "[encoded data removed]",
      "text/plain": [
       "<Figure size 640x480 with 1 Axes>"
      ]
     },
     "metadata": {},
     "output_type": "display_data"
    }
   ],
   "source": [
    "agrupado.plot.bar(color = 'blue')"
   ]
  },
  {
   "cell_type": "markdown",
   "metadata": {},
   "source": [
    "**dataset['Score']:** Acessa a coluna 'Score' do DataFrame dataset. A notação com colchetes é usada para acessar uma coluna específica de um DataFrame. Nesse caso, estamos selecionando a coluna 'Score', antiga coluna 'xi', do DataFrame dataset.\n",
    "\n",
    "**describe()** é um método do Pandas que é aplicado a uma série (coluna) de um DataFrame. Ele fornece um resumo estatístico dos dados da coluna selecionada. Quando chamamos **dataset['Score'].describe()**, o método describe() é aplicado à coluna 'Score', fornecendo as seguintes estatísticas descritivas:\n",
    "**count**: O número de valores não ausentes na coluna.\n",
    "**mean**: A média dos valores na coluna.\n",
    "**std**: O desvio padrão dos valores na coluna.\n",
    "**min**: O valor mínimo na coluna.\n",
    "**25%**: O primeiro quartil (25º percentil) dos valores na coluna.\n",
    "**50%**: A mediana (50º percentil) dos valores na coluna.\n",
    "**75%**: O terceiro quartil (75º percentil) dos valores na coluna.\n",
    "**max**: O valor máximo na coluna."
   ]
  },
  {
   "cell_type": "code",
   "execution_count": 10,
   "metadata": {},
   "outputs": [
    {
     "data": {
      "text/plain": [
       "count    999.000000\n",
       "mean     648.621622\n",
       "std       98.264219\n",
       "min      376.000000\n",
       "25%      580.000000\n",
       "50%      653.000000\n",
       "75%      721.000000\n",
       "max      850.000000\n",
       "Name: Score, dtype: float64"
      ]
     },
     "execution_count": 10,
     "metadata": {},
     "output_type": "execute_result"
    }
   ],
   "source": [
    "#explorar colunas numéricas\n",
    "#score\n",
    "dataset['Score'].describe()"
   ]
  },
  {
   "cell_type": "markdown",
   "metadata": {},
   "source": [
    "Na aula é passado o seguinte código **srn.boxplot(dataset['Score']).set_title('Score')** para gerar um diagrama de caixa, demonstrando visualmente a distribuição dos dados da coluna 'Score'. Porém, como as aulas são de 2020, ao executar o código dá um warning ao ser utilizado, isto ocorre porque está usando o método boxplot do Seaborn sem especificar o eixo x adequadamente. Consegui corrigir o código usando a função **sns.boxplot()** do seaborn para criar o diagrama de caixa. \n",
    "**x=dataset['Score']**: Especifica a coluna do DataFrame que será usada como eixo x no boxplot. Neste caso, escolhemos a coluna 'Score' do DataFrame dataset. Essa é a coluna que contém os dados que queremos visualizar no boxplot.**color='orange'**: Especifica a cor que será utilizada para colorir os boxes do boxplot. Neste caso, escolhemos a cor laranja. **plt.title('Score')**: Define o título do gráfico como \"Score\"."
   ]
  },
  {
   "cell_type": "code",
   "execution_count": 11,
   "metadata": {},
   "outputs": [
    {
     "data": {
      "text/plain": [
       "Text(0.5, 1.0, 'Score')"
      ]
     },
     "execution_count": 11,
     "metadata": {},
     "output_type": "execute_result"
    },
    {
     "data": {
      "image/png": "[encoded data removed]",
      "text/plain": [
       "<Figure size 640x480 with 1 Axes>"
      ]
     },
     "metadata": {},
     "output_type": "display_data"
    }
   ],
   "source": [
    "srn.boxplot(x=dataset['Score'],color='orange').set_title('Score')"
   ]
  },
  {
   "cell_type": "markdown",
   "metadata": {},
   "source": [
    "Também há Warning ao tentar gerar um histograma dos dados da coluna 'Score.' O código passado srn.distplot(dataset['Score']).set_title('Score'), estó obsoleto, o gráfico distplot está sendo descontinuado. Desta forma,corrigi da seguinte maneira. **dataset['Score']** Especifica a coluna do DataFrame que será usada para criar o histograma. Neste caso, usamos a coluna 'Score' do DataFrame dataset. **stat='density'**: Especifica o tipo de estatística a ser calculada para o eixo y. Neste caso, definimos como \"density\" (densidade) para mostrar a densidade de probabilidade em vez da frequência absoluta no eixo y. Isso permite que o histograma esteja normalizado de modo que a área total sob a curva seja igual a 1.**kde=True**: Especifica se você deseja traçar a estimativa de densidade de kernel (KDE) juntamente com o histograma. O KDE é uma forma suavizada de representar a distribuição de dados em um gráfico, semelhante a um histograma, mas com uma aparência mais suave e contínua.Ao definir kde=True, o KDE será traçado. **set_title('Score')**: Define o título do gráfico como \"Score\". Aqui, estamos usando a função .set_title() para personalizar o título do gráfico."
   ]
  },
  {
   "cell_type": "code",
   "execution_count": 12,
   "metadata": {},
   "outputs": [
    {
     "data": {
      "text/plain": [
       "Text(0.5, 1.0, 'Score')"
      ]
     },
     "execution_count": 12,
     "metadata": {},
     "output_type": "execute_result"
    },
    {
     "data": {
      "image/png": "[encoded data removed]",
      "text/plain": [
       "<Figure size 640x480 with 1 Axes>"
      ]
     },
     "metadata": {},
     "output_type": "display_data"
    }
   ],
   "source": [
    "srn.histplot(dataset['Score'],stat='density',kde=True).set_title('Score')"
   ]
  },
  {
   "cell_type": "code",
   "execution_count": 13,
   "metadata": {},
   "outputs": [
    {
     "data": {
      "text/plain": [
       "count    999.000000\n",
       "mean      38.902903\n",
       "std       11.401912\n",
       "min      -20.000000\n",
       "25%       32.000000\n",
       "50%       37.000000\n",
       "75%       44.000000\n",
       "max      140.000000\n",
       "Name: Idade, dtype: float64"
      ]
     },
     "execution_count": 13,
     "metadata": {},
     "output_type": "execute_result"
    }
   ],
   "source": [
    "#idade\n",
    "dataset['Idade'].describe()"
   ]
  },
  {
   "cell_type": "code",
   "execution_count": 14,
   "metadata": {},
   "outputs": [
    {
     "data": {
      "text/plain": [
       "Text(0.5, 1.0, 'Idade')"
      ]
     },
     "execution_count": 14,
     "metadata": {},
     "output_type": "execute_result"
    },
    {
     "data": {
      "image/png": "[encoded data removed]",
      "text/plain": [
       "<Figure size 640x480 with 1 Axes>"
      ]
     },
     "metadata": {},
     "output_type": "display_data"
    }
   ],
   "source": [
    "'''O código passado também estava obsoleto: srn.boxplot(dataset['Idade']).set_title('Idade'). \n",
    "Foi atualizado conforme as definições anteriores.'''\n",
    "\n",
    "srn.boxplot(x=dataset['Idade'],color='green').set_title('Idade')"
   ]
  },
  {
   "cell_type": "code",
   "execution_count": 15,
   "metadata": {},
   "outputs": [
    {
     "data": {
      "text/plain": [
       "Text(0.5, 1.0, 'Idade')"
      ]
     },
     "execution_count": 15,
     "metadata": {},
     "output_type": "execute_result"
    },
    {
     "data": {
      "image/png": "[encoded data removed]",
      "text/plain": [
       "<Figure size 640x480 with 1 Axes>"
      ]
     },
     "metadata": {},
     "output_type": "display_data"
    }
   ],
   "source": [
    "'''O código passado também estava obsoleto: srn.distplot(dataset['Idade']).set_title('Idade'). \n",
    "Foi atualizado conforme as definições anteriores.'''\n",
    "\n",
    "srn.histplot(dataset['Idade'],stat='density',kde=True).set_title('Idade')"
   ]
  },
  {
   "cell_type": "code",
   "execution_count": 16,
   "metadata": {},
   "outputs": [
    {
     "data": {
      "text/plain": [
       "count    9.990000e+02\n",
       "mean     7.164928e+06\n",
       "std      6.311840e+06\n",
       "min      0.000000e+00\n",
       "25%      0.000000e+00\n",
       "50%      8.958835e+06\n",
       "75%      1.258684e+07\n",
       "max      2.117743e+07\n",
       "Name: Saldo, dtype: float64"
      ]
     },
     "execution_count": 16,
     "metadata": {},
     "output_type": "execute_result"
    }
   ],
   "source": [
    "#saldo\n",
    "dataset['Saldo'].describe()"
   ]
  },
  {
   "cell_type": "code",
   "execution_count": 17,
   "metadata": {},
   "outputs": [
    {
     "data": {
      "text/plain": [
       "Text(0.5, 1.0, 'Saldo')"
      ]
     },
     "execution_count": 17,
     "metadata": {},
     "output_type": "execute_result"
    },
    {
     "data": {
      "image/png": "[encoded data removed]",
      "text/plain": [
       "<Figure size 640x480 with 1 Axes>"
      ]
     },
     "metadata": {},
     "output_type": "display_data"
    }
   ],
   "source": [
    "'''O código passado também estava obsoleto: srn.boxplot(dataset['Saldo']).set_title('Saldo'). \n",
    "Foi atualizado conforme as definições anteriores.'''\n",
    "\n",
    "srn.boxplot(x=dataset['Saldo'],color='yellow').set_title('Saldo')"
   ]
  },
  {
   "cell_type": "code",
   "execution_count": 18,
   "metadata": {},
   "outputs": [
    {
     "data": {
      "text/plain": [
       "Text(0.5, 1.0, 'Saldo')"
      ]
     },
     "execution_count": 18,
     "metadata": {},
     "output_type": "execute_result"
    },
    {
     "data": {
      "image/png": "[encoded data removed]",
      "text/plain": [
       "<Figure size 640x480 with 1 Axes>"
      ]
     },
     "metadata": {},
     "output_type": "display_data"
    }
   ],
   "source": [
    "'''O código passado também estava obsoleto: srn.distplot(dataset['Saldo']).set_title('Saldo'). \n",
    "Foi atualizado conforme as definições anteriores.'''\n",
    "\n",
    "srn.histplot(dataset['Saldo'],stat='density',kde=True).set_title('Saldo')"
   ]
  },
  {
   "cell_type": "code",
   "execution_count": 19,
   "metadata": {},
   "outputs": [
    {
     "data": {
      "text/plain": [
       "count    9.920000e+02\n",
       "mean     3.528762e+07\n",
       "std      5.305800e+08\n",
       "min      9.677000e+03\n",
       "25%      3.029011e+06\n",
       "50%      8.703250e+06\n",
       "75%      1.405213e+07\n",
       "max      1.193469e+10\n",
       "Name: Salario, dtype: float64"
      ]
     },
     "execution_count": 19,
     "metadata": {},
     "output_type": "execute_result"
    }
   ],
   "source": [
    "#salário\n",
    "dataset['Salario'].describe()"
   ]
  },
  {
   "cell_type": "code",
   "execution_count": 20,
   "metadata": {},
   "outputs": [
    {
     "data": {
      "text/plain": [
       "Text(0.5, 1.0, 'Salario')"
      ]
     },
     "execution_count": 20,
     "metadata": {},
     "output_type": "execute_result"
    },
    {
     "data": {
      "image/png": "[encoded data removed]",
      "text/plain": [
       "<Figure size 640x480 with 1 Axes>"
      ]
     },
     "metadata": {},
     "output_type": "display_data"
    }
   ],
   "source": [
    "'''O código passado também estava obsoleto: srn.boxplot(dataset['Salario']).set_title('Salario'). \n",
    "Foi atualizado conforme as definições anteriores.'''\n",
    "\n",
    "srn.boxplot(x=dataset['Salario'],color='gray').set_title('Salario')"
   ]
  },
  {
   "cell_type": "code",
   "execution_count": 21,
   "metadata": {},
   "outputs": [
    {
     "data": {
      "text/plain": [
       "Text(0.5, 1.0, 'Salario')"
      ]
     },
     "execution_count": 21,
     "metadata": {},
     "output_type": "execute_result"
    },
    {
     "data": {
      "image/png": "[encoded data removed]",
      "text/plain": [
       "<Figure size 640x480 with 1 Axes>"
      ]
     },
     "metadata": {},
     "output_type": "display_data"
    }
   ],
   "source": [
    "'''O código passado também estava obsoleto: srn.distplot(dataset['Salario']).set_title('Salario'). \n",
    "Foi atualizado conforme as definições anteriores.'''\n",
    "\n",
    "srn.histplot(dataset['Salario'],stat='density',kde=True).set_title('Salario')"
   ]
  },
  {
   "cell_type": "markdown",
   "metadata": {},
   "source": [
    "O método **isnull()** é usado para verificar se cada elemento do DataFrame é nulo ou não. Ele retorna um DataFrame com o mesmo formato do DataFrame original, mas com valores booleanos (True/False) indicando se cada elemento é nulo ou não. O método **sum()** é aplicado ao DataFrame resultante da verificação de valores nulos, e ele retorna a soma de valores True para cada coluna. "
   ]
  },
  {
   "cell_type": "code",
   "execution_count": 22,
   "metadata": {},
   "outputs": [
    {
     "data": {
      "text/plain": [
       "Id                0\n",
       "Score             0\n",
       "Estado            0\n",
       "Genero            8\n",
       "Idade             0\n",
       "Patrimonio        0\n",
       "Saldo             0\n",
       "Produtos          0\n",
       "TemCartCredito    0\n",
       "Ativo             0\n",
       "Salario           7\n",
       "Saiu              0\n",
       "dtype: int64"
      ]
     },
     "execution_count": 22,
     "metadata": {},
     "output_type": "execute_result"
    }
   ],
   "source": [
    "'''Verificar valores ausentes, NAs 'Not Available/Not Applicable' '''\n",
    "#contamos valores NAN\n",
    "#genero e salário\n",
    "dataset.isnull().sum()"
   ]
  },
  {
   "cell_type": "code",
   "execution_count": 23,
   "metadata": {},
   "outputs": [
    {
     "data": {
      "text/plain": [
       "count    9.920000e+02\n",
       "mean     3.528762e+07\n",
       "std      5.305800e+08\n",
       "min      9.677000e+03\n",
       "25%      3.029011e+06\n",
       "50%      8.703250e+06\n",
       "75%      1.405213e+07\n",
       "max      1.193469e+10\n",
       "Name: Salario, dtype: float64"
      ]
     },
     "execution_count": 23,
     "metadata": {},
     "output_type": "execute_result"
    }
   ],
   "source": [
    "#salarios\n",
    "#remover nas e substiutir pela mediana\n",
    "dataset['Salario'].describe()"
   ]
  },
  {
   "cell_type": "markdown",
   "metadata": {},
   "source": [
    "Escolhemos a mediana e não a média para substituir os valores nulos, uma vez que, os **Outliers** tornam a média não representativa dos dados. Há um problema no código passado em aula: mediana = **sts.median(dataset['Salario'])**, que retorna um valor de mediana: 70518.0, o valor diverge da mediana calculada pelo Excel, **uma explicação para este erro** é que a biblioteca statistics considera os valores nulos presentes na coluna 'Salario'. A função median() da biblioteca statistics calcula a mediana normalmente, incluindo os valores nulos no cálculo. Isso significa que os valores nulos serão considerados para determinar o valor central quando os dados estiverem ordenados. Já se a coluna 'Salario' não contiver nenhum valor numérico (por exemplo, se todos os valores forem nulos), a função median() retornará um erro do tipo statistics.StatisticsError, pois não é possível calcular a mediana sem valores numéricos."
   ]
  },
  {
   "cell_type": "code",
   "execution_count": 24,
   "metadata": {},
   "outputs": [
    {
     "data": {
      "text/plain": [
       "70518.0"
      ]
     },
     "execution_count": 24,
     "metadata": {},
     "output_type": "execute_result"
    }
   ],
   "source": [
    "mediana = sts.median(dataset['Salario'])\n",
    "mediana"
   ]
  },
  {
   "cell_type": "markdown",
   "metadata": {},
   "source": [
    "Uma forma de corrigir isto é utilizar a biblioteca **pandas**, ela calcula a mediana da coluna 'Salario', ignorando os valores nulos.O método **dropna()** é usado para remover os valores nulos da coluna antes de calcular a mediana usando o método median(). Isso garante que a mediana seja calculada apenas com os valores numéricos presentes na coluna 'Salario'."
   ]
  },
  {
   "cell_type": "code",
   "execution_count": 25,
   "metadata": {},
   "outputs": [
    {
     "data": {
      "text/plain": [
       "8703249.5"
      ]
     },
     "execution_count": 25,
     "metadata": {},
     "output_type": "execute_result"
    }
   ],
   "source": [
    "mediana_sem_na = dataset['Salario'].dropna().median()\n",
    "mediana_sem_na"
   ]
  },
  {
   "cell_type": "code",
   "execution_count": 26,
   "metadata": {},
   "outputs": [],
   "source": [
    "#substituir NA por mediana\n",
    "dataset['Salario'].fillna(mediana_sem_na, inplace=True)"
   ]
  },
  {
   "cell_type": "code",
   "execution_count": 27,
   "metadata": {},
   "outputs": [
    {
     "data": {
      "text/plain": [
       "0"
      ]
     },
     "execution_count": 27,
     "metadata": {},
     "output_type": "execute_result"
    }
   ],
   "source": [
    "#Verificamos se NA não existem mais\n",
    "dataset['Salario'].isnull().sum()"
   ]
  },
  {
   "cell_type": "code",
   "execution_count": 28,
   "metadata": {},
   "outputs": [
    {
     "data": {
      "text/plain": [
       "Genero\n",
       "F              2\n",
       "Fem            1\n",
       "Feminino     461\n",
       "M              6\n",
       "Masculino    521\n",
       "dtype: int64"
      ]
     },
     "execution_count": 28,
     "metadata": {},
     "output_type": "execute_result"
    }
   ],
   "source": [
    "#Há uma falta de padronização em relação ao genêro, conforme verificado abaixo:\n",
    "agrupado = dataset.groupby(['Genero']).size()\n",
    "agrupado"
   ]
  },
  {
   "cell_type": "code",
   "execution_count": 29,
   "metadata": {},
   "outputs": [
    {
     "data": {
      "text/plain": [
       "8"
      ]
     },
     "execution_count": 29,
     "metadata": {},
     "output_type": "execute_result"
    }
   ],
   "source": [
    "#Além disto, há também valores nulos na coluna genêro:\n",
    "dataset['Genero'].isnull().sum()"
   ]
  },
  {
   "cell_type": "markdown",
   "metadata": {},
   "source": [
    "Como o genêro que mais aparece, **moda** é o masculino, iremos substituir os valores nulos pelo genêro Masculino. Usamos o **método .fillna('Masculino'** para preencher os valores ausentes na coluna 'Genero' com o valor 'Masculino'. Neste caso, todos os valores NaN(Not a Number) na coluna 'Genero' serão substituídos pelo valor 'Masculino'. Conforme já relatado, **inplace=True**: É um parâmetro opcional, quando inplace=True é usado, as alterações são aplicadas diretamente ao DataFrame original, em vez de criar uma cópia modificada. "
   ]
  },
  {
   "cell_type": "code",
   "execution_count": 30,
   "metadata": {},
   "outputs": [],
   "source": [
    "#preenche NAs com Masculino (moda)\n",
    "dataset['Genero'].fillna('Masculino', inplace=True)"
   ]
  },
  {
   "cell_type": "code",
   "execution_count": 31,
   "metadata": {},
   "outputs": [
    {
     "data": {
      "text/plain": [
       "0"
      ]
     },
     "execution_count": 31,
     "metadata": {},
     "output_type": "execute_result"
    }
   ],
   "source": [
    "#verificamos novamente NANs\n",
    "dataset['Genero'].isnull().sum()"
   ]
  },
  {
   "cell_type": "markdown",
   "metadata": {},
   "source": [
    "Para padronizar os valores M, para Masculino e Fem, F para feminino o professor aplicou o seguinte código:   \n",
    "dataset.loc[dataset['Genero'] ==  'M', 'Genero'] = \"Masculino\"  \n",
    "dataset.loc[dataset['Genero'].isin( ['Fem','F']), 'Genero'] = \"Feminino\"\n",
    "\n",
    "Mas podemos usar a **função replace** que deixa o código mais limpo, nesta opção, estamos utilizando o **método replace()** para substituir os valores 'M' por \"Masculino\" e os valores 'Fem' e 'F' por \"Feminino\" na coluna 'Genero'. **Quando você precisa substituir vários valores diferentes por um único valor, é necessário utilizar uma lista no método replace()**.Como foi o caso de replace(['Fem', 'F']. O parâmetro inplace=True é usado para aplicar as alterações diretamente no DataFrame original. Posteriormente usamos o método **groupby()** do Pandas para agrupar os dados do DataFrame dataset pela coluna 'Genero' e, em seguida, usa o método **size()** para contar o número de ocorrências em cada grupo."
   ]
  },
  {
   "cell_type": "code",
   "execution_count": 32,
   "metadata": {},
   "outputs": [
    {
     "data": {
      "text/plain": [
       "Genero\n",
       "Feminino     464\n",
       "Masculino    535\n",
       "dtype: int64"
      ]
     },
     "execution_count": 32,
     "metadata": {},
     "output_type": "execute_result"
    }
   ],
   "source": [
    "dataset['Genero'].replace('M', 'Masculino', inplace=True)\n",
    "dataset['Genero'].replace(['Fem', 'F'], 'Feminino', inplace=True)\n",
    "\n",
    "#Visualização do resultado\n",
    "agrupar_genero = dataset.groupby(['Genero']).size()\n",
    "agrupar_genero"
   ]
  },
  {
   "cell_type": "code",
   "execution_count": 33,
   "metadata": {},
   "outputs": [
    {
     "data": {
      "text/plain": [
       "count    999.000000\n",
       "mean      38.902903\n",
       "std       11.401912\n",
       "min      -20.000000\n",
       "25%       32.000000\n",
       "50%       37.000000\n",
       "75%       44.000000\n",
       "max      140.000000\n",
       "Name: Idade, dtype: float64"
      ]
     },
     "execution_count": 33,
     "metadata": {},
     "output_type": "execute_result"
    }
   ],
   "source": [
    "#Note que há idades que fogem de um valor plausível, como -20 e 140. \n",
    "dataset['Idade'].describe()"
   ]
  },
  {
   "cell_type": "markdown",
   "metadata": {},
   "source": [
    "Precisamos gerar um intervalo válido para as idades do DataFrame, o intervalo escolhido foi entre 0 e 120. O instrutor havia passado o código:  \n",
    "dataset.loc[(dataset['Idade'] <  0 )  | ( dataset['Idade'] >  120) ]  \n",
    "Uma outra maneira de encontrar estes valores é pelo **método query()**. Para mim, este código fica mais visual. O método query() é usado para selecionar as linhas do DataFrame com base em uma expressão de consulta. Neste caso, a expressão de consulta é 'Idade < 0 or Idade > 120'.A expressão diz que queremos selecionar as linhas em que o valor da coluna 'Idade' seja menor que 0 ou maior que 120."
   ]
  },
  {
   "cell_type": "code",
   "execution_count": 34,
   "metadata": {},
   "outputs": [
    {
     "data": {
      "text/html": [
       "<div>\n",
       "<style scoped>\n",
       "    .dataframe tbody tr th:only-of-type {\n",
       "        vertical-align: middle;\n",
       "    }\n",
       "\n",
       "    .dataframe tbody tr th {\n",
       "        vertical-align: top;\n",
       "    }\n",
       "\n",
       "    .dataframe thead th {\n",
       "        text-align: right;\n",
       "    }\n",
       "</style>\n",
       "<table border=\"1\" class=\"dataframe\">\n",
       "  <thead>\n",
       "    <tr style=\"text-align: right;\">\n",
       "      <th></th>\n",
       "      <th>Id</th>\n",
       "      <th>Score</th>\n",
       "      <th>Estado</th>\n",
       "      <th>Genero</th>\n",
       "      <th>Idade</th>\n",
       "      <th>Patrimonio</th>\n",
       "      <th>Saldo</th>\n",
       "      <th>Produtos</th>\n",
       "      <th>TemCartCredito</th>\n",
       "      <th>Ativo</th>\n",
       "      <th>Salario</th>\n",
       "      <th>Saiu</th>\n",
       "    </tr>\n",
       "  </thead>\n",
       "  <tbody>\n",
       "    <tr>\n",
       "      <th>867</th>\n",
       "      <td>869</td>\n",
       "      <td>636</td>\n",
       "      <td>RS</td>\n",
       "      <td>Feminino</td>\n",
       "      <td>-10</td>\n",
       "      <td>1</td>\n",
       "      <td>17083346</td>\n",
       "      <td>1</td>\n",
       "      <td>1</td>\n",
       "      <td>0</td>\n",
       "      <td>11051028.0</td>\n",
       "      <td>1</td>\n",
       "    </tr>\n",
       "    <tr>\n",
       "      <th>984</th>\n",
       "      <td>986</td>\n",
       "      <td>773</td>\n",
       "      <td>RS</td>\n",
       "      <td>Masculino</td>\n",
       "      <td>-20</td>\n",
       "      <td>1</td>\n",
       "      <td>12453278</td>\n",
       "      <td>2</td>\n",
       "      <td>0</td>\n",
       "      <td>1</td>\n",
       "      <td>1172357.0</td>\n",
       "      <td>0</td>\n",
       "    </tr>\n",
       "    <tr>\n",
       "      <th>990</th>\n",
       "      <td>992</td>\n",
       "      <td>655</td>\n",
       "      <td>RS</td>\n",
       "      <td>Masculino</td>\n",
       "      <td>140</td>\n",
       "      <td>5</td>\n",
       "      <td>93147</td>\n",
       "      <td>2</td>\n",
       "      <td>1</td>\n",
       "      <td>0</td>\n",
       "      <td>6621413.0</td>\n",
       "      <td>0</td>\n",
       "    </tr>\n",
       "  </tbody>\n",
       "</table>\n",
       "</div>"
      ],
      "text/plain": [
       "      Id  Score Estado     Genero  Idade  Patrimonio     Saldo  Produtos  \\\n",
       "867  869    636     RS   Feminino    -10           1  17083346         1   \n",
       "984  986    773     RS  Masculino    -20           1  12453278         2   \n",
       "990  992    655     RS  Masculino    140           5     93147         2   \n",
       "\n",
       "     TemCartCredito  Ativo     Salario  Saiu  \n",
       "867               1      0  11051028.0     1  \n",
       "984               0      1   1172357.0     0  \n",
       "990               1      0   6621413.0     0  "
      ]
     },
     "execution_count": 34,
     "metadata": {},
     "output_type": "execute_result"
    }
   ],
   "source": [
    "dataset_idade_invalida = dataset.query('Idade < 0 or Idade > 120')\n",
    "dataset_idade_invalida"
   ]
  },
  {
   "cell_type": "code",
   "execution_count": 35,
   "metadata": {},
   "outputs": [
    {
     "data": {
      "text/plain": [
       "37"
      ]
     },
     "execution_count": 35,
     "metadata": {},
     "output_type": "execute_result"
    }
   ],
   "source": [
    "\"\"\"Agora precisamos calcular a mediana para substituir os valores discrepantes, como não há valores nulos, \n",
    "podemos utilizar biblioteca statistics\"\"\"\n",
    "mediana_idade = sts.median(dataset['Idade'])\n",
    "mediana_idade"
   ]
  },
  {
   "cell_type": "markdown",
   "metadata": {},
   "source": [
    "Agora precisamos substituir os valores discrepantes pela mediana, para isto, podemos utilizar o **o método loc[].**\n",
    "O método loc[] é usado para selecionar linhas do DataFrame com base na série booleana gerada por uma condição combinada. As linhas onde a série booleana é True (ou seja, onde a idade é menor que 0 ou maior que 120) serão selecionadas.  **(dataset['Idade'] < 0) | (dataset['Idade'] > 120)**: Nesta parte, usamos o operador **|** para combinar as duas condições anteriores. Essa expressão retorna uma série booleana que é True quando a idade é menor que 0 ou maior que 120 e False caso contrário. Desta forma a variável **mediana_idade** é o valor que será atribuído às linhas selecionadas."
   ]
  },
  {
   "cell_type": "code",
   "execution_count": 36,
   "metadata": {},
   "outputs": [],
   "source": [
    "#substituir\n",
    "dataset.loc[(dataset['Idade'] <  0 )  | ( dataset['Idade'] >  120), 'Idade'] = mediana_idade"
   ]
  },
  {
   "cell_type": "code",
   "execution_count": 37,
   "metadata": {},
   "outputs": [
    {
     "data": {
      "text/html": [
       "<div>\n",
       "<style scoped>\n",
       "    .dataframe tbody tr th:only-of-type {\n",
       "        vertical-align: middle;\n",
       "    }\n",
       "\n",
       "    .dataframe tbody tr th {\n",
       "        vertical-align: top;\n",
       "    }\n",
       "\n",
       "    .dataframe thead th {\n",
       "        text-align: right;\n",
       "    }\n",
       "</style>\n",
       "<table border=\"1\" class=\"dataframe\">\n",
       "  <thead>\n",
       "    <tr style=\"text-align: right;\">\n",
       "      <th></th>\n",
       "      <th>Id</th>\n",
       "      <th>Score</th>\n",
       "      <th>Estado</th>\n",
       "      <th>Genero</th>\n",
       "      <th>Idade</th>\n",
       "      <th>Patrimonio</th>\n",
       "      <th>Saldo</th>\n",
       "      <th>Produtos</th>\n",
       "      <th>TemCartCredito</th>\n",
       "      <th>Ativo</th>\n",
       "      <th>Salario</th>\n",
       "      <th>Saiu</th>\n",
       "    </tr>\n",
       "  </thead>\n",
       "  <tbody>\n",
       "  </tbody>\n",
       "</table>\n",
       "</div>"
      ],
      "text/plain": [
       "Empty DataFrame\n",
       "Columns: [Id, Score, Estado, Genero, Idade, Patrimonio, Saldo, Produtos, TemCartCredito, Ativo, Salario, Saiu]\n",
       "Index: []"
      ]
     },
     "execution_count": 37,
     "metadata": {},
     "output_type": "execute_result"
    }
   ],
   "source": [
    "#verificamos se ainda existem idades fora do domínio\n",
    "dataset_idade_invalida = dataset.query('Idade < 0 or Idade > 120')\n",
    "dataset_idade_invalida"
   ]
  },
  {
   "cell_type": "markdown",
   "metadata": {},
   "source": [
    "Agora precisamos verificar se há dados duplicados, como o Id é um elemento único para cada dado, podemos fazer esta verificação com base no id. Utilizamos o **método duplicated** para realizar esta verificação na coluna 'Id'. Assim, o método duplicated() é aplicado ao DataFrame dataset para identificar linhas duplicadas com base nas colunas fornecidas. Neste caso, estamos verificando duplicatas na coluna 'Id'. Ao usar **keep=False** com o método duplicated(), você obtém todas as ocorrências duplicadas (incluindo a primeira e todas as demais ocorrências), isso pode ser útil quando você deseja identificar todas as linhas que contêm valores duplicados em uma coluna específica do DataFrame. Assim todos os valores duplicados são retornados."
   ]
  },
  {
   "cell_type": "code",
   "execution_count": 38,
   "metadata": {},
   "outputs": [
    {
     "data": {
      "text/html": [
       "<div>\n",
       "<style scoped>\n",
       "    .dataframe tbody tr th:only-of-type {\n",
       "        vertical-align: middle;\n",
       "    }\n",
       "\n",
       "    .dataframe tbody tr th {\n",
       "        vertical-align: top;\n",
       "    }\n",
       "\n",
       "    .dataframe thead th {\n",
       "        text-align: right;\n",
       "    }\n",
       "</style>\n",
       "<table border=\"1\" class=\"dataframe\">\n",
       "  <thead>\n",
       "    <tr style=\"text-align: right;\">\n",
       "      <th></th>\n",
       "      <th>Id</th>\n",
       "      <th>Score</th>\n",
       "      <th>Estado</th>\n",
       "      <th>Genero</th>\n",
       "      <th>Idade</th>\n",
       "      <th>Patrimonio</th>\n",
       "      <th>Saldo</th>\n",
       "      <th>Produtos</th>\n",
       "      <th>TemCartCredito</th>\n",
       "      <th>Ativo</th>\n",
       "      <th>Salario</th>\n",
       "      <th>Saiu</th>\n",
       "    </tr>\n",
       "  </thead>\n",
       "  <tbody>\n",
       "    <tr>\n",
       "      <th>80</th>\n",
       "      <td>81</td>\n",
       "      <td>665</td>\n",
       "      <td>RS</td>\n",
       "      <td>Feminino</td>\n",
       "      <td>34</td>\n",
       "      <td>1</td>\n",
       "      <td>9664554</td>\n",
       "      <td>2</td>\n",
       "      <td>0</td>\n",
       "      <td>0</td>\n",
       "      <td>17141366.0</td>\n",
       "      <td>0</td>\n",
       "    </tr>\n",
       "    <tr>\n",
       "      <th>81</th>\n",
       "      <td>81</td>\n",
       "      <td>665</td>\n",
       "      <td>RS</td>\n",
       "      <td>Feminino</td>\n",
       "      <td>34</td>\n",
       "      <td>1</td>\n",
       "      <td>9664554</td>\n",
       "      <td>2</td>\n",
       "      <td>0</td>\n",
       "      <td>0</td>\n",
       "      <td>17141366.0</td>\n",
       "      <td>0</td>\n",
       "    </tr>\n",
       "  </tbody>\n",
       "</table>\n",
       "</div>"
      ],
      "text/plain": [
       "    Id  Score Estado    Genero  Idade  Patrimonio    Saldo  Produtos  \\\n",
       "80  81    665     RS  Feminino     34           1  9664554         2   \n",
       "81  81    665     RS  Feminino     34           1  9664554         2   \n",
       "\n",
       "    TemCartCredito  Ativo     Salario  Saiu  \n",
       "80               0      0  17141366.0     0  \n",
       "81               0      0  17141366.0     0  "
      ]
     },
     "execution_count": 38,
     "metadata": {},
     "output_type": "execute_result"
    }
   ],
   "source": [
    "#dados duplicados, buscamos pelo ID\n",
    "dataset[dataset.duplicated(['Id'],keep=False)]"
   ]
  },
  {
   "cell_type": "markdown",
   "metadata": {},
   "source": [
    "Agora iremos excluir as colunas duplicadas. Podemos usar o método **drop_duplicates()**, que é um método usado para remover as linhas duplicadas com base em critérios específicos.Sobre **subset=\"Id\"**: O argumento subset indica a coluna na qual você deseja verificar duplicatas. Neste caso, estamos verificando duplicatas na coluna 'Id. Já sobre o **keep='first'** O argumento keep controla qual ocorrência de cada duplicata será mantida. Aqui, estamos usando 'first', o que significa que apenas a primeira ocorrência de cada duplicata será mantida e as demais serão removidas. Portanto, removeremos as linhas duplicadas do DataFrame dataset, mantendo apenas a primeira ocorrência de cada duplicata com base na coluna 'Id"
   ]
  },
  {
   "cell_type": "code",
   "execution_count": 39,
   "metadata": {},
   "outputs": [
    {
     "data": {
      "text/html": [
       "<div>\n",
       "<style scoped>\n",
       "    .dataframe tbody tr th:only-of-type {\n",
       "        vertical-align: middle;\n",
       "    }\n",
       "\n",
       "    .dataframe tbody tr th {\n",
       "        vertical-align: top;\n",
       "    }\n",
       "\n",
       "    .dataframe thead th {\n",
       "        text-align: right;\n",
       "    }\n",
       "</style>\n",
       "<table border=\"1\" class=\"dataframe\">\n",
       "  <thead>\n",
       "    <tr style=\"text-align: right;\">\n",
       "      <th></th>\n",
       "      <th>Id</th>\n",
       "      <th>Score</th>\n",
       "      <th>Estado</th>\n",
       "      <th>Genero</th>\n",
       "      <th>Idade</th>\n",
       "      <th>Patrimonio</th>\n",
       "      <th>Saldo</th>\n",
       "      <th>Produtos</th>\n",
       "      <th>TemCartCredito</th>\n",
       "      <th>Ativo</th>\n",
       "      <th>Salario</th>\n",
       "      <th>Saiu</th>\n",
       "    </tr>\n",
       "  </thead>\n",
       "  <tbody>\n",
       "  </tbody>\n",
       "</table>\n",
       "</div>"
      ],
      "text/plain": [
       "Empty DataFrame\n",
       "Columns: [Id, Score, Estado, Genero, Idade, Patrimonio, Saldo, Produtos, TemCartCredito, Ativo, Salario, Saiu]\n",
       "Index: []"
      ]
     },
     "execution_count": 39,
     "metadata": {},
     "output_type": "execute_result"
    }
   ],
   "source": [
    "dataset.drop_duplicates(subset=\"Id\", keep='first',inplace=True)\n",
    "\n",
    "#buscamos duplicados novamente\n",
    "dataset[dataset.duplicated(['Id'],keep=False)]"
   ]
  },
  {
   "cell_type": "code",
   "execution_count": 40,
   "metadata": {},
   "outputs": [
    {
     "data": {
      "text/plain": [
       "Estado\n",
       "PR    257\n",
       "RP      1\n",
       "RS    477\n",
       "SC    258\n",
       "SP      4\n",
       "TD      1\n",
       "dtype: int64"
      ]
     },
     "execution_count": 40,
     "metadata": {},
     "output_type": "execute_result"
    }
   ],
   "source": [
    "#Verificar estados que não fazem parte do domínio, região Sul\n",
    "\n",
    "agrupado = dataset.groupby(['Estado']).size()\n",
    "agrupado"
   ]
  },
  {
   "cell_type": "markdown",
   "metadata": {},
   "source": [
    "Neste caso vamos substituir os valores que não fazem parte do domínio pela moda, neste caso o estado do RS.  \n",
    "O código fornecido pelo instrutor:    \n",
    "dataset.loc[dataset['Estado'].isin( ['RP','SP','TD']), 'Estado'] = \"RS\"  \n",
    "Optei por utilizar **função Replace**."
   ]
  },
  {
   "cell_type": "code",
   "execution_count": 41,
   "metadata": {},
   "outputs": [],
   "source": [
    "dataset['Estado'].replace(['RP','SP','TD'], 'RS', inplace=True)"
   ]
  },
  {
   "cell_type": "code",
   "execution_count": 42,
   "metadata": {},
   "outputs": [
    {
     "data": {
      "text/plain": [
       "Estado\n",
       "PR    257\n",
       "RS    483\n",
       "SC    258\n",
       "dtype: int64"
      ]
     },
     "execution_count": 42,
     "metadata": {},
     "output_type": "execute_result"
    }
   ],
   "source": [
    "#verificamos o resultado\n",
    "agrupado = dataset.groupby(['Estado']).size()\n",
    "agrupado"
   ]
  },
  {
   "cell_type": "markdown",
   "metadata": {},
   "source": [
    "Conforme verificado há valores discrepantes para os dados em 'Salário', uma abordagem que podemos utilizar é considerar dois desvios padrão e os valores que estiverem além  destes dois 2 desvios padrão serão considerados **outliers**. "
   ]
  },
  {
   "cell_type": "code",
   "execution_count": 43,
   "metadata": {},
   "outputs": [
    {
     "data": {
      "text/plain": [
       "528985400.63502765"
      ]
     },
     "execution_count": 43,
     "metadata": {},
     "output_type": "execute_result"
    }
   ],
   "source": [
    "#Calculo do desvio padrão aplicado a coluna Salario.\n",
    "desvio = sts.stdev(dataset['Salario'])\n",
    "desvio"
   ]
  },
  {
   "cell_type": "markdown",
   "metadata": {},
   "source": [
    "Agora iremos verificar apenas as linhas onde o salário é maior ou igual a 2 vezes o valor do desvio padrão. O código fornecido pelo professor era:\n",
    "dataset.loc[dataset['Salario'] >=  2 * desv ]   \n",
    "Preferi usar o **método query**. Note que usamos @desvio para fazer referência à variável desvio, que contém o valor do desvio padrão calculado anteriormente "
   ]
  },
  {
   "cell_type": "code",
   "execution_count": 44,
   "metadata": {},
   "outputs": [
    {
     "data": {
      "text/html": [
       "<div>\n",
       "<style scoped>\n",
       "    .dataframe tbody tr th:only-of-type {\n",
       "        vertical-align: middle;\n",
       "    }\n",
       "\n",
       "    .dataframe tbody tr th {\n",
       "        vertical-align: top;\n",
       "    }\n",
       "\n",
       "    .dataframe thead th {\n",
       "        text-align: right;\n",
       "    }\n",
       "</style>\n",
       "<table border=\"1\" class=\"dataframe\">\n",
       "  <thead>\n",
       "    <tr style=\"text-align: right;\">\n",
       "      <th></th>\n",
       "      <th>Id</th>\n",
       "      <th>Score</th>\n",
       "      <th>Estado</th>\n",
       "      <th>Genero</th>\n",
       "      <th>Idade</th>\n",
       "      <th>Patrimonio</th>\n",
       "      <th>Saldo</th>\n",
       "      <th>Produtos</th>\n",
       "      <th>TemCartCredito</th>\n",
       "      <th>Ativo</th>\n",
       "      <th>Salario</th>\n",
       "      <th>Saiu</th>\n",
       "    </tr>\n",
       "  </thead>\n",
       "  <tbody>\n",
       "    <tr>\n",
       "      <th>7</th>\n",
       "      <td>8</td>\n",
       "      <td>376</td>\n",
       "      <td>PR</td>\n",
       "      <td>Feminino</td>\n",
       "      <td>29</td>\n",
       "      <td>4</td>\n",
       "      <td>11504674</td>\n",
       "      <td>4</td>\n",
       "      <td>1</td>\n",
       "      <td>0</td>\n",
       "      <td>1.193469e+10</td>\n",
       "      <td>1</td>\n",
       "    </tr>\n",
       "    <tr>\n",
       "      <th>116</th>\n",
       "      <td>118</td>\n",
       "      <td>668</td>\n",
       "      <td>PR</td>\n",
       "      <td>Feminino</td>\n",
       "      <td>37</td>\n",
       "      <td>6</td>\n",
       "      <td>1678644</td>\n",
       "      <td>1</td>\n",
       "      <td>1</td>\n",
       "      <td>0</td>\n",
       "      <td>1.156383e+10</td>\n",
       "      <td>0</td>\n",
       "    </tr>\n",
       "    <tr>\n",
       "      <th>170</th>\n",
       "      <td>172</td>\n",
       "      <td>484</td>\n",
       "      <td>RS</td>\n",
       "      <td>Feminino</td>\n",
       "      <td>29</td>\n",
       "      <td>4</td>\n",
       "      <td>13011439</td>\n",
       "      <td>1</td>\n",
       "      <td>1</td>\n",
       "      <td>0</td>\n",
       "      <td>1.640179e+09</td>\n",
       "      <td>0</td>\n",
       "    </tr>\n",
       "    <tr>\n",
       "      <th>230</th>\n",
       "      <td>232</td>\n",
       "      <td>673</td>\n",
       "      <td>RS</td>\n",
       "      <td>Masculino</td>\n",
       "      <td>72</td>\n",
       "      <td>1</td>\n",
       "      <td>0</td>\n",
       "      <td>2</td>\n",
       "      <td>0</td>\n",
       "      <td>1</td>\n",
       "      <td>1.119812e+09</td>\n",
       "      <td>0</td>\n",
       "    </tr>\n",
       "  </tbody>\n",
       "</table>\n",
       "</div>"
      ],
      "text/plain": [
       "      Id  Score Estado     Genero  Idade  Patrimonio     Saldo  Produtos  \\\n",
       "7      8    376     PR   Feminino     29           4  11504674         4   \n",
       "116  118    668     PR   Feminino     37           6   1678644         1   \n",
       "170  172    484     RS   Feminino     29           4  13011439         1   \n",
       "230  232    673     RS  Masculino     72           1         0         2   \n",
       "\n",
       "     TemCartCredito  Ativo       Salario  Saiu  \n",
       "7                 1      0  1.193469e+10     1  \n",
       "116               1      0  1.156383e+10     0  \n",
       "170               1      0  1.640179e+09     0  \n",
       "230               0      1  1.119812e+09     0  "
      ]
     },
     "execution_count": 44,
     "metadata": {},
     "output_type": "execute_result"
    }
   ],
   "source": [
    "dataset_filtrado = dataset.query('Salario >= 2 * @desvio')\n",
    "dataset_filtrado"
   ]
  },
  {
   "cell_type": "markdown",
   "metadata": {},
   "source": [
    "Nos iremos substituir os valores pela mediana, conforme já mencionado, há duas maneiras de calcular a mediana pela biblioteca **statistics** que inclui valores nulos, ou pela biblioteca **pandas**, como anteriormente já tratamos os valores nulos, agora poderemos utilizar a biblioteca statistics."
   ]
  },
  {
   "cell_type": "code",
   "execution_count": 45,
   "metadata": {},
   "outputs": [
    {
     "data": {
      "text/plain": [
       "8703249.5"
      ]
     },
     "execution_count": 45,
     "metadata": {},
     "output_type": "execute_result"
    }
   ],
   "source": [
    "#vamos atualiar salarios para mediana, calculamos\n",
    "mediana = sts.median(dataset['Salario'])\n",
    "mediana"
   ]
  },
  {
   "cell_type": "markdown",
   "metadata": {},
   "source": [
    "Agora podemos substituir os outliers pela mediana, para isto, podemos utilizar o **o método loc[].**, já explicado anteriormente."
   ]
  },
  {
   "cell_type": "code",
   "execution_count": 48,
   "metadata": {},
   "outputs": [
    {
     "data": {
      "text/html": [
       "<div>\n",
       "<style scoped>\n",
       "    .dataframe tbody tr th:only-of-type {\n",
       "        vertical-align: middle;\n",
       "    }\n",
       "\n",
       "    .dataframe tbody tr th {\n",
       "        vertical-align: top;\n",
       "    }\n",
       "\n",
       "    .dataframe thead th {\n",
       "        text-align: right;\n",
       "    }\n",
       "</style>\n",
       "<table border=\"1\" class=\"dataframe\">\n",
       "  <thead>\n",
       "    <tr style=\"text-align: right;\">\n",
       "      <th></th>\n",
       "      <th>Id</th>\n",
       "      <th>Score</th>\n",
       "      <th>Estado</th>\n",
       "      <th>Genero</th>\n",
       "      <th>Idade</th>\n",
       "      <th>Patrimonio</th>\n",
       "      <th>Saldo</th>\n",
       "      <th>Produtos</th>\n",
       "      <th>TemCartCredito</th>\n",
       "      <th>Ativo</th>\n",
       "      <th>Salario</th>\n",
       "      <th>Saiu</th>\n",
       "    </tr>\n",
       "  </thead>\n",
       "  <tbody>\n",
       "  </tbody>\n",
       "</table>\n",
       "</div>"
      ],
      "text/plain": [
       "Empty DataFrame\n",
       "Columns: [Id, Score, Estado, Genero, Idade, Patrimonio, Saldo, Produtos, TemCartCredito, Ativo, Salario, Saiu]\n",
       "Index: []"
      ]
     },
     "execution_count": 48,
     "metadata": {},
     "output_type": "execute_result"
    }
   ],
   "source": [
    "dataset.loc[dataset['Salario'] >=  2 * desvio, 'Salario'] = mediana\n",
    "\n",
    "#Verificamos novamente se há ainda valores fora do intervalo de 2 desvios padrão\n",
    "dataset.loc[dataset['Salario'] >=  2 * desvio ] "
   ]
  },
  {
   "cell_type": "code",
   "execution_count": 49,
   "metadata": {},
   "outputs": [
    {
     "data": {
      "text/html": [
       "<div>\n",
       "<style scoped>\n",
       "    .dataframe tbody tr th:only-of-type {\n",
       "        vertical-align: middle;\n",
       "    }\n",
       "\n",
       "    .dataframe tbody tr th {\n",
       "        vertical-align: top;\n",
       "    }\n",
       "\n",
       "    .dataframe thead th {\n",
       "        text-align: right;\n",
       "    }\n",
       "</style>\n",
       "<table border=\"1\" class=\"dataframe\">\n",
       "  <thead>\n",
       "    <tr style=\"text-align: right;\">\n",
       "      <th></th>\n",
       "      <th>Id</th>\n",
       "      <th>Score</th>\n",
       "      <th>Estado</th>\n",
       "      <th>Genero</th>\n",
       "      <th>Idade</th>\n",
       "      <th>Patrimonio</th>\n",
       "      <th>Saldo</th>\n",
       "      <th>Produtos</th>\n",
       "      <th>TemCartCredito</th>\n",
       "      <th>Ativo</th>\n",
       "      <th>Salario</th>\n",
       "      <th>Saiu</th>\n",
       "    </tr>\n",
       "  </thead>\n",
       "  <tbody>\n",
       "    <tr>\n",
       "      <th>0</th>\n",
       "      <td>1</td>\n",
       "      <td>619</td>\n",
       "      <td>RS</td>\n",
       "      <td>Feminino</td>\n",
       "      <td>42</td>\n",
       "      <td>2</td>\n",
       "      <td>0</td>\n",
       "      <td>1</td>\n",
       "      <td>1</td>\n",
       "      <td>1</td>\n",
       "      <td>10134888.0</td>\n",
       "      <td>1</td>\n",
       "    </tr>\n",
       "    <tr>\n",
       "      <th>1</th>\n",
       "      <td>2</td>\n",
       "      <td>608</td>\n",
       "      <td>SC</td>\n",
       "      <td>Feminino</td>\n",
       "      <td>41</td>\n",
       "      <td>1</td>\n",
       "      <td>8380786</td>\n",
       "      <td>1</td>\n",
       "      <td>0</td>\n",
       "      <td>1</td>\n",
       "      <td>11254258.0</td>\n",
       "      <td>0</td>\n",
       "    </tr>\n",
       "    <tr>\n",
       "      <th>2</th>\n",
       "      <td>3</td>\n",
       "      <td>502</td>\n",
       "      <td>RS</td>\n",
       "      <td>Feminino</td>\n",
       "      <td>42</td>\n",
       "      <td>8</td>\n",
       "      <td>1596608</td>\n",
       "      <td>3</td>\n",
       "      <td>1</td>\n",
       "      <td>0</td>\n",
       "      <td>11393157.0</td>\n",
       "      <td>1</td>\n",
       "    </tr>\n",
       "    <tr>\n",
       "      <th>3</th>\n",
       "      <td>4</td>\n",
       "      <td>699</td>\n",
       "      <td>RS</td>\n",
       "      <td>Feminino</td>\n",
       "      <td>39</td>\n",
       "      <td>1</td>\n",
       "      <td>0</td>\n",
       "      <td>2</td>\n",
       "      <td>0</td>\n",
       "      <td>0</td>\n",
       "      <td>9382663.0</td>\n",
       "      <td>0</td>\n",
       "    </tr>\n",
       "    <tr>\n",
       "      <th>4</th>\n",
       "      <td>5</td>\n",
       "      <td>850</td>\n",
       "      <td>SC</td>\n",
       "      <td>Feminino</td>\n",
       "      <td>43</td>\n",
       "      <td>2</td>\n",
       "      <td>12551082</td>\n",
       "      <td>1</td>\n",
       "      <td>1</td>\n",
       "      <td>1</td>\n",
       "      <td>790841.0</td>\n",
       "      <td>0</td>\n",
       "    </tr>\n",
       "  </tbody>\n",
       "</table>\n",
       "</div>"
      ],
      "text/plain": [
       "   Id  Score Estado    Genero  Idade  Patrimonio     Saldo  Produtos  \\\n",
       "0   1    619     RS  Feminino     42           2         0         1   \n",
       "1   2    608     SC  Feminino     41           1   8380786         1   \n",
       "2   3    502     RS  Feminino     42           8   1596608         3   \n",
       "3   4    699     RS  Feminino     39           1         0         2   \n",
       "4   5    850     SC  Feminino     43           2  12551082         1   \n",
       "\n",
       "   TemCartCredito  Ativo     Salario  Saiu  \n",
       "0               1      1  10134888.0     1  \n",
       "1               0      1  11254258.0     0  \n",
       "2               1      0  11393157.0     1  \n",
       "3               0      0   9382663.0     0  \n",
       "4               1      1    790841.0     0  "
      ]
     },
     "execution_count": 49,
     "metadata": {},
     "output_type": "execute_result"
    }
   ],
   "source": [
    "#Verificando novamente a estrutura dos dados\n",
    "dataset.head()"
   ]
  },
  {
   "cell_type": "code",
   "execution_count": 50,
   "metadata": {},
   "outputs": [
    {
     "data": {
      "text/plain": [
       "(998, 12)"
      ]
     },
     "execution_count": 50,
     "metadata": {},
     "output_type": "execute_result"
    }
   ],
   "source": [
    "#Uma linha duplicada foi removida\n",
    "dataset.shape"
   ]
  }
 ],
 "metadata": {
  "kernelspec": {
   "display_name": "Python 3 (ipykernel)",
   "language": "python",
   "name": "python3"
  },
  "language_info": {
   "codemirror_mode": {
    "name": "ipython",
    "version": 3
   },
   "file_extension": ".py",
   "mimetype": "text/x-python",
   "name": "python",
   "nbconvert_exporter": "python",
   "pygments_lexer": "ipython3",
   "version": "3.9.13"
  }
 },
 "nbformat": 4,
 "nbformat_minor": 4
}
