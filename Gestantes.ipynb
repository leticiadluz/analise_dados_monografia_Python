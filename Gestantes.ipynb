{
 "cells": [
  {
   "cell_type": "code",
   "execution_count": 1,
   "id": "25ee4cde",
   "metadata": {},
   "outputs": [],
   "source": [
    "# Importação das bibliotecas\n",
    "import pandas as pd\n",
    "import numpy as np\n",
    "import seaborn as sns\n",
    "import matplotlib.pyplot as plt\n",
    "from sklearn.linear_model import LinearRegression\n",
    "import statsmodels.formula.api as sm"
   ]
  },
  {
   "cell_type": "markdown",
   "id": "14702c35",
   "metadata": {},
   "source": [
    "**Carregamento da base de dados**: Utilizando a **função read** do panda, iremos ler e criar um DataFrame a partir do arquivo original. Neste arquivo em questão o delimitador não é uma vírgula (,) e sim o ponto e vírgulo (;), desta forma, precisamos indicar o delimitador correto por meio do parâmetro **sep.**"
   ]
  },
  {
   "cell_type": "code",
   "execution_count": 2,
   "id": "cbc46c55",
   "metadata": {},
   "outputs": [],
   "source": [
    "dados_gestantes = pd.read_csv('dadosgestantes.csv', sep=';')"
   ]
  },
  {
   "cell_type": "code",
   "execution_count": 3,
   "id": "cc1599d3",
   "metadata": {},
   "outputs": [
    {
     "data": {
      "text/plain": [
       "(17, 4)"
      ]
     },
     "execution_count": 3,
     "metadata": {},
     "output_type": "execute_result"
    }
   ],
   "source": [
    "#Tamanho do dataframe: linhas e colunas, respectivamente.\n",
    "dados_gestantes.shape"
   ]
  },
  {
   "cell_type": "code",
   "execution_count": 4,
   "id": "04e347c7",
   "metadata": {},
   "outputs": [
    {
     "data": {
      "text/html": [
       "<div>\n",
       "<style scoped>\n",
       "    .dataframe tbody tr th:only-of-type {\n",
       "        vertical-align: middle;\n",
       "    }\n",
       "\n",
       "    .dataframe tbody tr th {\n",
       "        vertical-align: top;\n",
       "    }\n",
       "\n",
       "    .dataframe thead th {\n",
       "        text-align: right;\n",
       "    }\n",
       "</style>\n",
       "<table border=\"1\" class=\"dataframe\">\n",
       "  <thead>\n",
       "    <tr style=\"text-align: right;\">\n",
       "      <th></th>\n",
       "      <th>Paciente</th>\n",
       "      <th>Idade da gestante</th>\n",
       "      <th>Idade gestacional em semanas</th>\n",
       "      <th>dias entre infeccao e parto</th>\n",
       "    </tr>\n",
       "  </thead>\n",
       "  <tbody>\n",
       "    <tr>\n",
       "      <th>0</th>\n",
       "      <td>A</td>\n",
       "      <td>45.0</td>\n",
       "      <td>26.0</td>\n",
       "      <td>3</td>\n",
       "    </tr>\n",
       "    <tr>\n",
       "      <th>1</th>\n",
       "      <td>B</td>\n",
       "      <td>38.0</td>\n",
       "      <td>28.0</td>\n",
       "      <td>3</td>\n",
       "    </tr>\n",
       "    <tr>\n",
       "      <th>2</th>\n",
       "      <td>C</td>\n",
       "      <td>29.0</td>\n",
       "      <td>34.0</td>\n",
       "      <td>0</td>\n",
       "    </tr>\n",
       "    <tr>\n",
       "      <th>3</th>\n",
       "      <td>D</td>\n",
       "      <td>37.0</td>\n",
       "      <td>34.0</td>\n",
       "      <td>0</td>\n",
       "    </tr>\n",
       "    <tr>\n",
       "      <th>4</th>\n",
       "      <td>E</td>\n",
       "      <td>23.0</td>\n",
       "      <td>36.0</td>\n",
       "      <td>0</td>\n",
       "    </tr>\n",
       "  </tbody>\n",
       "</table>\n",
       "</div>"
      ],
      "text/plain": [
       "  Paciente  Idade da gestante  Idade gestacional em semanas  \\\n",
       "0        A               45.0                          26.0   \n",
       "1        B               38.0                          28.0   \n",
       "2        C               29.0                          34.0   \n",
       "3        D               37.0                          34.0   \n",
       "4        E               23.0                          36.0   \n",
       "\n",
       "   dias entre infeccao e parto  \n",
       "0                            3  \n",
       "1                            3  \n",
       "2                            0  \n",
       "3                            0  \n",
       "4                            0  "
      ]
     },
     "execution_count": 4,
     "metadata": {},
     "output_type": "execute_result"
    }
   ],
   "source": [
    "#Visão geral dos dados\n",
    "dados_gestantes.head()"
   ]
  },
  {
   "cell_type": "code",
   "execution_count": 5,
   "id": "b9043f4c",
   "metadata": {},
   "outputs": [
    {
     "data": {
      "text/plain": [
       "Paciente                        0\n",
       "Idade da gestante               2\n",
       "Idade gestacional em semanas    2\n",
       "dias entre infeccao e parto     0\n",
       "dtype: int64"
      ]
     },
     "execution_count": 5,
     "metadata": {},
     "output_type": "execute_result"
    }
   ],
   "source": [
    "#verificando dados nulos em cada coluna\n",
    "dados_gestantes.isnull().sum()"
   ]
  },
  {
   "cell_type": "code",
   "execution_count": 6,
   "id": "7f99dd20",
   "metadata": {},
   "outputs": [
    {
     "data": {
      "text/plain": [
       "0"
      ]
     },
     "execution_count": 6,
     "metadata": {},
     "output_type": "execute_result"
    }
   ],
   "source": [
    "#verificando se há dados duplicados por meio da coluna: 'Paciente'\n",
    "dados_gestantes['Paciente'].duplicated().sum()"
   ]
  },
  {
   "cell_type": "code",
   "execution_count": 7,
   "id": "83fe9bea",
   "metadata": {},
   "outputs": [
    {
     "data": {
      "text/html": [
       "<div>\n",
       "<style scoped>\n",
       "    .dataframe tbody tr th:only-of-type {\n",
       "        vertical-align: middle;\n",
       "    }\n",
       "\n",
       "    .dataframe tbody tr th {\n",
       "        vertical-align: top;\n",
       "    }\n",
       "\n",
       "    .dataframe thead th {\n",
       "        text-align: right;\n",
       "    }\n",
       "</style>\n",
       "<table border=\"1\" class=\"dataframe\">\n",
       "  <thead>\n",
       "    <tr style=\"text-align: right;\">\n",
       "      <th></th>\n",
       "      <th>Idade da gestante</th>\n",
       "      <th>Idade gestacional em semanas</th>\n",
       "      <th>dias entre infeccao e parto</th>\n",
       "    </tr>\n",
       "  </thead>\n",
       "  <tbody>\n",
       "    <tr>\n",
       "      <th>count</th>\n",
       "      <td>15.000000</td>\n",
       "      <td>15.000000</td>\n",
       "      <td>17.000000</td>\n",
       "    </tr>\n",
       "    <tr>\n",
       "      <th>mean</th>\n",
       "      <td>30.533333</td>\n",
       "      <td>30.133333</td>\n",
       "      <td>35.823529</td>\n",
       "    </tr>\n",
       "    <tr>\n",
       "      <th>std</th>\n",
       "      <td>6.854265</td>\n",
       "      <td>7.799878</td>\n",
       "      <td>56.714455</td>\n",
       "    </tr>\n",
       "    <tr>\n",
       "      <th>min</th>\n",
       "      <td>22.000000</td>\n",
       "      <td>8.000000</td>\n",
       "      <td>0.000000</td>\n",
       "    </tr>\n",
       "    <tr>\n",
       "      <th>25%</th>\n",
       "      <td>26.000000</td>\n",
       "      <td>27.000000</td>\n",
       "      <td>3.000000</td>\n",
       "    </tr>\n",
       "    <tr>\n",
       "      <th>50%</th>\n",
       "      <td>29.000000</td>\n",
       "      <td>34.000000</td>\n",
       "      <td>12.000000</td>\n",
       "    </tr>\n",
       "    <tr>\n",
       "      <th>75%</th>\n",
       "      <td>35.500000</td>\n",
       "      <td>34.500000</td>\n",
       "      <td>46.000000</td>\n",
       "    </tr>\n",
       "    <tr>\n",
       "      <th>max</th>\n",
       "      <td>45.000000</td>\n",
       "      <td>38.000000</td>\n",
       "      <td>231.000000</td>\n",
       "    </tr>\n",
       "  </tbody>\n",
       "</table>\n",
       "</div>"
      ],
      "text/plain": [
       "       Idade da gestante  Idade gestacional em semanas  \\\n",
       "count          15.000000                     15.000000   \n",
       "mean           30.533333                     30.133333   \n",
       "std             6.854265                      7.799878   \n",
       "min            22.000000                      8.000000   \n",
       "25%            26.000000                     27.000000   \n",
       "50%            29.000000                     34.000000   \n",
       "75%            35.500000                     34.500000   \n",
       "max            45.000000                     38.000000   \n",
       "\n",
       "       dias entre infeccao e parto  \n",
       "count                    17.000000  \n",
       "mean                     35.823529  \n",
       "std                      56.714455  \n",
       "min                       0.000000  \n",
       "25%                       3.000000  \n",
       "50%                      12.000000  \n",
       "75%                      46.000000  \n",
       "max                     231.000000  "
      ]
     },
     "execution_count": 7,
     "metadata": {},
     "output_type": "execute_result"
    }
   ],
   "source": [
    "#Verificando as estatísticas descritivas das colunas numéricas:\n",
    "dados_gestantes.describe()"
   ]
  },
  {
   "cell_type": "code",
   "execution_count": 8,
   "id": "0e4288fe",
   "metadata": {},
   "outputs": [
    {
     "data": {
      "text/html": [
       "<div>\n",
       "<style scoped>\n",
       "    .dataframe tbody tr th:only-of-type {\n",
       "        vertical-align: middle;\n",
       "    }\n",
       "\n",
       "    .dataframe tbody tr th {\n",
       "        vertical-align: top;\n",
       "    }\n",
       "\n",
       "    .dataframe thead th {\n",
       "        text-align: right;\n",
       "    }\n",
       "</style>\n",
       "<table border=\"1\" class=\"dataframe\">\n",
       "  <thead>\n",
       "    <tr style=\"text-align: right;\">\n",
       "      <th></th>\n",
       "      <th>Paciente</th>\n",
       "      <th>Idade da gestante</th>\n",
       "      <th>Idade gestacional em semanas</th>\n",
       "      <th>dias entre infeccao e parto</th>\n",
       "    </tr>\n",
       "  </thead>\n",
       "  <tbody>\n",
       "    <tr>\n",
       "      <th>15</th>\n",
       "      <td>P</td>\n",
       "      <td>NaN</td>\n",
       "      <td>NaN</td>\n",
       "      <td>53</td>\n",
       "    </tr>\n",
       "    <tr>\n",
       "      <th>16</th>\n",
       "      <td>Q</td>\n",
       "      <td>NaN</td>\n",
       "      <td>NaN</td>\n",
       "      <td>6</td>\n",
       "    </tr>\n",
       "  </tbody>\n",
       "</table>\n",
       "</div>"
      ],
      "text/plain": [
       "   Paciente  Idade da gestante  Idade gestacional em semanas  \\\n",
       "15        P                NaN                           NaN   \n",
       "16        Q                NaN                           NaN   \n",
       "\n",
       "    dias entre infeccao e parto  \n",
       "15                           53  \n",
       "16                            6  "
      ]
     },
     "execution_count": 8,
     "metadata": {},
     "output_type": "execute_result"
    }
   ],
   "source": [
    "#Buscando os valores nulos da coluna 'idade da gestante':\n",
    "dados_gestantes[dados_gestantes['Idade da gestante'].isnull()]"
   ]
  },
  {
   "cell_type": "code",
   "execution_count": 9,
   "id": "efce14ea",
   "metadata": {},
   "outputs": [],
   "source": [
    "#Usamos o método fillna(30, inplace=True) para preencher os valores nulos na coluna com um valor específico, neste caso, a média.\n",
    "dados_gestantes['Idade da gestante'].fillna(30, inplace=True)"
   ]
  },
  {
   "cell_type": "code",
   "execution_count": 10,
   "id": "d9fc46a6",
   "metadata": {},
   "outputs": [
    {
     "data": {
      "text/html": [
       "<div>\n",
       "<style scoped>\n",
       "    .dataframe tbody tr th:only-of-type {\n",
       "        vertical-align: middle;\n",
       "    }\n",
       "\n",
       "    .dataframe tbody tr th {\n",
       "        vertical-align: top;\n",
       "    }\n",
       "\n",
       "    .dataframe thead th {\n",
       "        text-align: right;\n",
       "    }\n",
       "</style>\n",
       "<table border=\"1\" class=\"dataframe\">\n",
       "  <thead>\n",
       "    <tr style=\"text-align: right;\">\n",
       "      <th></th>\n",
       "      <th>Paciente</th>\n",
       "      <th>Idade da gestante</th>\n",
       "      <th>Idade gestacional em semanas</th>\n",
       "      <th>dias entre infeccao e parto</th>\n",
       "    </tr>\n",
       "  </thead>\n",
       "  <tbody>\n",
       "  </tbody>\n",
       "</table>\n",
       "</div>"
      ],
      "text/plain": [
       "Empty DataFrame\n",
       "Columns: [Paciente, Idade da gestante, Idade gestacional em semanas, dias entre infeccao e parto]\n",
       "Index: []"
      ]
     },
     "execution_count": 10,
     "metadata": {},
     "output_type": "execute_result"
    }
   ],
   "source": [
    "#Buscando novamente os valores nulos da coluna 'idade da gestante':\n",
    "dados_gestantes[dados_gestantes['Idade da gestante'].isnull()]"
   ]
  },
  {
   "cell_type": "markdown",
   "id": "a5f3eebc",
   "metadata": {},
   "source": [
    "Outra forma de substituir os valores é por meio do método loc.   **dados_gestantes.loc[dados_gestantes['Idade da gestante'].isnull(), 'Idade da gestante'] = 30**. Neste caso o método Loc seleciona as linhas correspondentes onde a série booleana é True. Neste exemplo, a série booleana apresenta True nas posições onde os valores são nulos e False onde não são. Posteriormente,atribuimos o valor 30 às posições selecionadas pelas linhas e coluna especificadas, substituindo os valores nulos."
   ]
  },
  {
   "cell_type": "code",
   "execution_count": 11,
   "id": "c0b7d468",
   "metadata": {},
   "outputs": [
    {
     "data": {
      "text/plain": [
       "<bound method Series.sort_values of dias entre infeccao e parto\n",
       "0      4\n",
       "3      2\n",
       "4      1\n",
       "6      1\n",
       "12     1\n",
       "26     1\n",
       "33     1\n",
       "42     1\n",
       "46     1\n",
       "53     1\n",
       "74     1\n",
       "76     1\n",
       "231    1\n",
       "dtype: int64>"
      ]
     },
     "execution_count": 11,
     "metadata": {},
     "output_type": "execute_result"
    }
   ],
   "source": [
    "#Verificar a ocorrência de valores pela coluna 'dias entre infecção e parto' em ordem descrescente.\n",
    "dados_gestantes.groupby('dias entre infeccao e parto').size().sort_values"
   ]
  },
  {
   "cell_type": "markdown",
   "id": "da4ceaae",
   "metadata": {},
   "source": [
    "Agora queremos criar um **Histograma em relação ao intervalo entre a infecção e o parto(dias)**   Explicando o código: **np.histogram():**   Essa função é parte da biblioteca NumPy (np) e é usada para calcular a distribuição de frequência dos dados passados para ela. Ela retorna dois valores: o primeiro valor é uma array contendo a contagem de elementos em cada intervalo (ou bin) e o segundo valor é um array contendo as bordas dos bins (os pontos de corte dos intervalos). **['dias entre infeccao e parto']** está selecionando todas as linhas desta coluna, **bins = 7:** Nesse caso, o parâmetro bins é utilizado para especificar o número de intervalos que desejamos na distribuição de frequência. O valor 7 indica que o histograma será dividido em 7 intervalos."
   ]
  },
  {
   "cell_type": "code",
   "execution_count": 12,
   "id": "55c7de4b",
   "metadata": {},
   "outputs": [
    {
     "data": {
      "text/plain": [
       "(array([10,  4,  2,  0,  0,  0,  1], dtype=int64),\n",
       " array([  0.,  33.,  66.,  99., 132., 165., 198., 231.]))"
      ]
     },
     "execution_count": 12,
     "metadata": {},
     "output_type": "execute_result"
    }
   ],
   "source": [
    "histograma= np.histogram(dados_gestantes['dias entre infeccao e parto'], bins = 7)\n",
    "histograma"
   ]
  },
  {
   "cell_type": "markdown",
   "id": "e11269c9",
   "metadata": {},
   "source": [
    "Perceba que o **primeiro array** representa a contagem de elementos em cada intervalo. O primeiro valor, 10, indica que há 10 elementos no intervalo de 0 a 33, o segundo valor, 4, indica que há 2 elementos no intervalo de 33 a 66, e assim por diante.\n",
    "**A segunda array** representa as bordas dos bins (pontos de corte dos intervalos)."
   ]
  },
  {
   "cell_type": "markdown",
   "id": "9a7c29d0",
   "metadata": {},
   "source": [
    "**É possível percerber que há tres intervalos que ficaram com a contagem de elementos igual a zero**. Um histograma com intervalo de contagem zerada pode levar a interpretações errôneas dos dados e fornecer uma representação distorcida da distribuição dos valores. Existem várias abordagens comuns para ajudar a escolher o número de bins de um histograma: **Regra de Freedman-Diaconis:** A regra é baseada na amplitude interquartil dos dados (a diferença entre o terceiro quartil e o primeiro quartil) e o tamanho do conjunto de dados. A fórmula para calcular o número de bins é: **bins = 2 * (IQR) / (n^(1/3))** IQR: Amplitude interquartil (terceiro quartil - primeiro quartil).n: Número de observações no conjunto de dados."
   ]
  },
  {
   "cell_type": "code",
   "execution_count": 13,
   "id": "5a29bb18",
   "metadata": {},
   "outputs": [
    {
     "data": {
      "text/plain": [
       "43.0"
      ]
     },
     "execution_count": 13,
     "metadata": {},
     "output_type": "execute_result"
    }
   ],
   "source": [
    "# Calculando o primeiro quartil (Q1)\n",
    "q1 = dados_gestantes['dias entre infeccao e parto'].quantile(0.25)\n",
    "\n",
    "# Calculando o terceiro quartil (Q3)\n",
    "q3 = dados_gestantes['dias entre infeccao e parto'].quantile(0.75)\n",
    "\n",
    "# Calcular a amplitude interquartil (IQR)\n",
    "iqr = q3 - q1\n",
    "iqr"
   ]
  },
  {
   "cell_type": "code",
   "execution_count": 14,
   "id": "8241d975",
   "metadata": {},
   "outputs": [
    {
     "data": {
      "text/plain": [
       "33.44635621102255"
      ]
     },
     "execution_count": 14,
     "metadata": {},
     "output_type": "execute_result"
    }
   ],
   "source": [
    "# Calcular o número de dados (n)\n",
    "n = len(dados_gestantes['dias entre infeccao e parto'])\n",
    "\n",
    "# Calcular o número de bins\n",
    "bins = 2 * iqr / (n**(1/3))\n",
    "bins"
   ]
  },
  {
   "cell_type": "code",
   "execution_count": 15,
   "id": "593dae54",
   "metadata": {},
   "outputs": [
    {
     "data": {
      "text/plain": [
       "(array([8, 1, 0, 1, 1, 0, 2, 1, 0, 0, 2, 0, 0, 0, 0, 0, 0, 0, 0, 0, 0, 0,\n",
       "        0, 0, 0, 0, 0, 0, 0, 0, 0, 0, 1], dtype=int64),\n",
       " array([  0.,   7.,  14.,  21.,  28.,  35.,  42.,  49.,  56.,  63.,  70.,\n",
       "         77.,  84.,  91.,  98., 105., 112., 119., 126., 133., 140., 147.,\n",
       "        154., 161., 168., 175., 182., 189., 196., 203., 210., 217., 224.,\n",
       "        231.]))"
      ]
     },
     "execution_count": 15,
     "metadata": {},
     "output_type": "execute_result"
    }
   ],
   "source": [
    "histograma= np.histogram(dados_gestantes['dias entre infeccao e parto'], bins = 33)\n",
    "histograma"
   ]
  },
  {
   "cell_type": "markdown",
   "id": "0c47d19f",
   "metadata": {},
   "source": [
    "Notoriamente o histograma ainda não representa uma frequencia de distribuição ideal, um outro método para calcular o número de bins é **Regra de Sturges:** Essa regra é simples e amplamente utilizada, mas pode não ser a melhor escolha para conjuntos de dados muito grandes ou com distribuições complexas. A regra sugere que o número de bins seja igual a **1 + log2(n)**, onde n é o número de observações no conjunto de dados."
   ]
  },
  {
   "cell_type": "code",
   "execution_count": 16,
   "id": "c269b27e",
   "metadata": {},
   "outputs": [
    {
     "data": {
      "text/plain": [
       "5.087462841250339"
      ]
     },
     "execution_count": 16,
     "metadata": {},
     "output_type": "execute_result"
    }
   ],
   "source": [
    "#Calculo pela Regra de Sturges, para usar log na base 2 é necessário importar a biblioteca math:\n",
    "\n",
    "import math\n",
    "bins_1 = 1 + math.log2(n)\n",
    "bins_1"
   ]
  },
  {
   "cell_type": "code",
   "execution_count": 17,
   "id": "09d38a3b",
   "metadata": {},
   "outputs": [
    {
     "data": {
      "text/plain": [
       "(array([13,  3,  0,  0,  1], dtype=int64),\n",
       " array([  0. ,  46.2,  92.4, 138.6, 184.8, 231. ]))"
      ]
     },
     "execution_count": 17,
     "metadata": {},
     "output_type": "execute_result"
    }
   ],
   "source": [
    "histograma= np.histogram(dados_gestantes['dias entre infeccao e parto'], bins = 5)\n",
    "histograma"
   ]
  },
  {
   "cell_type": "markdown",
   "id": "aceb2d15",
   "metadata": {},
   "source": [
    "Verificamos novamente que ainda há intervalos com contagem igual a zero, podemos realizar uma tratativa dos dados por meio da **eliminação dos outliers**. Uma forma de identificar valores discrepantes é aplicando novamente a **amplitude interquartil**"
   ]
  },
  {
   "cell_type": "code",
   "execution_count": 18,
   "id": "9cc462d0",
   "metadata": {},
   "outputs": [
    {
     "name": "stdout",
     "output_type": "stream",
     "text": [
      "-61.5\n",
      "110.5\n"
     ]
    },
    {
     "data": {
      "text/plain": [
       "[231]"
      ]
     },
     "execution_count": 18,
     "metadata": {},
     "output_type": "execute_result"
    }
   ],
   "source": [
    "q1 = dados_gestantes['dias entre infeccao e parto'].quantile(0.25)\n",
    "q3 = dados_gestantes['dias entre infeccao e parto'].quantile(0.75)\n",
    "iqr = q3 - q1\n",
    "\n",
    "# Calcula os limites para identificação de outliers\n",
    "limite_inferior = q1 - 1.5 * iqr\n",
    "limite_superior = q3 + 1.5 * iqr\n",
    "print (limite_inferior)\n",
    "print (limite_superior)\n",
    "\n",
    "# Identifica os outliers por meio de uma List comprehension, irá retornar x para cada valor de x dentro da variável amplitude\n",
    "#que ultrapasse o limite inferior ou superior.\n",
    "outliers = [x for x in dados_gestantes['dias entre infeccao e parto'] if x < limite_inferior or x > limite_superior]\n",
    "outliers"
   ]
  },
  {
   "cell_type": "markdown",
   "id": "a7210124",
   "metadata": {},
   "source": [
    "Como a medição do único outlier é legítima, podemos optar por subistituir este valor  ao invés de simplesmente removê-lo. Por meio da biblioteca statistics podemos verificar a média e a mediana dos valores."
   ]
  },
  {
   "cell_type": "code",
   "execution_count": 19,
   "id": "9cd19995",
   "metadata": {},
   "outputs": [
    {
     "name": "stdout",
     "output_type": "stream",
     "text": [
      "Média: 35.8235294117647\n",
      "Mediana: 12\n"
     ]
    }
   ],
   "source": [
    "import statistics\n",
    "\n",
    "# Calcula a média\n",
    "media = statistics.mean(dados_gestantes['dias entre infeccao e parto'])\n",
    "\n",
    "# Calcula a mediana\n",
    "mediana = statistics.median(dados_gestantes['dias entre infeccao e parto'])\n",
    "\n",
    "print(\"Média:\", media)\n",
    "print(\"Mediana:\", mediana)"
   ]
  },
  {
   "cell_type": "markdown",
   "id": "a8fdf03b",
   "metadata": {},
   "source": [
    "Como a média sofre grande influência dos valores discrepantes, iremos substituir o outlier pela mediana."
   ]
  },
  {
   "cell_type": "code",
   "execution_count": 20,
   "id": "1cf0798f",
   "metadata": {},
   "outputs": [],
   "source": [
    "# Substitui os outliers pela mediana usando loc\n",
    "dados_gestantes.loc[(dados_gestantes['dias entre infeccao e parto'] < limite_inferior) | \n",
    "                    (dados_gestantes['dias entre infeccao e parto'] > limite_superior), 'dias entre infeccao e parto'] = mediana"
   ]
  },
  {
   "cell_type": "code",
   "execution_count": 21,
   "id": "93b69fd7",
   "metadata": {},
   "outputs": [
    {
     "data": {
      "text/html": [
       "<div>\n",
       "<style scoped>\n",
       "    .dataframe tbody tr th:only-of-type {\n",
       "        vertical-align: middle;\n",
       "    }\n",
       "\n",
       "    .dataframe tbody tr th {\n",
       "        vertical-align: top;\n",
       "    }\n",
       "\n",
       "    .dataframe thead th {\n",
       "        text-align: right;\n",
       "    }\n",
       "</style>\n",
       "<table border=\"1\" class=\"dataframe\">\n",
       "  <thead>\n",
       "    <tr style=\"text-align: right;\">\n",
       "      <th></th>\n",
       "      <th>Paciente</th>\n",
       "      <th>Idade da gestante</th>\n",
       "      <th>Idade gestacional em semanas</th>\n",
       "      <th>dias entre infeccao e parto</th>\n",
       "    </tr>\n",
       "  </thead>\n",
       "  <tbody>\n",
       "  </tbody>\n",
       "</table>\n",
       "</div>"
      ],
      "text/plain": [
       "Empty DataFrame\n",
       "Columns: [Paciente, Idade da gestante, Idade gestacional em semanas, dias entre infeccao e parto]\n",
       "Index: []"
      ]
     },
     "execution_count": 21,
     "metadata": {},
     "output_type": "execute_result"
    }
   ],
   "source": [
    "#verificamos se ainda existem valores discrepantes\n",
    "#Usamos o @ para identificar que limite_inferior e limite_superior são variáveis e não strings.\n",
    "dados_gestantes.query('`dias entre infeccao e parto` < @limite_inferior or `dias entre infeccao e parto` > @limite_superior')"
   ]
  },
  {
   "cell_type": "code",
   "execution_count": 22,
   "id": "3091e3f2",
   "metadata": {},
   "outputs": [
    {
     "data": {
      "text/plain": [
       "(array([10,  1,  2,  2,  2], dtype=int64),\n",
       " array([ 0. , 15.2, 30.4, 45.6, 60.8, 76. ]))"
      ]
     },
     "execution_count": 22,
     "metadata": {},
     "output_type": "execute_result"
    }
   ],
   "source": [
    "#Agora podemos criar um histograma com base na Regra de Sturges\n",
    "histograma= np.histogram(dados_gestantes['dias entre infeccao e parto'], bins = 5)\n",
    "histograma"
   ]
  },
  {
   "cell_type": "code",
   "execution_count": 23,
   "id": "5fec6ab3",
   "metadata": {},
   "outputs": [
    {
     "data": {
      "text/plain": [
       "Text(0.5, 0, 'Dias entre a infecção e o parto')"
      ]
     },
     "execution_count": 23,
     "metadata": {},
     "output_type": "execute_result"
    },
    {
     "data": {
      "image/png": "[encoded data removed]",
      "text/plain": [
       "<Figure size 640x480 with 1 Axes>"
      ]
     },
     "metadata": {},
     "output_type": "display_data"
    }
   ],
   "source": [
    "#Histograma corrigido\n",
    "\n",
    "plt.hist(dados_gestantes['dias entre infeccao e parto'], bins = 5, color= 'orchid')\n",
    "plt.ylabel('Número de gestantes')\n",
    "plt.xlabel('Dias entre a infecção e o parto')"
   ]
  },
  {
   "cell_type": "markdown",
   "id": "4b1cba9f",
   "metadata": {},
   "source": [
    "Como podemos perceber temos a representação de um **histograma enviesado para direita**, também conhecido como assimétrico à direita ou positivamente enviesado. Essa assimetria indica que existem valores extremamente altos que puxam a média para a direita. **Uma característica comum das distribuições enviesadas para a direita é que a média é maior do que a mediana** (Média: 35.8,\n",
    "Mediana: 12), uma vez que a média é mais influenciada pelos valores maiores na extremidade direita. Notoriamente, a concentração dos dados está dentro do intervalo de 0 à 15. "
   ]
  },
  {
   "cell_type": "markdown",
   "id": "0395aeb3",
   "metadata": {},
   "source": [
    "Por meio da biblioteca seaborn podemos traçar um gráfico KDE, **gráfico de densidade kernel**. O KDE é uma forma suavizada de representar a distribuição de dados em um gráfico, semelhante a um histograma, mas com uma aparência mais suave e contínua.  A linha de densidade em um gráfico KDE é um recurso importante para visualizar a **distribuição dos dados**. Ela representa uma estimativa suave da densidade de probabilidade dos dados, ou seja, mostra como os valores estão distribuídos ao longo do eixo horizontal. **Desta forma, podemos identificar a forma da distribuição dos dados**, demonstrando se os dados têm uma distribuição simétrica (forma de sino), assimétrica (à esquerda ou à direita) ou bimodal (com dois picos distintos), o que pode ser útil para entender o comportamento dos dados."
   ]
  },
  {
   "cell_type": "code",
   "execution_count": 24,
   "id": "6eae8748",
   "metadata": {},
   "outputs": [
    {
     "data": {
      "text/plain": [
       "<AxesSubplot:xlabel='dias entre infeccao e parto', ylabel='Density'>"
      ]
     },
     "execution_count": 24,
     "metadata": {},
     "output_type": "execute_result"
    },
    {
     "data": {
      "image/png": "[encoded data removed]",
      "text/plain": [
       "<Figure size 640x480 with 1 Axes>"
      ]
     },
     "metadata": {},
     "output_type": "display_data"
    }
   ],
   "source": [
    "#traçando o gráfico de densidade\n",
    "sns.kdeplot(dados_gestantes['dias entre infeccao e parto'], color= 'navy')"
   ]
  },
  {
   "cell_type": "markdown",
   "id": "d9ecbfc4",
   "metadata": {},
   "source": [
    "É possível visualizar que foi gerado um intervalo com uma **distribuição dos dados de forma mais \"normal\" ou simétrica**, a  Seaborn faz este ajuste especialmente se houver uma grande quantidade de dados em torno de um ponto central. Neste caso, foi escolhido automaticamente um intervalo maior do que o intervalo original dos dados para representar a distribuição com mais precisão. Ao escolher um intervalo maior do que o intervalo original dos dados, o gráfico KDE garante que a estimativa de densidade abrange uma ampla faixa de valores, o que ajuda a revelar informações sobre a forma geral da distribuição e evita que o gráfico pareça limitado por falta de dados além dos limites originais.  O gráfico KDE está fornecendo uma estimativa suave da distribuição dos dados observados. Essa estimativa é útil para visualizar padrões e características da distribuição, mas não implica que a distribuição estimada seja a distribuição real que gerou os dados."
   ]
  },
  {
   "cell_type": "markdown",
   "id": "5fd712ba",
   "metadata": {},
   "source": [
    "Podemos também gerar um **diagrama de caixa** com os dados sa série **'Idade gestacional em semanas'** demonstrando visualmente a distribuição dos dados desta coluna. Para isto, primeiramente, precisamos tratar os valores nulos presentes nesta série. "
   ]
  },
  {
   "cell_type": "code",
   "execution_count": 25,
   "id": "8a3126d2",
   "metadata": {},
   "outputs": [
    {
     "data": {
      "text/html": [
       "<div>\n",
       "<style scoped>\n",
       "    .dataframe tbody tr th:only-of-type {\n",
       "        vertical-align: middle;\n",
       "    }\n",
       "\n",
       "    .dataframe tbody tr th {\n",
       "        vertical-align: top;\n",
       "    }\n",
       "\n",
       "    .dataframe thead th {\n",
       "        text-align: right;\n",
       "    }\n",
       "</style>\n",
       "<table border=\"1\" class=\"dataframe\">\n",
       "  <thead>\n",
       "    <tr style=\"text-align: right;\">\n",
       "      <th></th>\n",
       "      <th>Paciente</th>\n",
       "      <th>Idade da gestante</th>\n",
       "      <th>Idade gestacional em semanas</th>\n",
       "      <th>dias entre infeccao e parto</th>\n",
       "    </tr>\n",
       "  </thead>\n",
       "  <tbody>\n",
       "    <tr>\n",
       "      <th>15</th>\n",
       "      <td>P</td>\n",
       "      <td>30.0</td>\n",
       "      <td>NaN</td>\n",
       "      <td>53</td>\n",
       "    </tr>\n",
       "    <tr>\n",
       "      <th>16</th>\n",
       "      <td>Q</td>\n",
       "      <td>30.0</td>\n",
       "      <td>NaN</td>\n",
       "      <td>6</td>\n",
       "    </tr>\n",
       "  </tbody>\n",
       "</table>\n",
       "</div>"
      ],
      "text/plain": [
       "   Paciente  Idade da gestante  Idade gestacional em semanas  \\\n",
       "15        P               30.0                           NaN   \n",
       "16        Q               30.0                           NaN   \n",
       "\n",
       "    dias entre infeccao e parto  \n",
       "15                           53  \n",
       "16                            6  "
      ]
     },
     "execution_count": 25,
     "metadata": {},
     "output_type": "execute_result"
    }
   ],
   "source": [
    "dados_gestantes[dados_gestantes['Idade gestacional em semanas'].isnull()]"
   ]
  },
  {
   "cell_type": "markdown",
   "id": "90cc79ab",
   "metadata": {},
   "source": [
    "**Como há valores nulos, iremos utilizar a biblioteca Pandas** ao invés da biblioteca statistics, a biblioteca Pandas ignora os valores nulos. O método **dropna()** é usado para remover os valores nulos da coluna antes do calculo da média e mediana. Há a possibilidade também de utilizar a biblioteca Statistics, sendo necessário aplicar  um filtro: idade_gestacional = dados_gestantes['Idade gestacional em semanas'].dropna()."
   ]
  },
  {
   "cell_type": "code",
   "execution_count": 26,
   "id": "331b6caf",
   "metadata": {},
   "outputs": [
    {
     "name": "stdout",
     "output_type": "stream",
     "text": [
      "34.0\n",
      "30.133333333333333\n"
     ]
    }
   ],
   "source": [
    "mediana_idadeg = dados_gestantes['Idade gestacional em semanas'].dropna().median()\n",
    "media_idadeg = dados_gestantes['Idade gestacional em semanas'].dropna().mean()\n",
    "\n",
    "print(mediana_idadeg)\n",
    "print(media_idadeg)"
   ]
  },
  {
   "cell_type": "markdown",
   "id": "d3dc9cbe",
   "metadata": {},
   "source": [
    "Poderiamos optar por substituir os valores nulos pela mediana, mas **quando analisamos individualmente cada dado**, verificamos que os valores faltantes são de pacientes que tiveram um intervalo maior entre a infecção e o parto, desta forma, a média pode ser mais representativa neste caso específico. Usamos o **método .fillna** para preencher os valores ausentes. Neste caso, todos os valores NaN(Not a Number) na coluna 'Idade gestacional em semanas' serão substituídos pelo valor 'media_idadeg'. **inplace=True**: É um parâmetro opcional, quando inplace=True é usado, as alterações são aplicadas diretamente ao DataFrame original, em vez de criar uma cópia modificada. "
   ]
  },
  {
   "cell_type": "code",
   "execution_count": 27,
   "id": "81d07970",
   "metadata": {},
   "outputs": [],
   "source": [
    "dados_gestantes['Idade gestacional em semanas'].fillna(media_idadeg, inplace=True)"
   ]
  },
  {
   "cell_type": "code",
   "execution_count": 28,
   "id": "4b349930",
   "metadata": {},
   "outputs": [
    {
     "data": {
      "text/html": [
       "<div>\n",
       "<style scoped>\n",
       "    .dataframe tbody tr th:only-of-type {\n",
       "        vertical-align: middle;\n",
       "    }\n",
       "\n",
       "    .dataframe tbody tr th {\n",
       "        vertical-align: top;\n",
       "    }\n",
       "\n",
       "    .dataframe thead th {\n",
       "        text-align: right;\n",
       "    }\n",
       "</style>\n",
       "<table border=\"1\" class=\"dataframe\">\n",
       "  <thead>\n",
       "    <tr style=\"text-align: right;\">\n",
       "      <th></th>\n",
       "      <th>Paciente</th>\n",
       "      <th>Idade da gestante</th>\n",
       "      <th>Idade gestacional em semanas</th>\n",
       "      <th>dias entre infeccao e parto</th>\n",
       "    </tr>\n",
       "  </thead>\n",
       "  <tbody>\n",
       "    <tr>\n",
       "      <th>12</th>\n",
       "      <td>M</td>\n",
       "      <td>34.0</td>\n",
       "      <td>34.000000</td>\n",
       "      <td>26</td>\n",
       "    </tr>\n",
       "    <tr>\n",
       "      <th>13</th>\n",
       "      <td>N</td>\n",
       "      <td>39.0</td>\n",
       "      <td>8.000000</td>\n",
       "      <td>12</td>\n",
       "    </tr>\n",
       "    <tr>\n",
       "      <th>14</th>\n",
       "      <td>O</td>\n",
       "      <td>26.0</td>\n",
       "      <td>21.000000</td>\n",
       "      <td>74</td>\n",
       "    </tr>\n",
       "    <tr>\n",
       "      <th>15</th>\n",
       "      <td>P</td>\n",
       "      <td>30.0</td>\n",
       "      <td>30.133333</td>\n",
       "      <td>53</td>\n",
       "    </tr>\n",
       "    <tr>\n",
       "      <th>16</th>\n",
       "      <td>Q</td>\n",
       "      <td>30.0</td>\n",
       "      <td>30.133333</td>\n",
       "      <td>6</td>\n",
       "    </tr>\n",
       "  </tbody>\n",
       "</table>\n",
       "</div>"
      ],
      "text/plain": [
       "   Paciente  Idade da gestante  Idade gestacional em semanas  \\\n",
       "12        M               34.0                     34.000000   \n",
       "13        N               39.0                      8.000000   \n",
       "14        O               26.0                     21.000000   \n",
       "15        P               30.0                     30.133333   \n",
       "16        Q               30.0                     30.133333   \n",
       "\n",
       "    dias entre infeccao e parto  \n",
       "12                           26  \n",
       "13                           12  \n",
       "14                           74  \n",
       "15                           53  \n",
       "16                            6  "
      ]
     },
     "execution_count": 28,
     "metadata": {},
     "output_type": "execute_result"
    }
   ],
   "source": [
    "dados_gestantes.tail()"
   ]
  },
  {
   "cell_type": "markdown",
   "id": "41ff3ecc",
   "metadata": {},
   "source": [
    "Também podemos traçar um **gráfico de setores** para idade gestacional das pacientes, podemos agrupar as pacientes com base em idade gestacional por trimestre, **sendo o 1º trimestre gestacional até 13 semanas, 2º trimestre de 14 semanas até 26 semanas e o 3º trimestre à partir de 27 semanas.**"
   ]
  },
  {
   "cell_type": "code",
   "execution_count": 29,
   "id": "15f62aca",
   "metadata": {},
   "outputs": [
    {
     "data": {
      "image/png": "[encoded data removed]",
      "text/plain": [
       "<Figure size 600x400 with 1 Axes>"
      ]
     },
     "metadata": {},
     "output_type": "display_data"
    }
   ],
   "source": [
    "#Definindo cada variável\n",
    "primeiro_trimestre = dados_gestantes.query('`Idade gestacional em semanas` <= 13')\n",
    "segundo_trimestre = dados_gestantes.query('`Idade gestacional em semanas` > 13 and `Idade gestacional em semanas` <= 26')\n",
    "terceiro_trimestre = dados_gestantes.query('`Idade gestacional em semanas` > 26')\n",
    "\n",
    "# Dados de contagem por trimestre,shape[0] retorna a contagem de gestantes em cada um dos trimestres separados nos DataFrames\n",
    "contagem_por_trimestre = [primeiro_trimestre.shape[0], segundo_trimestre.shape[0], terceiro_trimestre.shape[0]]\n",
    "trimestres = ['Primeiro Trimestre', 'Segundo Trimestre', 'Terceiro Trimestre']\n",
    "\n",
    "# Criando o gráfico de pizza\n",
    "plt.figure(figsize=(6, 4))\n",
    "plt.pie(contagem_por_trimestre, labels=trimestres, autopct='%1.1f%%', colors=['lightsteelblue','cornflowerblue', 'royalblue'])\n",
    "plt.title('Distribuição de Gestantes por Trimestre')\n",
    "plt.show()\n"
   ]
  },
  {
   "cell_type": "markdown",
   "id": "00ec6c62",
   "metadata": {},
   "source": [
    "**Diagrama de caixa**, a maior parte do código se refere a estrutura de cores do boxplot. Caso optassemos por um diagrama de caixa padrão, apenas o código **plt.boxplot(dados_gestantes['Idade gestacional em semanas'])** era necessário, sendo traçado um diagrama padrão na posição vertical."
   ]
  },
  {
   "cell_type": "code",
   "execution_count": 30,
   "id": "27f6e245",
   "metadata": {},
   "outputs": [
    {
     "data": {
      "text/plain": [
       "Text(0.5, 0, 'Idade Gestacional (semanas)')"
      ]
     },
     "execution_count": 30,
     "metadata": {},
     "output_type": "execute_result"
    },
    {
     "data": {
      "image/png": "[encoded data removed]",
      "text/plain": [
       "<Figure size 640x480 with 1 Axes>"
      ]
     },
     "metadata": {},
     "output_type": "display_data"
    }
   ],
   "source": [
    "plt.boxplot(dados_gestantes['Idade gestacional em semanas'], vert=False, patch_artist=True, \n",
    "            boxprops=dict(facecolor= 'navajowhite', edgecolor='darkorange'), medianprops=dict(color='darkorange'), \n",
    "            flierprops=dict(markerfacecolor='darkorange', markeredgecolor='darkorange'),whiskerprops=dict(color='darkorange'), \n",
    "            capprops=dict(color='darkorange'))\n",
    "plt.title('Boxplot da Idade Gestacional')\n",
    "plt.xlabel('Idade Gestacional (semanas)')"
   ]
  },
  {
   "cell_type": "markdown",
   "id": "f74f2c04",
   "metadata": {},
   "source": [
    "Após verificar a distribuição de gestantes por trimestres, também iremos tratar os outliers presentes na coluna 'Idade gestacional', não o fizemos anteriormente porque o tratamento iria interferir no construção de um gráfico de setores mais fidedigno. "
   ]
  },
  {
   "cell_type": "code",
   "execution_count": 31,
   "id": "ec0da51a",
   "metadata": {},
   "outputs": [
    {
     "name": "stdout",
     "output_type": "stream",
     "text": [
      "19.0\n",
      "43.0\n"
     ]
    },
    {
     "data": {
      "text/plain": [
       "[8.0]"
      ]
     },
     "execution_count": 31,
     "metadata": {},
     "output_type": "execute_result"
    }
   ],
   "source": [
    "q1 = dados_gestantes['Idade gestacional em semanas'].quantile(0.25)\n",
    "q3 = dados_gestantes['Idade gestacional em semanas'].quantile(0.75)\n",
    "iqr = q3 - q1\n",
    "\n",
    "# Calcula os limites para identificação de outliers\n",
    "limite_inferior = q1 - 1.5 * iqr\n",
    "limite_superior = q3 + 1.5 * iqr\n",
    "    \n",
    "print (limite_inferior)\n",
    "print (limite_superior)\n",
    "\n",
    "# Identifica os outliers por meio de uma List comprehension, irá retornar x para cada valor de x dentro da variável amplitude\n",
    "#que ultrapasse o limite inferior ou superior.\n",
    "outliers = [x for x in dados_gestantes['Idade gestacional em semanas'] if x < limite_inferior or x > limite_superior]\n",
    "outliers"
   ]
  },
  {
   "cell_type": "code",
   "execution_count": 32,
   "id": "dd2eef12",
   "metadata": {},
   "outputs": [
    {
     "data": {
      "text/plain": [
       "count    17.000000\n",
       "mean     30.133333\n",
       "std       7.296118\n",
       "min       8.000000\n",
       "25%      28.000000\n",
       "50%      32.000000\n",
       "75%      34.000000\n",
       "max      38.000000\n",
       "Name: Idade gestacional em semanas, dtype: float64"
      ]
     },
     "execution_count": 32,
     "metadata": {},
     "output_type": "execute_result"
    }
   ],
   "source": [
    "dados_gestantes['Idade gestacional em semanas'].describe()"
   ]
  },
  {
   "cell_type": "code",
   "execution_count": 33,
   "id": "ad3ebfc1",
   "metadata": {},
   "outputs": [],
   "source": [
    "# Substitui os outliers pela mediana usando loc\n",
    "dados_gestantes.loc[(dados_gestantes['Idade gestacional em semanas'] < limite_inferior) | \n",
    "                    (dados_gestantes['Idade gestacional em semanas'] > limite_superior), 'Idade gestacional em semanas'] = 32"
   ]
  },
  {
   "cell_type": "code",
   "execution_count": 34,
   "id": "435d534e",
   "metadata": {},
   "outputs": [
    {
     "data": {
      "text/html": [
       "<div>\n",
       "<style scoped>\n",
       "    .dataframe tbody tr th:only-of-type {\n",
       "        vertical-align: middle;\n",
       "    }\n",
       "\n",
       "    .dataframe tbody tr th {\n",
       "        vertical-align: top;\n",
       "    }\n",
       "\n",
       "    .dataframe thead th {\n",
       "        text-align: right;\n",
       "    }\n",
       "</style>\n",
       "<table border=\"1\" class=\"dataframe\">\n",
       "  <thead>\n",
       "    <tr style=\"text-align: right;\">\n",
       "      <th></th>\n",
       "      <th>Paciente</th>\n",
       "      <th>Idade da gestante</th>\n",
       "      <th>Idade gestacional em semanas</th>\n",
       "      <th>dias entre infeccao e parto</th>\n",
       "    </tr>\n",
       "  </thead>\n",
       "  <tbody>\n",
       "  </tbody>\n",
       "</table>\n",
       "</div>"
      ],
      "text/plain": [
       "Empty DataFrame\n",
       "Columns: [Paciente, Idade da gestante, Idade gestacional em semanas, dias entre infeccao e parto]\n",
       "Index: []"
      ]
     },
     "execution_count": 34,
     "metadata": {},
     "output_type": "execute_result"
    }
   ],
   "source": [
    "#verificamos se ainda existem valores discrepantes\n",
    "#Usamos o @ para identificar que limite_inferior e limite_superior são variáveis e não strings.\n",
    "dados_gestantes.query('`Idade gestacional em semanas` < @limite_inferior or `Idade gestacional em semanas` > @limite_superior')"
   ]
  },
  {
   "cell_type": "markdown",
   "id": "80532884",
   "metadata": {},
   "source": [
    "**Há uma correlação negativa  moderada entre a idade gestacional e o período entre o diagnóstico da infecção e o momento do parto. A maioria dos dados indica, portanto, que o diagnóstico ocorreu ao final da gestação, com diferença de poucos dias para o parto. Iremos traçar um gráfico de regressão linear apenas para visualização e treino, já que não queremos criar um modelo preditivo. Há uma correlação fraca entre a idade da gestante e a idade gestacional e o período entre o diagnóstico da infecção e o momento do parto.**"
   ]
  },
  {
   "cell_type": "code",
   "execution_count": 35,
   "id": "af190322",
   "metadata": {},
   "outputs": [
    {
     "data": {
      "text/html": [
       "<div>\n",
       "<style scoped>\n",
       "    .dataframe tbody tr th:only-of-type {\n",
       "        vertical-align: middle;\n",
       "    }\n",
       "\n",
       "    .dataframe tbody tr th {\n",
       "        vertical-align: top;\n",
       "    }\n",
       "\n",
       "    .dataframe thead th {\n",
       "        text-align: right;\n",
       "    }\n",
       "</style>\n",
       "<table border=\"1\" class=\"dataframe\">\n",
       "  <thead>\n",
       "    <tr style=\"text-align: right;\">\n",
       "      <th></th>\n",
       "      <th>Idade da gestante</th>\n",
       "      <th>Idade gestacional em semanas</th>\n",
       "      <th>dias entre infeccao e parto</th>\n",
       "    </tr>\n",
       "  </thead>\n",
       "  <tbody>\n",
       "    <tr>\n",
       "      <th>Idade da gestante</th>\n",
       "      <td>1.000000</td>\n",
       "      <td>-0.238414</td>\n",
       "      <td>-0.314417</td>\n",
       "    </tr>\n",
       "    <tr>\n",
       "      <th>Idade gestacional em semanas</th>\n",
       "      <td>-0.238414</td>\n",
       "      <td>1.000000</td>\n",
       "      <td>-0.630728</td>\n",
       "    </tr>\n",
       "    <tr>\n",
       "      <th>dias entre infeccao e parto</th>\n",
       "      <td>-0.314417</td>\n",
       "      <td>-0.630728</td>\n",
       "      <td>1.000000</td>\n",
       "    </tr>\n",
       "  </tbody>\n",
       "</table>\n",
       "</div>"
      ],
      "text/plain": [
       "                              Idade da gestante  Idade gestacional em semanas  \\\n",
       "Idade da gestante                      1.000000                     -0.238414   \n",
       "Idade gestacional em semanas          -0.238414                      1.000000   \n",
       "dias entre infeccao e parto           -0.314417                     -0.630728   \n",
       "\n",
       "                              dias entre infeccao e parto  \n",
       "Idade da gestante                               -0.314417  \n",
       "Idade gestacional em semanas                    -0.630728  \n",
       "dias entre infeccao e parto                      1.000000  "
      ]
     },
     "execution_count": 35,
     "metadata": {},
     "output_type": "execute_result"
    }
   ],
   "source": [
    "# Utilizando o método corr () para calcular a matriz de correlação para todas as colunas numéricas. \n",
    "dados_gestantes.corr()"
   ]
  },
  {
   "cell_type": "code",
   "execution_count": 36,
   "id": "211ca501",
   "metadata": {},
   "outputs": [
    {
     "data": {
      "text/plain": [
       "array([ 3,  3,  0,  0,  0, 76,  4, 42, 33,  0, 46, 12, 26, 12, 74, 53,  6],\n",
       "      dtype=int64)"
      ]
     },
     "execution_count": 36,
     "metadata": {},
     "output_type": "execute_result"
    }
   ],
   "source": [
    "#Extração dos valores das colunas de interesse e armazenamento na variável indepedente e dependente, respectivamente:\n",
    "X = dados_gestantes['dias entre infeccao e parto'].values\n",
    "y = dados_gestantes['Idade gestacional em semanas'].values\n",
    "X"
   ]
  },
  {
   "cell_type": "code",
   "execution_count": 37,
   "id": "1d46d60f",
   "metadata": {},
   "outputs": [
    {
     "data": {
      "text/plain": [
       "array([[ 1.       , -0.6307278],\n",
       "       [-0.6307278,  1.       ]])"
      ]
     },
     "execution_count": 37,
     "metadata": {},
     "output_type": "execute_result"
    }
   ],
   "source": [
    "#Utilizando a função np.corrcoef da biblioteca NumPy para calcular a matriz de correlação entre duas variáveis, X e y. \n",
    "correlacao = np.corrcoef(X, y)\n",
    "correlacao"
   ]
  },
  {
   "cell_type": "markdown",
   "id": "b843ced3",
   "metadata": {},
   "source": [
    "A matriz de correlação é uma matriz quadrada em que os elementos da diagonal principal sempre têm um valor de 1. Isso acontece porque a diagonal principal representa a correlação de cada variável consigo mesma, o que é sempre perfeito (correlação de 100%) - uma variável é sempre perfeitamente correlacionada com ela mesma."
   ]
  },
  {
   "cell_type": "markdown",
   "id": "29dbaa12",
   "metadata": {},
   "source": [
    "O código X = X.reshape(-1, 1) está remodelando o array unidimensional X em uma matriz bidimensional, onde cada valor original de X é uma entrada na nova matriz. Isso é comum quando se prepara os dados para modelos de aprendizado de máquina, como regressão linear. O **valor -1**, indica que você quer que o NumPy calcule automaticamente o tamanho da primeira dimensão (número de linhas) para você, com base no tamanho total dos dados. Isso é útil quando você deseja manter o mesmo número total de elementos, mas deseja alterar a forma do array de uma dimensão para duas dimensões (matriz). **O valor 1,** define a segunda dimensão do array, que é o número de colunas. Neste caso, estamos criando uma matriz com uma única coluna. Desta forma, **o padrão -1, 1** é comumente usado para converter um array unidimensional em uma matriz bidimensional"
   ]
  },
  {
   "cell_type": "code",
   "execution_count": 38,
   "id": "cce44952",
   "metadata": {},
   "outputs": [
    {
     "name": "stdout",
     "output_type": "stream",
     "text": [
      "[[ 3]\n",
      " [ 3]\n",
      " [ 0]\n",
      " [ 0]\n",
      " [ 0]\n",
      " [76]\n",
      " [ 4]\n",
      " [42]\n",
      " [33]\n",
      " [ 0]\n",
      " [46]\n",
      " [12]\n",
      " [26]\n",
      " [12]\n",
      " [74]\n",
      " [53]\n",
      " [ 6]]\n"
     ]
    }
   ],
   "source": [
    "X = X.reshape(-1, 1)\n",
    "print (X)"
   ]
  },
  {
   "cell_type": "markdown",
   "id": "682ab7d4",
   "metadata": {},
   "source": [
    "Sobre o código **modelo = LinearRegression()**, quando você chama LinearRegression(), está criando uma instância vazia do modelo de regressão linear. Isso significa que você está criando um objeto que será capaz de realizar regressão linear, mas ainda não está configurado ou treinado para dados específicos. Desta forma, estamos criando um objeto de modelo de regressão linear vazio e atribuindo-o à variável modelo. Já quando chamamos o método **.fit(X, y)** , ele ajusta os parâmetros internos do modelo para que ele possa aprender a relação entre as **características(x, variável indepedente, preditoras)** e os **valores alvo(y, variável dependente, resposta)** nos dados de treinamento. Em outras palavras, o modelo está \"aprendendo\" a relação entre as características e os valores alvo com base nos dados de treinamento.\n",
    "No contexto da regressão linear, o objetivo é encontrar a melhor linha reta que se ajusta aos dados de treinamento"
   ]
  },
  {
   "cell_type": "code",
   "execution_count": 39,
   "id": "4ee070ae",
   "metadata": {},
   "outputs": [
    {
     "data": {
      "text/plain": [
       "LinearRegression()"
      ]
     },
     "execution_count": 39,
     "metadata": {},
     "output_type": "execute_result"
    }
   ],
   "source": [
    "modelo = LinearRegression()\n",
    "modelo.fit(X, y)"
   ]
  },
  {
   "cell_type": "markdown",
   "id": "7c2ca6ce",
   "metadata": {},
   "source": [
    "**plt.scatter(X, y):** Esta linha de código cria um gráfico de dispersão (scatter plot) dos pontos de dados. Isso é feito usando as variáveis X e y.   \n",
    "**plt.plot(X, modelo.predict(X), color='red')**: Esta linha de código plota a linha de regressão ajustada pelo modelo de regressão linear. Nesta abordagem,  estamos plotando as previsões do modelo (modelo.predict(X)) em relação às características de entrada (X). Isso faz sentido porque a regressão linear visa modelar a relação entre as variáveis independentes (características) e a variável dependente (valor alvo).  A reta de regressão é traçada ao longo das coordenadas X, representando as variáveis independentes."
   ]
  },
  {
   "cell_type": "code",
   "execution_count": 40,
   "id": "72474efe",
   "metadata": {},
   "outputs": [
    {
     "data": {
      "text/plain": [
       "[<matplotlib.lines.Line2D at 0x296b2424250>]"
      ]
     },
     "execution_count": 40,
     "metadata": {},
     "output_type": "execute_result"
    },
    {
     "data": {
      "image/png": "[encoded data removed]",
      "text/plain": [
       "<Figure size 640x480 with 1 Axes>"
      ]
     },
     "metadata": {},
     "output_type": "display_data"
    }
   ],
   "source": [
    "plt.scatter(X, y)\n",
    "plt.plot(X,modelo.predict(X), color = 'red')"
   ]
  },
  {
   "cell_type": "markdown",
   "id": "88b0305b",
   "metadata": {},
   "source": [
    "Podemos tentar prever qual seria a idade gestacional das gestantes que apresentavam os dados nulos: 53 dias e 6 dias."
   ]
  },
  {
   "cell_type": "code",
   "execution_count": 41,
   "id": "0a379101",
   "metadata": {},
   "outputs": [
    {
     "data": {
      "text/plain": [
       "array([28.2714578])"
      ]
     },
     "execution_count": 41,
     "metadata": {},
     "output_type": "execute_result"
    }
   ],
   "source": [
    "modelo.predict([[53]])"
   ]
  },
  {
   "cell_type": "code",
   "execution_count": 42,
   "id": "a769e531",
   "metadata": {},
   "outputs": [
    {
     "data": {
      "text/plain": [
       "array([33.39012424])"
      ]
     },
     "execution_count": 42,
     "metadata": {},
     "output_type": "execute_result"
    }
   ],
   "source": [
    "modelo.predict([[6]])"
   ]
  },
  {
   "cell_type": "markdown",
   "id": "e2c201c7",
   "metadata": {},
   "source": [
    "Apesar da correlação moderada, como foram coletados poucos dados a amostra pode não ser representativa o suficiente da população total, o que pode levar a estimativas imprecisas da correlação. Além disso, com menos dados, a variabilidade dos valores pode ser maior, tornando a análise menos estável."
   ]
  }
 ],
 "metadata": {
  "kernelspec": {
   "display_name": "Python 3 (ipykernel)",
   "language": "python",
   "name": "python3"
  },
  "language_info": {
   "codemirror_mode": {
    "name": "ipython",
    "version": 3
   },
   "file_extension": ".py",
   "mimetype": "text/x-python",
   "name": "python",
   "nbconvert_exporter": "python",
   "pygments_lexer": "ipython3",
   "version": "3.9.13"
  }
 },
 "nbformat": 4,
 "nbformat_minor": 5
}
