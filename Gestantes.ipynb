{
 "cells": [
  {
   "cell_type": "code",
   "execution_count": 1,
   "id": "25ee4cde",
   "metadata": {},
   "outputs": [],
   "source": [
    "# Importação das bibliotecas\n",
    "import pandas as pd\n",
    "import numpy as np\n",
    "import seaborn as sns\n",
    "import matplotlib.pyplot as plt\n",
    "import statsmodels.api as sm\n",
    "from sklearn.linear_model import LinearRegression\n",
    "from sklearn.model_selection import train_test_split"
   ]
  },
  {
   "cell_type": "markdown",
   "id": "14702c35",
   "metadata": {},
   "source": [
    "**Carregamento da base de dados**: Utilizando a **função read** do panda, iremos ler e criar um DataFrame a partir do arquivo original. Neste arquivo em questão o delimitador não é uma vírgula (,) e sim o ponto e vírgulo (;), desta forma, precisamos indicar o delimitador correto por meio do parâmetro **sep.**"
   ]
  },
  {
   "cell_type": "code",
   "execution_count": 2,
   "id": "cbc46c55",
   "metadata": {},
   "outputs": [],
   "source": [
    "dados_gestantes = pd.read_csv('dadosgestantes.csv', sep=';')"
   ]
  },
  {
   "cell_type": "code",
   "execution_count": 3,
   "id": "cc1599d3",
   "metadata": {},
   "outputs": [
    {
     "data": {
      "text/plain": [
       "(17, 5)"
      ]
     },
     "execution_count": 3,
     "metadata": {},
     "output_type": "execute_result"
    }
   ],
   "source": [
    "#Tamanho do dataframe: linhas e colunas, respectivamente.\n",
    "dados_gestantes.shape"
   ]
  },
  {
   "cell_type": "code",
   "execution_count": 4,
   "id": "04e347c7",
   "metadata": {},
   "outputs": [
    {
     "data": {
      "text/html": [
       "<div>\n",
       "<style scoped>\n",
       "    .dataframe tbody tr th:only-of-type {\n",
       "        vertical-align: middle;\n",
       "    }\n",
       "\n",
       "    .dataframe tbody tr th {\n",
       "        vertical-align: top;\n",
       "    }\n",
       "\n",
       "    .dataframe thead th {\n",
       "        text-align: right;\n",
       "    }\n",
       "</style>\n",
       "<table border=\"1\" class=\"dataframe\">\n",
       "  <thead>\n",
       "    <tr style=\"text-align: right;\">\n",
       "      <th></th>\n",
       "      <th>Paciente</th>\n",
       "      <th>Idade da gestante</th>\n",
       "      <th>Idade gestacional em semanas</th>\n",
       "      <th>dias entre infeccao e parto</th>\n",
       "      <th>Condicoes medicas</th>\n",
       "    </tr>\n",
       "  </thead>\n",
       "  <tbody>\n",
       "    <tr>\n",
       "      <th>0</th>\n",
       "      <td>A</td>\n",
       "      <td>45.0</td>\n",
       "      <td>26.0</td>\n",
       "      <td>3</td>\n",
       "      <td>Pre eclampsia e diabetes mellitus gestacional</td>\n",
       "    </tr>\n",
       "    <tr>\n",
       "      <th>1</th>\n",
       "      <td>B</td>\n",
       "      <td>38.0</td>\n",
       "      <td>28.0</td>\n",
       "      <td>3</td>\n",
       "      <td>Hipotireoidismo pre gestacional</td>\n",
       "    </tr>\n",
       "    <tr>\n",
       "      <th>2</th>\n",
       "      <td>C</td>\n",
       "      <td>29.0</td>\n",
       "      <td>34.0</td>\n",
       "      <td>0</td>\n",
       "      <td>Diabetes mellitus gestacional, obesidade, hipo...</td>\n",
       "    </tr>\n",
       "    <tr>\n",
       "      <th>3</th>\n",
       "      <td>D</td>\n",
       "      <td>37.0</td>\n",
       "      <td>34.0</td>\n",
       "      <td>0</td>\n",
       "      <td>Transtorno de ansiedade generalizada</td>\n",
       "    </tr>\n",
       "    <tr>\n",
       "      <th>4</th>\n",
       "      <td>E</td>\n",
       "      <td>23.0</td>\n",
       "      <td>36.0</td>\n",
       "      <td>0</td>\n",
       "      <td>Nao informado</td>\n",
       "    </tr>\n",
       "  </tbody>\n",
       "</table>\n",
       "</div>"
      ],
      "text/plain": [
       "  Paciente  Idade da gestante  Idade gestacional em semanas  \\\n",
       "0        A               45.0                          26.0   \n",
       "1        B               38.0                          28.0   \n",
       "2        C               29.0                          34.0   \n",
       "3        D               37.0                          34.0   \n",
       "4        E               23.0                          36.0   \n",
       "\n",
       "   dias entre infeccao e parto  \\\n",
       "0                            3   \n",
       "1                            3   \n",
       "2                            0   \n",
       "3                            0   \n",
       "4                            0   \n",
       "\n",
       "                                   Condicoes medicas  \n",
       "0      Pre eclampsia e diabetes mellitus gestacional  \n",
       "1                    Hipotireoidismo pre gestacional  \n",
       "2  Diabetes mellitus gestacional, obesidade, hipo...  \n",
       "3               Transtorno de ansiedade generalizada  \n",
       "4                                      Nao informado  "
      ]
     },
     "execution_count": 4,
     "metadata": {},
     "output_type": "execute_result"
    }
   ],
   "source": [
    "#Visão geral dos dados\n",
    "dados_gestantes.head()"
   ]
  },
  {
   "cell_type": "markdown",
   "id": "9c25c960",
   "metadata": {},
   "source": [
    "Informações gerais sobre o dataframe:"
   ]
  },
  {
   "cell_type": "code",
   "execution_count": 5,
   "id": "490f3704",
   "metadata": {},
   "outputs": [
    {
     "data": {
      "text/html": [
       "<div>\n",
       "<style scoped>\n",
       "    .dataframe tbody tr th:only-of-type {\n",
       "        vertical-align: middle;\n",
       "    }\n",
       "\n",
       "    .dataframe tbody tr th {\n",
       "        vertical-align: top;\n",
       "    }\n",
       "\n",
       "    .dataframe thead th {\n",
       "        text-align: right;\n",
       "    }\n",
       "</style>\n",
       "<table border=\"1\" class=\"dataframe\">\n",
       "  <thead>\n",
       "    <tr style=\"text-align: right;\">\n",
       "      <th></th>\n",
       "      <th>Paciente</th>\n",
       "      <th>Idade da gestante</th>\n",
       "      <th>Idade gestacional em semanas</th>\n",
       "      <th>dias entre infeccao e parto</th>\n",
       "      <th>Condicoes medicas</th>\n",
       "    </tr>\n",
       "  </thead>\n",
       "  <tbody>\n",
       "    <tr>\n",
       "      <th>12</th>\n",
       "      <td>M</td>\n",
       "      <td>34.0</td>\n",
       "      <td>34.0</td>\n",
       "      <td>26</td>\n",
       "      <td>Nao informado</td>\n",
       "    </tr>\n",
       "    <tr>\n",
       "      <th>13</th>\n",
       "      <td>N</td>\n",
       "      <td>39.0</td>\n",
       "      <td>8.0</td>\n",
       "      <td>231</td>\n",
       "      <td>Nao informado</td>\n",
       "    </tr>\n",
       "    <tr>\n",
       "      <th>14</th>\n",
       "      <td>O</td>\n",
       "      <td>26.0</td>\n",
       "      <td>21.0</td>\n",
       "      <td>74</td>\n",
       "      <td>Diabetes mellitus gestacional, obesidade e hip...</td>\n",
       "    </tr>\n",
       "    <tr>\n",
       "      <th>15</th>\n",
       "      <td>P</td>\n",
       "      <td>NaN</td>\n",
       "      <td>NaN</td>\n",
       "      <td>53</td>\n",
       "      <td>Nao informado</td>\n",
       "    </tr>\n",
       "    <tr>\n",
       "      <th>16</th>\n",
       "      <td>Q</td>\n",
       "      <td>NaN</td>\n",
       "      <td>NaN</td>\n",
       "      <td>6</td>\n",
       "      <td>Nao informado</td>\n",
       "    </tr>\n",
       "  </tbody>\n",
       "</table>\n",
       "</div>"
      ],
      "text/plain": [
       "   Paciente  Idade da gestante  Idade gestacional em semanas  \\\n",
       "12        M               34.0                          34.0   \n",
       "13        N               39.0                           8.0   \n",
       "14        O               26.0                          21.0   \n",
       "15        P                NaN                           NaN   \n",
       "16        Q                NaN                           NaN   \n",
       "\n",
       "    dias entre infeccao e parto  \\\n",
       "12                           26   \n",
       "13                          231   \n",
       "14                           74   \n",
       "15                           53   \n",
       "16                            6   \n",
       "\n",
       "                                    Condicoes medicas  \n",
       "12                                      Nao informado  \n",
       "13                                      Nao informado  \n",
       "14  Diabetes mellitus gestacional, obesidade e hip...  \n",
       "15                                      Nao informado  \n",
       "16                                      Nao informado  "
      ]
     },
     "execution_count": 5,
     "metadata": {},
     "output_type": "execute_result"
    }
   ],
   "source": [
    "dados_gestantes.tail()"
   ]
  },
  {
   "cell_type": "code",
   "execution_count": 6,
   "id": "c101a010",
   "metadata": {},
   "outputs": [
    {
     "name": "stdout",
     "output_type": "stream",
     "text": [
      "<class 'pandas.core.frame.DataFrame'>\n",
      "RangeIndex: 17 entries, 0 to 16\n",
      "Data columns (total 5 columns):\n",
      " #   Column                        Non-Null Count  Dtype  \n",
      "---  ------                        --------------  -----  \n",
      " 0   Paciente                      17 non-null     object \n",
      " 1   Idade da gestante             15 non-null     float64\n",
      " 2   Idade gestacional em semanas  15 non-null     float64\n",
      " 3   dias entre infeccao e parto   17 non-null     int64  \n",
      " 4   Condicoes medicas             17 non-null     object \n",
      "dtypes: float64(2), int64(1), object(2)\n",
      "memory usage: 812.0+ bytes\n"
     ]
    }
   ],
   "source": [
    "dados_gestantes.info()"
   ]
  },
  {
   "cell_type": "code",
   "execution_count": 7,
   "id": "cd4f4ac2",
   "metadata": {},
   "outputs": [
    {
     "data": {
      "text/plain": [
       "Paciente                         object\n",
       "Idade da gestante               float64\n",
       "Idade gestacional em semanas    float64\n",
       "dias entre infeccao e parto       int64\n",
       "Condicoes medicas                object\n",
       "dtype: object"
      ]
     },
     "execution_count": 7,
     "metadata": {},
     "output_type": "execute_result"
    }
   ],
   "source": [
    "dados_gestantes.dtypes"
   ]
  },
  {
   "cell_type": "markdown",
   "id": "1123bc7b",
   "metadata": {},
   "source": [
    "Verificando valores ausentes no dataframe inteiro, podemos usar tanto a função **isna** quanto **isnull**."
   ]
  },
  {
   "cell_type": "code",
   "execution_count": 8,
   "id": "6933f96e",
   "metadata": {},
   "outputs": [
    {
     "data": {
      "text/plain": [
       "Paciente                        0\n",
       "Idade da gestante               2\n",
       "Idade gestacional em semanas    2\n",
       "dias entre infeccao e parto     0\n",
       "Condicoes medicas               0\n",
       "dtype: int64"
      ]
     },
     "execution_count": 8,
     "metadata": {},
     "output_type": "execute_result"
    }
   ],
   "source": [
    "dados_gestantes.isna().sum()"
   ]
  },
  {
   "cell_type": "code",
   "execution_count": 9,
   "id": "b9043f4c",
   "metadata": {},
   "outputs": [
    {
     "data": {
      "text/plain": [
       "Paciente                        0\n",
       "Idade da gestante               2\n",
       "Idade gestacional em semanas    2\n",
       "dias entre infeccao e parto     0\n",
       "Condicoes medicas               0\n",
       "dtype: int64"
      ]
     },
     "execution_count": 9,
     "metadata": {},
     "output_type": "execute_result"
    }
   ],
   "source": [
    "#verificando dados nulos em cada coluna\n",
    "dados_gestantes.isnull().sum()"
   ]
  },
  {
   "cell_type": "code",
   "execution_count": 10,
   "id": "7f99dd20",
   "metadata": {},
   "outputs": [
    {
     "data": {
      "text/plain": [
       "0"
      ]
     },
     "execution_count": 10,
     "metadata": {},
     "output_type": "execute_result"
    }
   ],
   "source": [
    "#verificando se há dados duplicados por meio da coluna: 'Paciente'\n",
    "dados_gestantes['Paciente'].duplicated().sum()"
   ]
  },
  {
   "cell_type": "code",
   "execution_count": 11,
   "id": "2772b923",
   "metadata": {},
   "outputs": [
    {
     "data": {
      "text/html": [
       "<div>\n",
       "<style scoped>\n",
       "    .dataframe tbody tr th:only-of-type {\n",
       "        vertical-align: middle;\n",
       "    }\n",
       "\n",
       "    .dataframe tbody tr th {\n",
       "        vertical-align: top;\n",
       "    }\n",
       "\n",
       "    .dataframe thead th {\n",
       "        text-align: right;\n",
       "    }\n",
       "</style>\n",
       "<table border=\"1\" class=\"dataframe\">\n",
       "  <thead>\n",
       "    <tr style=\"text-align: right;\">\n",
       "      <th></th>\n",
       "      <th>Idade da gestante</th>\n",
       "      <th>Idade gestacional em semanas</th>\n",
       "      <th>dias entre infeccao e parto</th>\n",
       "    </tr>\n",
       "  </thead>\n",
       "  <tbody>\n",
       "    <tr>\n",
       "      <th>count</th>\n",
       "      <td>15.000000</td>\n",
       "      <td>15.000000</td>\n",
       "      <td>17.000000</td>\n",
       "    </tr>\n",
       "    <tr>\n",
       "      <th>mean</th>\n",
       "      <td>30.533333</td>\n",
       "      <td>30.133333</td>\n",
       "      <td>35.823529</td>\n",
       "    </tr>\n",
       "    <tr>\n",
       "      <th>std</th>\n",
       "      <td>6.854265</td>\n",
       "      <td>7.799878</td>\n",
       "      <td>56.714455</td>\n",
       "    </tr>\n",
       "    <tr>\n",
       "      <th>min</th>\n",
       "      <td>22.000000</td>\n",
       "      <td>8.000000</td>\n",
       "      <td>0.000000</td>\n",
       "    </tr>\n",
       "    <tr>\n",
       "      <th>25%</th>\n",
       "      <td>26.000000</td>\n",
       "      <td>27.000000</td>\n",
       "      <td>3.000000</td>\n",
       "    </tr>\n",
       "    <tr>\n",
       "      <th>50%</th>\n",
       "      <td>29.000000</td>\n",
       "      <td>34.000000</td>\n",
       "      <td>12.000000</td>\n",
       "    </tr>\n",
       "    <tr>\n",
       "      <th>75%</th>\n",
       "      <td>35.500000</td>\n",
       "      <td>34.500000</td>\n",
       "      <td>46.000000</td>\n",
       "    </tr>\n",
       "    <tr>\n",
       "      <th>max</th>\n",
       "      <td>45.000000</td>\n",
       "      <td>38.000000</td>\n",
       "      <td>231.000000</td>\n",
       "    </tr>\n",
       "  </tbody>\n",
       "</table>\n",
       "</div>"
      ],
      "text/plain": [
       "       Idade da gestante  Idade gestacional em semanas  \\\n",
       "count          15.000000                     15.000000   \n",
       "mean           30.533333                     30.133333   \n",
       "std             6.854265                      7.799878   \n",
       "min            22.000000                      8.000000   \n",
       "25%            26.000000                     27.000000   \n",
       "50%            29.000000                     34.000000   \n",
       "75%            35.500000                     34.500000   \n",
       "max            45.000000                     38.000000   \n",
       "\n",
       "       dias entre infeccao e parto  \n",
       "count                    17.000000  \n",
       "mean                     35.823529  \n",
       "std                      56.714455  \n",
       "min                       0.000000  \n",
       "25%                       3.000000  \n",
       "50%                      12.000000  \n",
       "75%                      46.000000  \n",
       "max                     231.000000  "
      ]
     },
     "execution_count": 11,
     "metadata": {},
     "output_type": "execute_result"
    }
   ],
   "source": [
    "dados_gestantes.describe()"
   ]
  },
  {
   "cell_type": "markdown",
   "id": "62576095",
   "metadata": {},
   "source": [
    "**Filtrando:** Iremos verificar se cada valor na série 'Idade da gestante' está presente na lista [20, 25, 30]. Será retornado uma série booleana com True nas posições onde os valores da série 'Idade da gestante' correspondem a um dos valores da lista e False caso contrário. Ao final teremos uma série que contém todas as linhas onde a coluna 'Idade da gestante' possui um valor de 20, 25 ou 30 anos."
   ]
  },
  {
   "cell_type": "code",
   "execution_count": 12,
   "id": "514f3d89",
   "metadata": {},
   "outputs": [
    {
     "data": {
      "text/html": [
       "<div>\n",
       "<style scoped>\n",
       "    .dataframe tbody tr th:only-of-type {\n",
       "        vertical-align: middle;\n",
       "    }\n",
       "\n",
       "    .dataframe tbody tr th {\n",
       "        vertical-align: top;\n",
       "    }\n",
       "\n",
       "    .dataframe thead th {\n",
       "        text-align: right;\n",
       "    }\n",
       "</style>\n",
       "<table border=\"1\" class=\"dataframe\">\n",
       "  <thead>\n",
       "    <tr style=\"text-align: right;\">\n",
       "      <th></th>\n",
       "      <th>Paciente</th>\n",
       "      <th>Idade da gestante</th>\n",
       "      <th>Idade gestacional em semanas</th>\n",
       "      <th>dias entre infeccao e parto</th>\n",
       "      <th>Condicoes medicas</th>\n",
       "    </tr>\n",
       "  </thead>\n",
       "  <tbody>\n",
       "    <tr>\n",
       "      <th>10</th>\n",
       "      <td>K</td>\n",
       "      <td>30.0</td>\n",
       "      <td>30.0</td>\n",
       "      <td>46</td>\n",
       "      <td>Pre eclampsia e diabetes mellitus gestacional,...</td>\n",
       "    </tr>\n",
       "  </tbody>\n",
       "</table>\n",
       "</div>"
      ],
      "text/plain": [
       "   Paciente  Idade da gestante  Idade gestacional em semanas  \\\n",
       "10        K               30.0                          30.0   \n",
       "\n",
       "    dias entre infeccao e parto  \\\n",
       "10                           46   \n",
       "\n",
       "                                    Condicoes medicas  \n",
       "10  Pre eclampsia e diabetes mellitus gestacional,...  "
      ]
     },
     "execution_count": 12,
     "metadata": {},
     "output_type": "execute_result"
    }
   ],
   "source": [
    "dados_gestantes[dados_gestantes['Idade da gestante'].isin([20,25,30])]"
   ]
  },
  {
   "cell_type": "code",
   "execution_count": 13,
   "id": "53998480",
   "metadata": {},
   "outputs": [
    {
     "data": {
      "text/plain": [
       "(1, 5)"
      ]
     },
     "execution_count": 13,
     "metadata": {},
     "output_type": "execute_result"
    }
   ],
   "source": [
    "dados_gestantes[dados_gestantes['Idade da gestante'].isin([20,25,30])].shape"
   ]
  },
  {
   "cell_type": "markdown",
   "id": "0750886b",
   "metadata": {},
   "source": [
    "**Filtrando**, verificando se há uma paciente com idade igual à 30 e idade gestacional também igual à 30."
   ]
  },
  {
   "cell_type": "code",
   "execution_count": 14,
   "id": "0b0a4992",
   "metadata": {},
   "outputs": [
    {
     "data": {
      "text/html": [
       "<div>\n",
       "<style scoped>\n",
       "    .dataframe tbody tr th:only-of-type {\n",
       "        vertical-align: middle;\n",
       "    }\n",
       "\n",
       "    .dataframe tbody tr th {\n",
       "        vertical-align: top;\n",
       "    }\n",
       "\n",
       "    .dataframe thead th {\n",
       "        text-align: right;\n",
       "    }\n",
       "</style>\n",
       "<table border=\"1\" class=\"dataframe\">\n",
       "  <thead>\n",
       "    <tr style=\"text-align: right;\">\n",
       "      <th></th>\n",
       "      <th>Paciente</th>\n",
       "      <th>Idade da gestante</th>\n",
       "      <th>Idade gestacional em semanas</th>\n",
       "      <th>dias entre infeccao e parto</th>\n",
       "      <th>Condicoes medicas</th>\n",
       "    </tr>\n",
       "  </thead>\n",
       "  <tbody>\n",
       "    <tr>\n",
       "      <th>10</th>\n",
       "      <td>K</td>\n",
       "      <td>30.0</td>\n",
       "      <td>30.0</td>\n",
       "      <td>46</td>\n",
       "      <td>Pre eclampsia e diabetes mellitus gestacional,...</td>\n",
       "    </tr>\n",
       "  </tbody>\n",
       "</table>\n",
       "</div>"
      ],
      "text/plain": [
       "   Paciente  Idade da gestante  Idade gestacional em semanas  \\\n",
       "10        K               30.0                          30.0   \n",
       "\n",
       "    dias entre infeccao e parto  \\\n",
       "10                           46   \n",
       "\n",
       "                                    Condicoes medicas  \n",
       "10  Pre eclampsia e diabetes mellitus gestacional,...  "
      ]
     },
     "execution_count": 14,
     "metadata": {},
     "output_type": "execute_result"
    }
   ],
   "source": [
    "dados_gestantes[(dados_gestantes['Idade da gestante'] == 30) & (dados_gestantes['Idade gestacional em semanas'] == 30)]"
   ]
  },
  {
   "cell_type": "code",
   "execution_count": 15,
   "id": "0e4288fe",
   "metadata": {},
   "outputs": [
    {
     "data": {
      "text/html": [
       "<div>\n",
       "<style scoped>\n",
       "    .dataframe tbody tr th:only-of-type {\n",
       "        vertical-align: middle;\n",
       "    }\n",
       "\n",
       "    .dataframe tbody tr th {\n",
       "        vertical-align: top;\n",
       "    }\n",
       "\n",
       "    .dataframe thead th {\n",
       "        text-align: right;\n",
       "    }\n",
       "</style>\n",
       "<table border=\"1\" class=\"dataframe\">\n",
       "  <thead>\n",
       "    <tr style=\"text-align: right;\">\n",
       "      <th></th>\n",
       "      <th>Paciente</th>\n",
       "      <th>Idade da gestante</th>\n",
       "      <th>Idade gestacional em semanas</th>\n",
       "      <th>dias entre infeccao e parto</th>\n",
       "      <th>Condicoes medicas</th>\n",
       "    </tr>\n",
       "  </thead>\n",
       "  <tbody>\n",
       "    <tr>\n",
       "      <th>15</th>\n",
       "      <td>P</td>\n",
       "      <td>NaN</td>\n",
       "      <td>NaN</td>\n",
       "      <td>53</td>\n",
       "      <td>Nao informado</td>\n",
       "    </tr>\n",
       "    <tr>\n",
       "      <th>16</th>\n",
       "      <td>Q</td>\n",
       "      <td>NaN</td>\n",
       "      <td>NaN</td>\n",
       "      <td>6</td>\n",
       "      <td>Nao informado</td>\n",
       "    </tr>\n",
       "  </tbody>\n",
       "</table>\n",
       "</div>"
      ],
      "text/plain": [
       "   Paciente  Idade da gestante  Idade gestacional em semanas  \\\n",
       "15        P                NaN                           NaN   \n",
       "16        Q                NaN                           NaN   \n",
       "\n",
       "    dias entre infeccao e parto Condicoes medicas  \n",
       "15                           53     Nao informado  \n",
       "16                            6     Nao informado  "
      ]
     },
     "execution_count": 15,
     "metadata": {},
     "output_type": "execute_result"
    }
   ],
   "source": [
    "#Buscando os valores nulos da coluna 'idade da gestante':\n",
    "dados_gestantes[dados_gestantes['Idade da gestante'].isnull()]"
   ]
  },
  {
   "cell_type": "code",
   "execution_count": 16,
   "id": "efce14ea",
   "metadata": {},
   "outputs": [],
   "source": [
    "#Usamos o método fillna(30, inplace=True) para preencher os valores nulos na coluna com valor específico, neste caso, a média.\n",
    "dados_gestantes['Idade da gestante'].fillna(30, inplace=True)"
   ]
  },
  {
   "cell_type": "code",
   "execution_count": 17,
   "id": "d9fc46a6",
   "metadata": {},
   "outputs": [
    {
     "data": {
      "text/html": [
       "<div>\n",
       "<style scoped>\n",
       "    .dataframe tbody tr th:only-of-type {\n",
       "        vertical-align: middle;\n",
       "    }\n",
       "\n",
       "    .dataframe tbody tr th {\n",
       "        vertical-align: top;\n",
       "    }\n",
       "\n",
       "    .dataframe thead th {\n",
       "        text-align: right;\n",
       "    }\n",
       "</style>\n",
       "<table border=\"1\" class=\"dataframe\">\n",
       "  <thead>\n",
       "    <tr style=\"text-align: right;\">\n",
       "      <th></th>\n",
       "      <th>Paciente</th>\n",
       "      <th>Idade da gestante</th>\n",
       "      <th>Idade gestacional em semanas</th>\n",
       "      <th>dias entre infeccao e parto</th>\n",
       "      <th>Condicoes medicas</th>\n",
       "    </tr>\n",
       "  </thead>\n",
       "  <tbody>\n",
       "  </tbody>\n",
       "</table>\n",
       "</div>"
      ],
      "text/plain": [
       "Empty DataFrame\n",
       "Columns: [Paciente, Idade da gestante, Idade gestacional em semanas, dias entre infeccao e parto, Condicoes medicas]\n",
       "Index: []"
      ]
     },
     "execution_count": 17,
     "metadata": {},
     "output_type": "execute_result"
    }
   ],
   "source": [
    "#Buscando novamente os valores nulos da coluna 'idade da gestante':\n",
    "dados_gestantes[dados_gestantes['Idade da gestante'].isnull()]"
   ]
  },
  {
   "cell_type": "markdown",
   "id": "a5f3eebc",
   "metadata": {},
   "source": [
    "Outra forma de substituir os valores é por meio do método loc.   **dados_gestantes.loc[dados_gestantes['Idade da gestante'].isnull(), 'Idade da gestante'] = 30**. Neste caso o método Loc seleciona as linhas correspondentes onde a série booleana é True. Neste exemplo, a série booleana apresenta True nas posições onde os valores são nulos e False onde não são. Posteriormente,atribuimos o valor 30 às posições selecionadas pelas linhas e coluna especificadas, substituindo os valores nulos."
   ]
  },
  {
   "cell_type": "code",
   "execution_count": 18,
   "id": "c0b7d468",
   "metadata": {},
   "outputs": [
    {
     "data": {
      "text/plain": [
       "<bound method Series.sort_values of dias entre infeccao e parto\n",
       "0      4\n",
       "3      2\n",
       "4      1\n",
       "6      1\n",
       "12     1\n",
       "26     1\n",
       "33     1\n",
       "42     1\n",
       "46     1\n",
       "53     1\n",
       "74     1\n",
       "76     1\n",
       "231    1\n",
       "dtype: int64>"
      ]
     },
     "execution_count": 18,
     "metadata": {},
     "output_type": "execute_result"
    }
   ],
   "source": [
    "#Verificar a ocorrência de valores pela coluna 'dias entre infecção e parto' em ordem descrescente.\n",
    "dados_gestantes.groupby('dias entre infeccao e parto').size().sort_values"
   ]
  },
  {
   "cell_type": "markdown",
   "id": "855df4ac",
   "metadata": {},
   "source": [
    "**Agora utilizamos um filtro** para buscar todas as linhas que contenham paciente que apresentam Diabetes como condição médica subjacente. O **str.contains** é usado para verificar se cada elemento de uma série de strings contém um determinado padrão de texto. **case=False**, quando case é definido como False, a pesquisa é realizada de forma insensível a maiúsculas e minúsculas."
   ]
  },
  {
   "cell_type": "code",
   "execution_count": 19,
   "id": "49109ceb",
   "metadata": {},
   "outputs": [
    {
     "data": {
      "text/html": [
       "<div>\n",
       "<style scoped>\n",
       "    .dataframe tbody tr th:only-of-type {\n",
       "        vertical-align: middle;\n",
       "    }\n",
       "\n",
       "    .dataframe tbody tr th {\n",
       "        vertical-align: top;\n",
       "    }\n",
       "\n",
       "    .dataframe thead th {\n",
       "        text-align: right;\n",
       "    }\n",
       "</style>\n",
       "<table border=\"1\" class=\"dataframe\">\n",
       "  <thead>\n",
       "    <tr style=\"text-align: right;\">\n",
       "      <th></th>\n",
       "      <th>Paciente</th>\n",
       "      <th>Idade da gestante</th>\n",
       "      <th>Idade gestacional em semanas</th>\n",
       "      <th>dias entre infeccao e parto</th>\n",
       "      <th>Condicoes medicas</th>\n",
       "    </tr>\n",
       "  </thead>\n",
       "  <tbody>\n",
       "    <tr>\n",
       "      <th>0</th>\n",
       "      <td>A</td>\n",
       "      <td>45.0</td>\n",
       "      <td>26.0</td>\n",
       "      <td>3</td>\n",
       "      <td>Pre eclampsia e diabetes mellitus gestacional</td>\n",
       "    </tr>\n",
       "    <tr>\n",
       "      <th>2</th>\n",
       "      <td>C</td>\n",
       "      <td>29.0</td>\n",
       "      <td>34.0</td>\n",
       "      <td>0</td>\n",
       "      <td>Diabetes mellitus gestacional, obesidade, hipo...</td>\n",
       "    </tr>\n",
       "    <tr>\n",
       "      <th>5</th>\n",
       "      <td>F</td>\n",
       "      <td>28.0</td>\n",
       "      <td>25.0</td>\n",
       "      <td>76</td>\n",
       "      <td>Diabetes mellitus tipo 2</td>\n",
       "    </tr>\n",
       "    <tr>\n",
       "      <th>6</th>\n",
       "      <td>G</td>\n",
       "      <td>22.0</td>\n",
       "      <td>35.0</td>\n",
       "      <td>4</td>\n",
       "      <td>Diabetes mellitus gestacional, obesidade e hip...</td>\n",
       "    </tr>\n",
       "    <tr>\n",
       "      <th>10</th>\n",
       "      <td>K</td>\n",
       "      <td>30.0</td>\n",
       "      <td>30.0</td>\n",
       "      <td>46</td>\n",
       "      <td>Pre eclampsia e diabetes mellitus gestacional,...</td>\n",
       "    </tr>\n",
       "    <tr>\n",
       "      <th>11</th>\n",
       "      <td>L</td>\n",
       "      <td>27.0</td>\n",
       "      <td>37.0</td>\n",
       "      <td>12</td>\n",
       "      <td>Diabetes mellitus gestacional</td>\n",
       "    </tr>\n",
       "    <tr>\n",
       "      <th>14</th>\n",
       "      <td>O</td>\n",
       "      <td>26.0</td>\n",
       "      <td>21.0</td>\n",
       "      <td>74</td>\n",
       "      <td>Diabetes mellitus gestacional, obesidade e hip...</td>\n",
       "    </tr>\n",
       "  </tbody>\n",
       "</table>\n",
       "</div>"
      ],
      "text/plain": [
       "   Paciente  Idade da gestante  Idade gestacional em semanas  \\\n",
       "0         A               45.0                          26.0   \n",
       "2         C               29.0                          34.0   \n",
       "5         F               28.0                          25.0   \n",
       "6         G               22.0                          35.0   \n",
       "10        K               30.0                          30.0   \n",
       "11        L               27.0                          37.0   \n",
       "14        O               26.0                          21.0   \n",
       "\n",
       "    dias entre infeccao e parto  \\\n",
       "0                             3   \n",
       "2                             0   \n",
       "5                            76   \n",
       "6                             4   \n",
       "10                           46   \n",
       "11                           12   \n",
       "14                           74   \n",
       "\n",
       "                                    Condicoes medicas  \n",
       "0       Pre eclampsia e diabetes mellitus gestacional  \n",
       "2   Diabetes mellitus gestacional, obesidade, hipo...  \n",
       "5                            Diabetes mellitus tipo 2  \n",
       "6   Diabetes mellitus gestacional, obesidade e hip...  \n",
       "10  Pre eclampsia e diabetes mellitus gestacional,...  \n",
       "11                      Diabetes mellitus gestacional  \n",
       "14  Diabetes mellitus gestacional, obesidade e hip...  "
      ]
     },
     "execution_count": 19,
     "metadata": {},
     "output_type": "execute_result"
    }
   ],
   "source": [
    "dados_gestantes[dados_gestantes['Condicoes medicas'].str.contains('diabetes', case=False)]"
   ]
  },
  {
   "cell_type": "markdown",
   "id": "97a7e86f",
   "metadata": {},
   "source": [
    "Também é possivel realizar um filtro com o método **startswith**. O método startswith retorna True se o valor começar com a string fornecida, caso contrário, retorna False. Desta forma, a expressão abaixo cria uma série booleana e o resultado dessa operação será uma série que conterá apenas as linhas do DataFrame original onde a coluna 'Condicoes medicas' começa com a string 'Dia'."
   ]
  },
  {
   "cell_type": "code",
   "execution_count": 20,
   "id": "5cb414c9",
   "metadata": {},
   "outputs": [
    {
     "data": {
      "text/html": [
       "<div>\n",
       "<style scoped>\n",
       "    .dataframe tbody tr th:only-of-type {\n",
       "        vertical-align: middle;\n",
       "    }\n",
       "\n",
       "    .dataframe tbody tr th {\n",
       "        vertical-align: top;\n",
       "    }\n",
       "\n",
       "    .dataframe thead th {\n",
       "        text-align: right;\n",
       "    }\n",
       "</style>\n",
       "<table border=\"1\" class=\"dataframe\">\n",
       "  <thead>\n",
       "    <tr style=\"text-align: right;\">\n",
       "      <th></th>\n",
       "      <th>Paciente</th>\n",
       "      <th>Idade da gestante</th>\n",
       "      <th>Idade gestacional em semanas</th>\n",
       "      <th>dias entre infeccao e parto</th>\n",
       "      <th>Condicoes medicas</th>\n",
       "    </tr>\n",
       "  </thead>\n",
       "  <tbody>\n",
       "    <tr>\n",
       "      <th>2</th>\n",
       "      <td>C</td>\n",
       "      <td>29.0</td>\n",
       "      <td>34.0</td>\n",
       "      <td>0</td>\n",
       "      <td>Diabetes mellitus gestacional, obesidade, hipo...</td>\n",
       "    </tr>\n",
       "    <tr>\n",
       "      <th>5</th>\n",
       "      <td>F</td>\n",
       "      <td>28.0</td>\n",
       "      <td>25.0</td>\n",
       "      <td>76</td>\n",
       "      <td>Diabetes mellitus tipo 2</td>\n",
       "    </tr>\n",
       "    <tr>\n",
       "      <th>6</th>\n",
       "      <td>G</td>\n",
       "      <td>22.0</td>\n",
       "      <td>35.0</td>\n",
       "      <td>4</td>\n",
       "      <td>Diabetes mellitus gestacional, obesidade e hip...</td>\n",
       "    </tr>\n",
       "    <tr>\n",
       "      <th>11</th>\n",
       "      <td>L</td>\n",
       "      <td>27.0</td>\n",
       "      <td>37.0</td>\n",
       "      <td>12</td>\n",
       "      <td>Diabetes mellitus gestacional</td>\n",
       "    </tr>\n",
       "    <tr>\n",
       "      <th>14</th>\n",
       "      <td>O</td>\n",
       "      <td>26.0</td>\n",
       "      <td>21.0</td>\n",
       "      <td>74</td>\n",
       "      <td>Diabetes mellitus gestacional, obesidade e hip...</td>\n",
       "    </tr>\n",
       "  </tbody>\n",
       "</table>\n",
       "</div>"
      ],
      "text/plain": [
       "   Paciente  Idade da gestante  Idade gestacional em semanas  \\\n",
       "2         C               29.0                          34.0   \n",
       "5         F               28.0                          25.0   \n",
       "6         G               22.0                          35.0   \n",
       "11        L               27.0                          37.0   \n",
       "14        O               26.0                          21.0   \n",
       "\n",
       "    dias entre infeccao e parto  \\\n",
       "2                             0   \n",
       "5                            76   \n",
       "6                             4   \n",
       "11                           12   \n",
       "14                           74   \n",
       "\n",
       "                                    Condicoes medicas  \n",
       "2   Diabetes mellitus gestacional, obesidade, hipo...  \n",
       "5                            Diabetes mellitus tipo 2  \n",
       "6   Diabetes mellitus gestacional, obesidade e hip...  \n",
       "11                      Diabetes mellitus gestacional  \n",
       "14  Diabetes mellitus gestacional, obesidade e hip...  "
      ]
     },
     "execution_count": 20,
     "metadata": {},
     "output_type": "execute_result"
    }
   ],
   "source": [
    "dados_gestantes[dados_gestantes['Condicoes medicas'].str.startswith('Dia')]"
   ]
  },
  {
   "cell_type": "markdown",
   "id": "f66d90f7",
   "metadata": {},
   "source": [
    "Podemos utilizar o **método replace** para substituir dados específicos, como no exemplo abaixo:"
   ]
  },
  {
   "cell_type": "code",
   "execution_count": 21,
   "id": "923ebf7d",
   "metadata": {},
   "outputs": [],
   "source": [
    "dados_gestantes['Condicoes medicas'] = dados_gestantes['Condicoes medicas'].str.replace('Nao informado', 'Sem dados')"
   ]
  },
  {
   "cell_type": "code",
   "execution_count": 22,
   "id": "248717e4",
   "metadata": {},
   "outputs": [
    {
     "data": {
      "text/html": [
       "<div>\n",
       "<style scoped>\n",
       "    .dataframe tbody tr th:only-of-type {\n",
       "        vertical-align: middle;\n",
       "    }\n",
       "\n",
       "    .dataframe tbody tr th {\n",
       "        vertical-align: top;\n",
       "    }\n",
       "\n",
       "    .dataframe thead th {\n",
       "        text-align: right;\n",
       "    }\n",
       "</style>\n",
       "<table border=\"1\" class=\"dataframe\">\n",
       "  <thead>\n",
       "    <tr style=\"text-align: right;\">\n",
       "      <th></th>\n",
       "      <th>Paciente</th>\n",
       "      <th>Idade da gestante</th>\n",
       "      <th>Idade gestacional em semanas</th>\n",
       "      <th>dias entre infeccao e parto</th>\n",
       "      <th>Condicoes medicas</th>\n",
       "    </tr>\n",
       "  </thead>\n",
       "  <tbody>\n",
       "    <tr>\n",
       "      <th>0</th>\n",
       "      <td>A</td>\n",
       "      <td>45.0</td>\n",
       "      <td>26.0</td>\n",
       "      <td>3</td>\n",
       "      <td>Pre eclampsia e diabetes mellitus gestacional</td>\n",
       "    </tr>\n",
       "    <tr>\n",
       "      <th>1</th>\n",
       "      <td>B</td>\n",
       "      <td>38.0</td>\n",
       "      <td>28.0</td>\n",
       "      <td>3</td>\n",
       "      <td>Hipotireoidismo pre gestacional</td>\n",
       "    </tr>\n",
       "    <tr>\n",
       "      <th>2</th>\n",
       "      <td>C</td>\n",
       "      <td>29.0</td>\n",
       "      <td>34.0</td>\n",
       "      <td>0</td>\n",
       "      <td>Diabetes mellitus gestacional, obesidade, hipo...</td>\n",
       "    </tr>\n",
       "    <tr>\n",
       "      <th>3</th>\n",
       "      <td>D</td>\n",
       "      <td>37.0</td>\n",
       "      <td>34.0</td>\n",
       "      <td>0</td>\n",
       "      <td>Transtorno de ansiedade generalizada</td>\n",
       "    </tr>\n",
       "    <tr>\n",
       "      <th>4</th>\n",
       "      <td>E</td>\n",
       "      <td>23.0</td>\n",
       "      <td>36.0</td>\n",
       "      <td>0</td>\n",
       "      <td>Sem dados</td>\n",
       "    </tr>\n",
       "  </tbody>\n",
       "</table>\n",
       "</div>"
      ],
      "text/plain": [
       "  Paciente  Idade da gestante  Idade gestacional em semanas  \\\n",
       "0        A               45.0                          26.0   \n",
       "1        B               38.0                          28.0   \n",
       "2        C               29.0                          34.0   \n",
       "3        D               37.0                          34.0   \n",
       "4        E               23.0                          36.0   \n",
       "\n",
       "   dias entre infeccao e parto  \\\n",
       "0                            3   \n",
       "1                            3   \n",
       "2                            0   \n",
       "3                            0   \n",
       "4                            0   \n",
       "\n",
       "                                   Condicoes medicas  \n",
       "0      Pre eclampsia e diabetes mellitus gestacional  \n",
       "1                    Hipotireoidismo pre gestacional  \n",
       "2  Diabetes mellitus gestacional, obesidade, hipo...  \n",
       "3               Transtorno de ansiedade generalizada  \n",
       "4                                          Sem dados  "
      ]
     },
     "execution_count": 22,
     "metadata": {},
     "output_type": "execute_result"
    }
   ],
   "source": [
    "dados_gestantes.head()"
   ]
  },
  {
   "cell_type": "markdown",
   "id": "3fa2000a",
   "metadata": {},
   "source": [
    "Agora queremos dividir(**transformar os dados**) cada patologia da coluna Condições médicas, perceba que cada patologia é divida por **,** ou **e**. Para isto utilizamos o método **split**, ele divide uma string em pedaços com base em um separador especificado, **neste caso , ou(|) e**. Já o **expand=True:**, é usado para indicar que desejamos que o resultado seja expandido em colunas separadas."
   ]
  },
  {
   "cell_type": "code",
   "execution_count": 23,
   "id": "f8c95fd0",
   "metadata": {},
   "outputs": [
    {
     "data": {
      "text/html": [
       "<div>\n",
       "<style scoped>\n",
       "    .dataframe tbody tr th:only-of-type {\n",
       "        vertical-align: middle;\n",
       "    }\n",
       "\n",
       "    .dataframe tbody tr th {\n",
       "        vertical-align: top;\n",
       "    }\n",
       "\n",
       "    .dataframe thead th {\n",
       "        text-align: right;\n",
       "    }\n",
       "</style>\n",
       "<table border=\"1\" class=\"dataframe\">\n",
       "  <thead>\n",
       "    <tr style=\"text-align: right;\">\n",
       "      <th></th>\n",
       "      <th>0</th>\n",
       "      <th>1</th>\n",
       "      <th>2</th>\n",
       "      <th>3</th>\n",
       "      <th>4</th>\n",
       "    </tr>\n",
       "  </thead>\n",
       "  <tbody>\n",
       "    <tr>\n",
       "      <th>0</th>\n",
       "      <td>Pre eclampsia</td>\n",
       "      <td>diabetes mellitus gestacional</td>\n",
       "      <td>None</td>\n",
       "      <td>None</td>\n",
       "      <td>None</td>\n",
       "    </tr>\n",
       "    <tr>\n",
       "      <th>1</th>\n",
       "      <td>Hipotireoidismo pre gestacional</td>\n",
       "      <td>None</td>\n",
       "      <td>None</td>\n",
       "      <td>None</td>\n",
       "      <td>None</td>\n",
       "    </tr>\n",
       "    <tr>\n",
       "      <th>2</th>\n",
       "      <td>Diabetes mellitus gestacional</td>\n",
       "      <td>obesidade</td>\n",
       "      <td>hipotireoidismo</td>\n",
       "      <td>ex usuaria de substancia psicoativa</td>\n",
       "      <td>historico de sifilis devidamente tratada</td>\n",
       "    </tr>\n",
       "    <tr>\n",
       "      <th>3</th>\n",
       "      <td>Transtorno de ansiedade generalizada</td>\n",
       "      <td>None</td>\n",
       "      <td>None</td>\n",
       "      <td>None</td>\n",
       "      <td>None</td>\n",
       "    </tr>\n",
       "    <tr>\n",
       "      <th>4</th>\n",
       "      <td>Sem dados</td>\n",
       "      <td>None</td>\n",
       "      <td>None</td>\n",
       "      <td>None</td>\n",
       "      <td>None</td>\n",
       "    </tr>\n",
       "    <tr>\n",
       "      <th>5</th>\n",
       "      <td>Diabetes mellitus tipo 2</td>\n",
       "      <td>None</td>\n",
       "      <td>None</td>\n",
       "      <td>None</td>\n",
       "      <td>None</td>\n",
       "    </tr>\n",
       "    <tr>\n",
       "      <th>6</th>\n",
       "      <td>Diabetes mellitus gestacional</td>\n",
       "      <td>obesidade</td>\n",
       "      <td>hipotireoidismo</td>\n",
       "      <td>None</td>\n",
       "      <td>None</td>\n",
       "    </tr>\n",
       "    <tr>\n",
       "      <th>7</th>\n",
       "      <td>Toxoplasmose aguda</td>\n",
       "      <td>hipotireoidismo</td>\n",
       "      <td>None</td>\n",
       "      <td>None</td>\n",
       "      <td>None</td>\n",
       "    </tr>\n",
       "    <tr>\n",
       "      <th>8</th>\n",
       "      <td>Asma</td>\n",
       "      <td>transtorno de ansiedade generalizada</td>\n",
       "      <td>obesidade</td>\n",
       "      <td>None</td>\n",
       "      <td>None</td>\n",
       "    </tr>\n",
       "    <tr>\n",
       "      <th>9</th>\n",
       "      <td>Sem dados</td>\n",
       "      <td>None</td>\n",
       "      <td>None</td>\n",
       "      <td>None</td>\n",
       "      <td>None</td>\n",
       "    </tr>\n",
       "  </tbody>\n",
       "</table>\n",
       "</div>"
      ],
      "text/plain": [
       "                                      0  \\\n",
       "0                         Pre eclampsia   \n",
       "1       Hipotireoidismo pre gestacional   \n",
       "2         Diabetes mellitus gestacional   \n",
       "3  Transtorno de ansiedade generalizada   \n",
       "4                             Sem dados   \n",
       "5              Diabetes mellitus tipo 2   \n",
       "6         Diabetes mellitus gestacional   \n",
       "7                    Toxoplasmose aguda   \n",
       "8                                  Asma   \n",
       "9                             Sem dados   \n",
       "\n",
       "                                       1                 2  \\\n",
       "0          diabetes mellitus gestacional              None   \n",
       "1                                   None              None   \n",
       "2                              obesidade   hipotireoidismo   \n",
       "3                                   None              None   \n",
       "4                                   None              None   \n",
       "5                                   None              None   \n",
       "6                              obesidade   hipotireoidismo   \n",
       "7                        hipotireoidismo              None   \n",
       "8   transtorno de ansiedade generalizada         obesidade   \n",
       "9                                   None              None   \n",
       "\n",
       "                                      3  \\\n",
       "0                                  None   \n",
       "1                                  None   \n",
       "2   ex usuaria de substancia psicoativa   \n",
       "3                                  None   \n",
       "4                                  None   \n",
       "5                                  None   \n",
       "6                                  None   \n",
       "7                                  None   \n",
       "8                                  None   \n",
       "9                                  None   \n",
       "\n",
       "                                          4  \n",
       "0                                      None  \n",
       "1                                      None  \n",
       "2  historico de sifilis devidamente tratada  \n",
       "3                                      None  \n",
       "4                                      None  \n",
       "5                                      None  \n",
       "6                                      None  \n",
       "7                                      None  \n",
       "8                                      None  \n",
       "9                                      None  "
      ]
     },
     "execution_count": 23,
     "metadata": {},
     "output_type": "execute_result"
    }
   ],
   "source": [
    "dados_gestantes['Condicoes medicas'].str.split(',| e ', expand=True).head(10)"
   ]
  },
  {
   "cell_type": "markdown",
   "id": "090a9e2e",
   "metadata": {},
   "source": [
    "Apos realizar a transformação dos dados, podemos gravar a patologia descrita na posição 0 em uma nova coluna, isto é bastante útil quando queremos realizar operações com cada dado separadamente. O **str[0]**  é usado para acessar o primeiro elemento de da lista resultante que em seguida é atribuído a coluna 'Primeira patologia'. Esta técnica é chamada de **Split de strings**, uma técnica comum na **engenharia de atributos (feature engineering)** que pode ser usada para criar novos recursos ou características úteis para análise de dados."
   ]
  },
  {
   "cell_type": "code",
   "execution_count": 24,
   "id": "eab5e37c",
   "metadata": {},
   "outputs": [],
   "source": [
    "dados_gestantes['Primeira patologia'] = dados_gestantes['Condicoes medicas'].str.split(',| e ').str[0]"
   ]
  },
  {
   "cell_type": "code",
   "execution_count": 25,
   "id": "f49c3760",
   "metadata": {},
   "outputs": [
    {
     "data": {
      "text/html": [
       "<div>\n",
       "<style scoped>\n",
       "    .dataframe tbody tr th:only-of-type {\n",
       "        vertical-align: middle;\n",
       "    }\n",
       "\n",
       "    .dataframe tbody tr th {\n",
       "        vertical-align: top;\n",
       "    }\n",
       "\n",
       "    .dataframe thead th {\n",
       "        text-align: right;\n",
       "    }\n",
       "</style>\n",
       "<table border=\"1\" class=\"dataframe\">\n",
       "  <thead>\n",
       "    <tr style=\"text-align: right;\">\n",
       "      <th></th>\n",
       "      <th>Paciente</th>\n",
       "      <th>Idade da gestante</th>\n",
       "      <th>Idade gestacional em semanas</th>\n",
       "      <th>dias entre infeccao e parto</th>\n",
       "      <th>Condicoes medicas</th>\n",
       "      <th>Primeira patologia</th>\n",
       "    </tr>\n",
       "  </thead>\n",
       "  <tbody>\n",
       "    <tr>\n",
       "      <th>0</th>\n",
       "      <td>A</td>\n",
       "      <td>45.0</td>\n",
       "      <td>26.0</td>\n",
       "      <td>3</td>\n",
       "      <td>Pre eclampsia e diabetes mellitus gestacional</td>\n",
       "      <td>Pre eclampsia</td>\n",
       "    </tr>\n",
       "    <tr>\n",
       "      <th>1</th>\n",
       "      <td>B</td>\n",
       "      <td>38.0</td>\n",
       "      <td>28.0</td>\n",
       "      <td>3</td>\n",
       "      <td>Hipotireoidismo pre gestacional</td>\n",
       "      <td>Hipotireoidismo pre gestacional</td>\n",
       "    </tr>\n",
       "    <tr>\n",
       "      <th>2</th>\n",
       "      <td>C</td>\n",
       "      <td>29.0</td>\n",
       "      <td>34.0</td>\n",
       "      <td>0</td>\n",
       "      <td>Diabetes mellitus gestacional, obesidade, hipo...</td>\n",
       "      <td>Diabetes mellitus gestacional</td>\n",
       "    </tr>\n",
       "    <tr>\n",
       "      <th>3</th>\n",
       "      <td>D</td>\n",
       "      <td>37.0</td>\n",
       "      <td>34.0</td>\n",
       "      <td>0</td>\n",
       "      <td>Transtorno de ansiedade generalizada</td>\n",
       "      <td>Transtorno de ansiedade generalizada</td>\n",
       "    </tr>\n",
       "    <tr>\n",
       "      <th>4</th>\n",
       "      <td>E</td>\n",
       "      <td>23.0</td>\n",
       "      <td>36.0</td>\n",
       "      <td>0</td>\n",
       "      <td>Sem dados</td>\n",
       "      <td>Sem dados</td>\n",
       "    </tr>\n",
       "  </tbody>\n",
       "</table>\n",
       "</div>"
      ],
      "text/plain": [
       "  Paciente  Idade da gestante  Idade gestacional em semanas  \\\n",
       "0        A               45.0                          26.0   \n",
       "1        B               38.0                          28.0   \n",
       "2        C               29.0                          34.0   \n",
       "3        D               37.0                          34.0   \n",
       "4        E               23.0                          36.0   \n",
       "\n",
       "   dias entre infeccao e parto  \\\n",
       "0                            3   \n",
       "1                            3   \n",
       "2                            0   \n",
       "3                            0   \n",
       "4                            0   \n",
       "\n",
       "                                   Condicoes medicas  \\\n",
       "0      Pre eclampsia e diabetes mellitus gestacional   \n",
       "1                    Hipotireoidismo pre gestacional   \n",
       "2  Diabetes mellitus gestacional, obesidade, hipo...   \n",
       "3               Transtorno de ansiedade generalizada   \n",
       "4                                          Sem dados   \n",
       "\n",
       "                     Primeira patologia  \n",
       "0                         Pre eclampsia  \n",
       "1       Hipotireoidismo pre gestacional  \n",
       "2         Diabetes mellitus gestacional  \n",
       "3  Transtorno de ansiedade generalizada  \n",
       "4                             Sem dados  "
      ]
     },
     "execution_count": 25,
     "metadata": {},
     "output_type": "execute_result"
    }
   ],
   "source": [
    "dados_gestantes.head()"
   ]
  },
  {
   "cell_type": "markdown",
   "id": "da4ceaae",
   "metadata": {},
   "source": [
    "Agora queremos criar um **Histograma em relação ao intervalo entre a infecção e o parto(dias)**   Explicando o código: **np.histogram():**   Essa função é parte da biblioteca NumPy (np) e é usada para calcular a distribuição de frequência dos dados passados para ela. Ela retorna dois valores: o primeiro valor é uma array contendo a contagem de elementos em cada intervalo (ou bin) e o segundo valor é um array contendo as bordas dos bins (os pontos de corte dos intervalos). **['dias entre infeccao e parto']** está selecionando todas as linhas desta coluna, **bins = 7:** Nesse caso, o parâmetro bins é utilizado para especificar o número de intervalos que desejamos na distribuição de frequência. O valor 7 indica que o histograma será dividido em 7 intervalos."
   ]
  },
  {
   "cell_type": "markdown",
   "id": "4cb56065",
   "metadata": {},
   "source": [
    "Podemos também combinar strings, **o método cat** é usado para concatenar strings, neste caso para teste vamos utilizar a coluna 'Paciente' e 'Primeira patologia', o resultado será armazenado em um nova coluna e o separador das informações será o hífen(-)."
   ]
  },
  {
   "cell_type": "code",
   "execution_count": 26,
   "id": "6d9bc941",
   "metadata": {},
   "outputs": [],
   "source": [
    "dados_gestantes['Historico clinico']=dados_gestantes['Paciente'].str.cat(dados_gestantes['Primeira patologia'], sep = ' - ')"
   ]
  },
  {
   "cell_type": "code",
   "execution_count": 27,
   "id": "f09a5e77",
   "metadata": {},
   "outputs": [
    {
     "data": {
      "text/html": [
       "<div>\n",
       "<style scoped>\n",
       "    .dataframe tbody tr th:only-of-type {\n",
       "        vertical-align: middle;\n",
       "    }\n",
       "\n",
       "    .dataframe tbody tr th {\n",
       "        vertical-align: top;\n",
       "    }\n",
       "\n",
       "    .dataframe thead th {\n",
       "        text-align: right;\n",
       "    }\n",
       "</style>\n",
       "<table border=\"1\" class=\"dataframe\">\n",
       "  <thead>\n",
       "    <tr style=\"text-align: right;\">\n",
       "      <th></th>\n",
       "      <th>Paciente</th>\n",
       "      <th>Idade da gestante</th>\n",
       "      <th>Idade gestacional em semanas</th>\n",
       "      <th>dias entre infeccao e parto</th>\n",
       "      <th>Condicoes medicas</th>\n",
       "      <th>Primeira patologia</th>\n",
       "      <th>Historico clinico</th>\n",
       "    </tr>\n",
       "  </thead>\n",
       "  <tbody>\n",
       "    <tr>\n",
       "      <th>0</th>\n",
       "      <td>A</td>\n",
       "      <td>45.0</td>\n",
       "      <td>26.0</td>\n",
       "      <td>3</td>\n",
       "      <td>Pre eclampsia e diabetes mellitus gestacional</td>\n",
       "      <td>Pre eclampsia</td>\n",
       "      <td>A - Pre eclampsia</td>\n",
       "    </tr>\n",
       "    <tr>\n",
       "      <th>1</th>\n",
       "      <td>B</td>\n",
       "      <td>38.0</td>\n",
       "      <td>28.0</td>\n",
       "      <td>3</td>\n",
       "      <td>Hipotireoidismo pre gestacional</td>\n",
       "      <td>Hipotireoidismo pre gestacional</td>\n",
       "      <td>B - Hipotireoidismo pre gestacional</td>\n",
       "    </tr>\n",
       "    <tr>\n",
       "      <th>2</th>\n",
       "      <td>C</td>\n",
       "      <td>29.0</td>\n",
       "      <td>34.0</td>\n",
       "      <td>0</td>\n",
       "      <td>Diabetes mellitus gestacional, obesidade, hipo...</td>\n",
       "      <td>Diabetes mellitus gestacional</td>\n",
       "      <td>C - Diabetes mellitus gestacional</td>\n",
       "    </tr>\n",
       "    <tr>\n",
       "      <th>3</th>\n",
       "      <td>D</td>\n",
       "      <td>37.0</td>\n",
       "      <td>34.0</td>\n",
       "      <td>0</td>\n",
       "      <td>Transtorno de ansiedade generalizada</td>\n",
       "      <td>Transtorno de ansiedade generalizada</td>\n",
       "      <td>D - Transtorno de ansiedade generalizada</td>\n",
       "    </tr>\n",
       "    <tr>\n",
       "      <th>4</th>\n",
       "      <td>E</td>\n",
       "      <td>23.0</td>\n",
       "      <td>36.0</td>\n",
       "      <td>0</td>\n",
       "      <td>Sem dados</td>\n",
       "      <td>Sem dados</td>\n",
       "      <td>E - Sem dados</td>\n",
       "    </tr>\n",
       "  </tbody>\n",
       "</table>\n",
       "</div>"
      ],
      "text/plain": [
       "  Paciente  Idade da gestante  Idade gestacional em semanas  \\\n",
       "0        A               45.0                          26.0   \n",
       "1        B               38.0                          28.0   \n",
       "2        C               29.0                          34.0   \n",
       "3        D               37.0                          34.0   \n",
       "4        E               23.0                          36.0   \n",
       "\n",
       "   dias entre infeccao e parto  \\\n",
       "0                            3   \n",
       "1                            3   \n",
       "2                            0   \n",
       "3                            0   \n",
       "4                            0   \n",
       "\n",
       "                                   Condicoes medicas  \\\n",
       "0      Pre eclampsia e diabetes mellitus gestacional   \n",
       "1                    Hipotireoidismo pre gestacional   \n",
       "2  Diabetes mellitus gestacional, obesidade, hipo...   \n",
       "3               Transtorno de ansiedade generalizada   \n",
       "4                                          Sem dados   \n",
       "\n",
       "                     Primeira patologia  \\\n",
       "0                         Pre eclampsia   \n",
       "1       Hipotireoidismo pre gestacional   \n",
       "2         Diabetes mellitus gestacional   \n",
       "3  Transtorno de ansiedade generalizada   \n",
       "4                             Sem dados   \n",
       "\n",
       "                          Historico clinico  \n",
       "0                         A - Pre eclampsia  \n",
       "1       B - Hipotireoidismo pre gestacional  \n",
       "2         C - Diabetes mellitus gestacional  \n",
       "3  D - Transtorno de ansiedade generalizada  \n",
       "4                             E - Sem dados  "
      ]
     },
     "execution_count": 27,
     "metadata": {},
     "output_type": "execute_result"
    }
   ],
   "source": [
    "dados_gestantes.head()"
   ]
  },
  {
   "cell_type": "code",
   "execution_count": 28,
   "id": "55c7de4b",
   "metadata": {},
   "outputs": [
    {
     "data": {
      "text/plain": [
       "(array([10,  4,  2,  0,  0,  0,  1], dtype=int64),\n",
       " array([  0.,  33.,  66.,  99., 132., 165., 198., 231.]))"
      ]
     },
     "execution_count": 28,
     "metadata": {},
     "output_type": "execute_result"
    }
   ],
   "source": [
    "histograma= np.histogram(dados_gestantes['dias entre infeccao e parto'], bins = 7)\n",
    "histograma"
   ]
  },
  {
   "cell_type": "markdown",
   "id": "e11269c9",
   "metadata": {},
   "source": [
    "Perceba que o **primeiro array** representa a contagem de elementos em cada intervalo. O primeiro valor, 10, indica que há 10 elementos no intervalo de 0 a 33, o segundo valor, 4, indica que há 2 elementos no intervalo de 33 a 66, e assim por diante.\n",
    "**A segunda array** representa as bordas dos bins (pontos de corte dos intervalos)."
   ]
  },
  {
   "cell_type": "markdown",
   "id": "9a7c29d0",
   "metadata": {},
   "source": [
    "**É possível percerber que há tres intervalos que ficaram com a contagem de elementos igual a zero**. Um histograma com intervalo de contagem zerada pode levar a interpretações errôneas dos dados e fornecer uma representação distorcida da distribuição dos valores. Existem várias abordagens comuns para ajudar a escolher o número de bins de um histograma: **Regra de Freedman-Diaconis:** A regra é baseada na amplitude interquartil dos dados (a diferença entre o terceiro quartil e o primeiro quartil) e o tamanho do conjunto de dados. A fórmula para calcular o número de bins é: **bins = 2 * (IQR) / (n^(1/3))** IQR: Amplitude interquartil (terceiro quartil - primeiro quartil).n: Número de observações no conjunto de dados."
   ]
  },
  {
   "cell_type": "code",
   "execution_count": 29,
   "id": "5a29bb18",
   "metadata": {},
   "outputs": [
    {
     "data": {
      "text/plain": [
       "43.0"
      ]
     },
     "execution_count": 29,
     "metadata": {},
     "output_type": "execute_result"
    }
   ],
   "source": [
    "# Calculando o primeiro quartil (Q1)\n",
    "q1 = dados_gestantes['dias entre infeccao e parto'].quantile(0.25)\n",
    "\n",
    "# Calculando o terceiro quartil (Q3)\n",
    "q3 = dados_gestantes['dias entre infeccao e parto'].quantile(0.75)\n",
    "\n",
    "# Calcular a amplitude interquartil (IQR)\n",
    "iqr = q3 - q1\n",
    "iqr"
   ]
  },
  {
   "cell_type": "code",
   "execution_count": 30,
   "id": "8241d975",
   "metadata": {},
   "outputs": [
    {
     "data": {
      "text/plain": [
       "33.44635621102255"
      ]
     },
     "execution_count": 30,
     "metadata": {},
     "output_type": "execute_result"
    }
   ],
   "source": [
    "# Calcular o número de dados (n)\n",
    "n = len(dados_gestantes['dias entre infeccao e parto'])\n",
    "\n",
    "# Calcular o número de bins\n",
    "bins = 2 * iqr / (n**(1/3))\n",
    "bins"
   ]
  },
  {
   "cell_type": "code",
   "execution_count": 31,
   "id": "593dae54",
   "metadata": {},
   "outputs": [
    {
     "data": {
      "text/plain": [
       "(array([8, 1, 0, 1, 1, 0, 2, 1, 0, 0, 2, 0, 0, 0, 0, 0, 0, 0, 0, 0, 0, 0,\n",
       "        0, 0, 0, 0, 0, 0, 0, 0, 0, 0, 1], dtype=int64),\n",
       " array([  0.,   7.,  14.,  21.,  28.,  35.,  42.,  49.,  56.,  63.,  70.,\n",
       "         77.,  84.,  91.,  98., 105., 112., 119., 126., 133., 140., 147.,\n",
       "        154., 161., 168., 175., 182., 189., 196., 203., 210., 217., 224.,\n",
       "        231.]))"
      ]
     },
     "execution_count": 31,
     "metadata": {},
     "output_type": "execute_result"
    }
   ],
   "source": [
    "histograma= np.histogram(dados_gestantes['dias entre infeccao e parto'], bins = 33)\n",
    "histograma"
   ]
  },
  {
   "cell_type": "markdown",
   "id": "0c47d19f",
   "metadata": {},
   "source": [
    "Notoriamente o histograma ainda não representa uma frequencia de distribuição ideal, um outro método para calcular o número de bins é **Regra de Sturges:** Essa regra é simples e amplamente utilizada, mas pode não ser a melhor escolha para conjuntos de dados muito grandes ou com distribuições complexas. A regra sugere que o número de bins seja igual a **1 + log2(n)**, onde n é o número de observações no conjunto de dados."
   ]
  },
  {
   "cell_type": "code",
   "execution_count": 32,
   "id": "c269b27e",
   "metadata": {},
   "outputs": [
    {
     "data": {
      "text/plain": [
       "5.087462841250339"
      ]
     },
     "execution_count": 32,
     "metadata": {},
     "output_type": "execute_result"
    }
   ],
   "source": [
    "#Calculo pela Regra de Sturges, para usar log na base 2 é necessário importar a biblioteca math:\n",
    "\n",
    "import math\n",
    "bins_1 = 1 + math.log2(n)\n",
    "bins_1"
   ]
  },
  {
   "cell_type": "code",
   "execution_count": 33,
   "id": "09d38a3b",
   "metadata": {},
   "outputs": [
    {
     "data": {
      "text/plain": [
       "(array([13,  3,  0,  0,  1], dtype=int64),\n",
       " array([  0. ,  46.2,  92.4, 138.6, 184.8, 231. ]))"
      ]
     },
     "execution_count": 33,
     "metadata": {},
     "output_type": "execute_result"
    }
   ],
   "source": [
    "histograma= np.histogram(dados_gestantes['dias entre infeccao e parto'], bins = 5)\n",
    "histograma"
   ]
  },
  {
   "cell_type": "markdown",
   "id": "aceb2d15",
   "metadata": {},
   "source": [
    "Verificamos novamente que ainda há intervalos com contagem igual a zero, podemos realizar uma tratativa dos dados por meio da **eliminação dos outliers**. Uma forma de identificar valores discrepantes é aplicando novamente a **amplitude interquartil**"
   ]
  },
  {
   "cell_type": "code",
   "execution_count": 34,
   "id": "9cc462d0",
   "metadata": {},
   "outputs": [
    {
     "name": "stdout",
     "output_type": "stream",
     "text": [
      "-61.5\n",
      "110.5\n"
     ]
    },
    {
     "data": {
      "text/plain": [
       "[231]"
      ]
     },
     "execution_count": 34,
     "metadata": {},
     "output_type": "execute_result"
    }
   ],
   "source": [
    "q1 = dados_gestantes['dias entre infeccao e parto'].quantile(0.25)\n",
    "q3 = dados_gestantes['dias entre infeccao e parto'].quantile(0.75)\n",
    "iqr = q3 - q1\n",
    "\n",
    "# Calcula os limites para identificação de outliers\n",
    "limite_inferior = q1 - 1.5 * iqr\n",
    "limite_superior = q3 + 1.5 * iqr\n",
    "print (limite_inferior)\n",
    "print (limite_superior)\n",
    "\n",
    "# Identifica os outliers por meio de uma List comprehension, irá retornar x para cada valor de x dentro da variável amplitude\n",
    "#que ultrapasse o limite inferior ou superior.\n",
    "outliers = [x for x in dados_gestantes['dias entre infeccao e parto'] if x < limite_inferior or x > limite_superior]\n",
    "outliers"
   ]
  },
  {
   "cell_type": "markdown",
   "id": "a7210124",
   "metadata": {},
   "source": [
    "Como a medição do único outlier é legítima, podemos optar por subistituir este valor  ao invés de simplesmente removê-lo. Por meio da biblioteca statistics podemos verificar a média e a mediana dos valores."
   ]
  },
  {
   "cell_type": "code",
   "execution_count": 35,
   "id": "9cd19995",
   "metadata": {},
   "outputs": [
    {
     "name": "stdout",
     "output_type": "stream",
     "text": [
      "Média: 35.8235294117647\n",
      "Mediana: 12\n"
     ]
    }
   ],
   "source": [
    "import statistics\n",
    "\n",
    "# Calcula a média\n",
    "media = statistics.mean(dados_gestantes['dias entre infeccao e parto'])\n",
    "\n",
    "# Calcula a mediana\n",
    "mediana = statistics.median(dados_gestantes['dias entre infeccao e parto'])\n",
    "\n",
    "print(\"Média:\", media)\n",
    "print(\"Mediana:\", mediana)"
   ]
  },
  {
   "cell_type": "markdown",
   "id": "a8fdf03b",
   "metadata": {},
   "source": [
    "Como a média sofre grande influência dos valores discrepantes, iremos substituir o outlier pela mediana."
   ]
  },
  {
   "cell_type": "code",
   "execution_count": 36,
   "id": "1cf0798f",
   "metadata": {},
   "outputs": [],
   "source": [
    "# Substitui os outliers pela mediana usando loc\n",
    "dados_gestantes.loc[(dados_gestantes['dias entre infeccao e parto'] < limite_inferior) | \n",
    "                    (dados_gestantes['dias entre infeccao e parto'] > limite_superior), 'dias entre infeccao e parto'] = mediana"
   ]
  },
  {
   "cell_type": "code",
   "execution_count": 37,
   "id": "93b69fd7",
   "metadata": {},
   "outputs": [
    {
     "data": {
      "text/html": [
       "<div>\n",
       "<style scoped>\n",
       "    .dataframe tbody tr th:only-of-type {\n",
       "        vertical-align: middle;\n",
       "    }\n",
       "\n",
       "    .dataframe tbody tr th {\n",
       "        vertical-align: top;\n",
       "    }\n",
       "\n",
       "    .dataframe thead th {\n",
       "        text-align: right;\n",
       "    }\n",
       "</style>\n",
       "<table border=\"1\" class=\"dataframe\">\n",
       "  <thead>\n",
       "    <tr style=\"text-align: right;\">\n",
       "      <th></th>\n",
       "      <th>Paciente</th>\n",
       "      <th>Idade da gestante</th>\n",
       "      <th>Idade gestacional em semanas</th>\n",
       "      <th>dias entre infeccao e parto</th>\n",
       "      <th>Condicoes medicas</th>\n",
       "      <th>Primeira patologia</th>\n",
       "      <th>Historico clinico</th>\n",
       "    </tr>\n",
       "  </thead>\n",
       "  <tbody>\n",
       "  </tbody>\n",
       "</table>\n",
       "</div>"
      ],
      "text/plain": [
       "Empty DataFrame\n",
       "Columns: [Paciente, Idade da gestante, Idade gestacional em semanas, dias entre infeccao e parto, Condicoes medicas, Primeira patologia, Historico clinico]\n",
       "Index: []"
      ]
     },
     "execution_count": 37,
     "metadata": {},
     "output_type": "execute_result"
    }
   ],
   "source": [
    "#verificamos se ainda existem valores discrepantes\n",
    "#Usamos o @ para identificar que limite_inferior e limite_superior são variáveis e não strings.\n",
    "dados_gestantes.query('`dias entre infeccao e parto` < @limite_inferior or `dias entre infeccao e parto` > @limite_superior')"
   ]
  },
  {
   "cell_type": "code",
   "execution_count": 38,
   "id": "3091e3f2",
   "metadata": {},
   "outputs": [
    {
     "data": {
      "text/plain": [
       "(array([10,  1,  2,  2,  2], dtype=int64),\n",
       " array([ 0. , 15.2, 30.4, 45.6, 60.8, 76. ]))"
      ]
     },
     "execution_count": 38,
     "metadata": {},
     "output_type": "execute_result"
    }
   ],
   "source": [
    "#Agora podemos criar um histograma com base na Regra de Sturges\n",
    "histograma= np.histogram(dados_gestantes['dias entre infeccao e parto'], bins = 5)\n",
    "histograma"
   ]
  },
  {
   "cell_type": "code",
   "execution_count": 39,
   "id": "5fec6ab3",
   "metadata": {},
   "outputs": [
    {
     "data": {
      "text/plain": [
       "Text(0.5, 0, 'Dias entre a infecção e o parto')"
      ]
     },
     "execution_count": 39,
     "metadata": {},
     "output_type": "execute_result"
    },
    {
     "data": {
      "image/png": "[encoded data removed]",
      "text/plain": [
       "<Figure size 640x480 with 1 Axes>"
      ]
     },
     "metadata": {},
     "output_type": "display_data"
    }
   ],
   "source": [
    "#Histograma corrigido\n",
    "plt.hist(dados_gestantes['dias entre infeccao e parto'], bins = 5, color= 'orchid')\n",
    "plt.ylabel('Número de gestantes')\n",
    "plt.xlabel('Dias entre a infecção e o parto')"
   ]
  },
  {
   "cell_type": "markdown",
   "id": "4b1cba9f",
   "metadata": {},
   "source": [
    "Como podemos perceber temos a representação de um **histograma enviesado para direita**, também conhecido como assimétrico à direita ou positivamente enviesado. Essa assimetria indica que existem valores extremamente altos que puxam a média para a direita. **Uma característica comum das distribuições enviesadas para a direita é que a média é maior do que a mediana** (Média: 35.8,\n",
    "Mediana: 12), uma vez que a média é mais influenciada pelos valores maiores na extremidade direita. Notoriamente, a concentração dos dados está dentro do intervalo de 0 à 15. "
   ]
  },
  {
   "cell_type": "markdown",
   "id": "0395aeb3",
   "metadata": {},
   "source": [
    "Por meio da biblioteca seaborn podemos traçar um gráfico KDE, **gráfico de densidade kernel**. O KDE é uma forma suavizada de representar a distribuição de dados em um gráfico, semelhante a um histograma, mas com uma aparência mais suave e contínua.  A linha de densidade em um gráfico KDE é um recurso importante para visualizar a **distribuição dos dados**. Ela representa uma estimativa suave da densidade de probabilidade dos dados, ou seja, mostra como os valores estão distribuídos ao longo do eixo horizontal. **Desta forma, podemos identificar a forma da distribuição dos dados**, demonstrando se os dados têm uma distribuição simétrica (forma de sino), assimétrica (à esquerda ou à direita) ou bimodal (com dois picos distintos), o que pode ser útil para entender o comportamento dos dados."
   ]
  },
  {
   "cell_type": "code",
   "execution_count": 40,
   "id": "6eae8748",
   "metadata": {},
   "outputs": [
    {
     "data": {
      "text/plain": [
       "<Axes: xlabel='dias entre infeccao e parto', ylabel='Density'>"
      ]
     },
     "execution_count": 40,
     "metadata": {},
     "output_type": "execute_result"
    },
    {
     "data": {
      "image/png": "[encoded data removed]",
      "text/plain": [
       "<Figure size 640x480 with 1 Axes>"
      ]
     },
     "metadata": {},
     "output_type": "display_data"
    }
   ],
   "source": [
    "#traçando o gráfico de densidade\n",
    "sns.kdeplot(dados_gestantes['dias entre infeccao e parto'], color= 'navy')"
   ]
  },
  {
   "cell_type": "markdown",
   "id": "d9ecbfc4",
   "metadata": {},
   "source": [
    "É possível visualizar que foi gerado um intervalo com uma **distribuição dos dados de forma mais \"normal\" ou simétrica**, a  Seaborn faz este ajuste especialmente se houver uma grande quantidade de dados em torno de um ponto central. Neste caso, foi escolhido automaticamente um intervalo maior do que o intervalo original dos dados para representar a distribuição com mais precisão. Ao escolher um intervalo maior do que o intervalo original dos dados, o gráfico KDE garante que a estimativa de densidade abrange uma ampla faixa de valores, o que ajuda a revelar informações sobre a forma geral da distribuição e evita que o gráfico pareça limitado por falta de dados além dos limites originais.  O gráfico KDE está fornecendo uma estimativa suave da distribuição dos dados observados. Essa estimativa é útil para visualizar padrões e características da distribuição, mas não implica que a distribuição estimada seja a distribuição real que gerou os dados."
   ]
  },
  {
   "cell_type": "markdown",
   "id": "5fd712ba",
   "metadata": {},
   "source": [
    "Podemos também gerar um **diagrama de caixa** com os dados sa série **'Idade gestacional em semanas'** demonstrando visualmente a distribuição dos dados desta coluna. Para isto, primeiramente, precisamos tratar os valores nulos presentes nesta série. "
   ]
  },
  {
   "cell_type": "code",
   "execution_count": 41,
   "id": "8a3126d2",
   "metadata": {},
   "outputs": [
    {
     "data": {
      "text/html": [
       "<div>\n",
       "<style scoped>\n",
       "    .dataframe tbody tr th:only-of-type {\n",
       "        vertical-align: middle;\n",
       "    }\n",
       "\n",
       "    .dataframe tbody tr th {\n",
       "        vertical-align: top;\n",
       "    }\n",
       "\n",
       "    .dataframe thead th {\n",
       "        text-align: right;\n",
       "    }\n",
       "</style>\n",
       "<table border=\"1\" class=\"dataframe\">\n",
       "  <thead>\n",
       "    <tr style=\"text-align: right;\">\n",
       "      <th></th>\n",
       "      <th>Paciente</th>\n",
       "      <th>Idade da gestante</th>\n",
       "      <th>Idade gestacional em semanas</th>\n",
       "      <th>dias entre infeccao e parto</th>\n",
       "      <th>Condicoes medicas</th>\n",
       "      <th>Primeira patologia</th>\n",
       "      <th>Historico clinico</th>\n",
       "    </tr>\n",
       "  </thead>\n",
       "  <tbody>\n",
       "    <tr>\n",
       "      <th>15</th>\n",
       "      <td>P</td>\n",
       "      <td>30.0</td>\n",
       "      <td>NaN</td>\n",
       "      <td>53</td>\n",
       "      <td>Sem dados</td>\n",
       "      <td>Sem dados</td>\n",
       "      <td>P - Sem dados</td>\n",
       "    </tr>\n",
       "    <tr>\n",
       "      <th>16</th>\n",
       "      <td>Q</td>\n",
       "      <td>30.0</td>\n",
       "      <td>NaN</td>\n",
       "      <td>6</td>\n",
       "      <td>Sem dados</td>\n",
       "      <td>Sem dados</td>\n",
       "      <td>Q - Sem dados</td>\n",
       "    </tr>\n",
       "  </tbody>\n",
       "</table>\n",
       "</div>"
      ],
      "text/plain": [
       "   Paciente  Idade da gestante  Idade gestacional em semanas  \\\n",
       "15        P               30.0                           NaN   \n",
       "16        Q               30.0                           NaN   \n",
       "\n",
       "    dias entre infeccao e parto Condicoes medicas Primeira patologia  \\\n",
       "15                           53         Sem dados          Sem dados   \n",
       "16                            6         Sem dados          Sem dados   \n",
       "\n",
       "   Historico clinico  \n",
       "15     P - Sem dados  \n",
       "16     Q - Sem dados  "
      ]
     },
     "execution_count": 41,
     "metadata": {},
     "output_type": "execute_result"
    }
   ],
   "source": [
    "dados_gestantes[dados_gestantes['Idade gestacional em semanas'].isnull()]"
   ]
  },
  {
   "cell_type": "markdown",
   "id": "90cc79ab",
   "metadata": {},
   "source": [
    "**Como há valores nulos, iremos utilizar a biblioteca Pandas** ao invés da biblioteca statistics, a biblioteca Pandas ignora os valores nulos. O método **dropna()** é usado para remover os valores nulos da coluna antes do calculo da média e mediana. Há a possibilidade também de utilizar a biblioteca Statistics, sendo necessário aplicar  um filtro: idade_gestacional = dados_gestantes['Idade gestacional em semanas'].dropna()."
   ]
  },
  {
   "cell_type": "code",
   "execution_count": 42,
   "id": "331b6caf",
   "metadata": {},
   "outputs": [
    {
     "name": "stdout",
     "output_type": "stream",
     "text": [
      "34.0\n",
      "30.133333333333333\n"
     ]
    }
   ],
   "source": [
    "mediana_idadeg = dados_gestantes['Idade gestacional em semanas'].dropna().median()\n",
    "media_idadeg = dados_gestantes['Idade gestacional em semanas'].dropna().mean()\n",
    "\n",
    "print(mediana_idadeg)\n",
    "print(media_idadeg)"
   ]
  },
  {
   "cell_type": "markdown",
   "id": "d3dc9cbe",
   "metadata": {},
   "source": [
    "Poderiamos optar por substituir os valores nulos pela mediana, mas **quando analisamos individualmente cada dado**, verificamos que os valores faltantes são de pacientes que tiveram um intervalo maior entre a infecção e o parto, desta forma, a média pode ser mais representativa neste caso específico. Usamos o **método .fillna** para preencher os valores ausentes. Neste caso, todos os valores NaN(Not a Number) na coluna 'Idade gestacional em semanas' serão substituídos pelo valor 'media_idadeg'. **inplace=True**: É um parâmetro opcional, quando inplace=True é usado, as alterações são aplicadas diretamente ao DataFrame original, em vez de criar uma cópia modificada. "
   ]
  },
  {
   "cell_type": "code",
   "execution_count": 43,
   "id": "81d07970",
   "metadata": {},
   "outputs": [],
   "source": [
    "dados_gestantes['Idade gestacional em semanas'].fillna(media_idadeg, inplace=True)"
   ]
  },
  {
   "cell_type": "code",
   "execution_count": 44,
   "id": "4b349930",
   "metadata": {},
   "outputs": [
    {
     "data": {
      "text/html": [
       "<div>\n",
       "<style scoped>\n",
       "    .dataframe tbody tr th:only-of-type {\n",
       "        vertical-align: middle;\n",
       "    }\n",
       "\n",
       "    .dataframe tbody tr th {\n",
       "        vertical-align: top;\n",
       "    }\n",
       "\n",
       "    .dataframe thead th {\n",
       "        text-align: right;\n",
       "    }\n",
       "</style>\n",
       "<table border=\"1\" class=\"dataframe\">\n",
       "  <thead>\n",
       "    <tr style=\"text-align: right;\">\n",
       "      <th></th>\n",
       "      <th>Paciente</th>\n",
       "      <th>Idade da gestante</th>\n",
       "      <th>Idade gestacional em semanas</th>\n",
       "      <th>dias entre infeccao e parto</th>\n",
       "      <th>Condicoes medicas</th>\n",
       "      <th>Primeira patologia</th>\n",
       "      <th>Historico clinico</th>\n",
       "    </tr>\n",
       "  </thead>\n",
       "  <tbody>\n",
       "    <tr>\n",
       "      <th>12</th>\n",
       "      <td>M</td>\n",
       "      <td>34.0</td>\n",
       "      <td>34.000000</td>\n",
       "      <td>26</td>\n",
       "      <td>Sem dados</td>\n",
       "      <td>Sem dados</td>\n",
       "      <td>M - Sem dados</td>\n",
       "    </tr>\n",
       "    <tr>\n",
       "      <th>13</th>\n",
       "      <td>N</td>\n",
       "      <td>39.0</td>\n",
       "      <td>8.000000</td>\n",
       "      <td>12</td>\n",
       "      <td>Sem dados</td>\n",
       "      <td>Sem dados</td>\n",
       "      <td>N - Sem dados</td>\n",
       "    </tr>\n",
       "    <tr>\n",
       "      <th>14</th>\n",
       "      <td>O</td>\n",
       "      <td>26.0</td>\n",
       "      <td>21.000000</td>\n",
       "      <td>74</td>\n",
       "      <td>Diabetes mellitus gestacional, obesidade e hip...</td>\n",
       "      <td>Diabetes mellitus gestacional</td>\n",
       "      <td>O - Diabetes mellitus gestacional</td>\n",
       "    </tr>\n",
       "    <tr>\n",
       "      <th>15</th>\n",
       "      <td>P</td>\n",
       "      <td>30.0</td>\n",
       "      <td>30.133333</td>\n",
       "      <td>53</td>\n",
       "      <td>Sem dados</td>\n",
       "      <td>Sem dados</td>\n",
       "      <td>P - Sem dados</td>\n",
       "    </tr>\n",
       "    <tr>\n",
       "      <th>16</th>\n",
       "      <td>Q</td>\n",
       "      <td>30.0</td>\n",
       "      <td>30.133333</td>\n",
       "      <td>6</td>\n",
       "      <td>Sem dados</td>\n",
       "      <td>Sem dados</td>\n",
       "      <td>Q - Sem dados</td>\n",
       "    </tr>\n",
       "  </tbody>\n",
       "</table>\n",
       "</div>"
      ],
      "text/plain": [
       "   Paciente  Idade da gestante  Idade gestacional em semanas  \\\n",
       "12        M               34.0                     34.000000   \n",
       "13        N               39.0                      8.000000   \n",
       "14        O               26.0                     21.000000   \n",
       "15        P               30.0                     30.133333   \n",
       "16        Q               30.0                     30.133333   \n",
       "\n",
       "    dias entre infeccao e parto  \\\n",
       "12                           26   \n",
       "13                           12   \n",
       "14                           74   \n",
       "15                           53   \n",
       "16                            6   \n",
       "\n",
       "                                    Condicoes medicas  \\\n",
       "12                                          Sem dados   \n",
       "13                                          Sem dados   \n",
       "14  Diabetes mellitus gestacional, obesidade e hip...   \n",
       "15                                          Sem dados   \n",
       "16                                          Sem dados   \n",
       "\n",
       "               Primeira patologia                  Historico clinico  \n",
       "12                      Sem dados                      M - Sem dados  \n",
       "13                      Sem dados                      N - Sem dados  \n",
       "14  Diabetes mellitus gestacional  O - Diabetes mellitus gestacional  \n",
       "15                      Sem dados                      P - Sem dados  \n",
       "16                      Sem dados                      Q - Sem dados  "
      ]
     },
     "execution_count": 44,
     "metadata": {},
     "output_type": "execute_result"
    }
   ],
   "source": [
    "dados_gestantes.tail()"
   ]
  },
  {
   "cell_type": "markdown",
   "id": "41ff3ecc",
   "metadata": {},
   "source": [
    "Também podemos traçar um **gráfico de setores** para idade gestacional das pacientes, podemos agrupar as pacientes com base em idade gestacional por trimestre, **sendo o 1º trimestre gestacional até 13 semanas, 2º trimestre de 14 semanas até 26 semanas e o 3º trimestre à partir de 27 semanas.**"
   ]
  },
  {
   "cell_type": "code",
   "execution_count": 45,
   "id": "15f62aca",
   "metadata": {},
   "outputs": [
    {
     "data": {
      "image/png": "[encoded data removed]",
      "text/plain": [
       "<Figure size 600x400 with 1 Axes>"
      ]
     },
     "metadata": {},
     "output_type": "display_data"
    }
   ],
   "source": [
    "#Definindo cada variável\n",
    "primeiro_trimestre = dados_gestantes.query('`Idade gestacional em semanas` <= 13')\n",
    "segundo_trimestre = dados_gestantes.query('`Idade gestacional em semanas` > 13 and `Idade gestacional em semanas` <= 26')\n",
    "terceiro_trimestre = dados_gestantes.query('`Idade gestacional em semanas` > 26')\n",
    "\n",
    "# Dados de contagem por trimestre,shape[0] retorna a contagem de gestantes em cada um dos trimestres separados nos DataFrames\n",
    "contagem_por_trimestre = [primeiro_trimestre.shape[0], segundo_trimestre.shape[0], terceiro_trimestre.shape[0]]\n",
    "trimestres = ['Primeiro Trimestre', 'Segundo Trimestre', 'Terceiro Trimestre']\n",
    "\n",
    "# Criando o gráfico de pizza\n",
    "plt.figure(figsize=(6, 4))\n",
    "plt.pie(contagem_por_trimestre, labels=trimestres, autopct='%1.1f%%', colors=['lightsteelblue','cornflowerblue', 'royalblue'])\n",
    "plt.title('Distribuição de Gestantes por Trimestre')\n",
    "plt.show()"
   ]
  },
  {
   "cell_type": "markdown",
   "id": "00ec6c62",
   "metadata": {},
   "source": [
    "**Diagrama de caixa**, a maior parte do código se refere a estrutura de cores do boxplot. Caso optassemos por um diagrama de caixa padrão, apenas o código **plt.boxplot(dados_gestantes['Idade gestacional em semanas'])** era necessário, sendo traçado um diagrama padrão na posição vertical."
   ]
  },
  {
   "cell_type": "code",
   "execution_count": 46,
   "id": "27f6e245",
   "metadata": {},
   "outputs": [
    {
     "data": {
      "text/plain": [
       "Text(0.5, 0, 'Idade Gestacional (semanas)')"
      ]
     },
     "execution_count": 46,
     "metadata": {},
     "output_type": "execute_result"
    },
    {
     "data": {
      "image/png": "[encoded data removed]",
      "text/plain": [
       "<Figure size 640x480 with 1 Axes>"
      ]
     },
     "metadata": {},
     "output_type": "display_data"
    }
   ],
   "source": [
    "plt.boxplot(dados_gestantes['Idade gestacional em semanas'], vert=False, patch_artist=True, \n",
    "            boxprops=dict(facecolor= 'navajowhite', edgecolor='darkorange'), medianprops=dict(color='darkorange'), \n",
    "            flierprops=dict(markerfacecolor='darkorange', markeredgecolor='darkorange'),whiskerprops=dict(color='darkorange'), \n",
    "            capprops=dict(color='darkorange'))\n",
    "plt.title('Boxplot da Idade Gestacional')\n",
    "plt.xlabel('Idade Gestacional (semanas)')"
   ]
  },
  {
   "cell_type": "markdown",
   "id": "f74f2c04",
   "metadata": {},
   "source": [
    "Após verificar a distribuição de gestantes por trimestres, também iremos tratar os outliers presentes na coluna 'Idade gestacional', não o fizemos anteriormente porque o tratamento iria interferir no construção de um gráfico de setores mais fidedigno. "
   ]
  },
  {
   "cell_type": "code",
   "execution_count": 47,
   "id": "ec0da51a",
   "metadata": {},
   "outputs": [
    {
     "name": "stdout",
     "output_type": "stream",
     "text": [
      "19.0\n",
      "43.0\n"
     ]
    },
    {
     "data": {
      "text/plain": [
       "[8.0]"
      ]
     },
     "execution_count": 47,
     "metadata": {},
     "output_type": "execute_result"
    }
   ],
   "source": [
    "q1 = dados_gestantes['Idade gestacional em semanas'].quantile(0.25)\n",
    "q3 = dados_gestantes['Idade gestacional em semanas'].quantile(0.75)\n",
    "iqr = q3 - q1\n",
    "\n",
    "# Calcula os limites para identificação de outliers\n",
    "limite_inferior = q1 - 1.5 * iqr\n",
    "limite_superior = q3 + 1.5 * iqr\n",
    "    \n",
    "print (limite_inferior)\n",
    "print (limite_superior)\n",
    "\n",
    "# Identifica os outliers por meio de uma List comprehension, irá retornar x para cada valor de x dentro da variável amplitude\n",
    "#que ultrapasse o limite inferior ou superior.\n",
    "outliers = [x for x in dados_gestantes['Idade gestacional em semanas'] if x < limite_inferior or x > limite_superior]\n",
    "outliers"
   ]
  },
  {
   "cell_type": "code",
   "execution_count": 48,
   "id": "dd2eef12",
   "metadata": {},
   "outputs": [
    {
     "data": {
      "text/plain": [
       "count    17.000000\n",
       "mean     30.133333\n",
       "std       7.296118\n",
       "min       8.000000\n",
       "25%      28.000000\n",
       "50%      32.000000\n",
       "75%      34.000000\n",
       "max      38.000000\n",
       "Name: Idade gestacional em semanas, dtype: float64"
      ]
     },
     "execution_count": 48,
     "metadata": {},
     "output_type": "execute_result"
    }
   ],
   "source": [
    "dados_gestantes['Idade gestacional em semanas'].describe()"
   ]
  },
  {
   "cell_type": "code",
   "execution_count": 49,
   "id": "ad3ebfc1",
   "metadata": {},
   "outputs": [],
   "source": [
    "# Substitui os outliers pela mediana usando loc\n",
    "dados_gestantes.loc[(dados_gestantes['Idade gestacional em semanas'] < limite_inferior) | \n",
    "                    (dados_gestantes['Idade gestacional em semanas'] > limite_superior), 'Idade gestacional em semanas'] = 32"
   ]
  },
  {
   "cell_type": "code",
   "execution_count": 50,
   "id": "435d534e",
   "metadata": {},
   "outputs": [
    {
     "data": {
      "text/html": [
       "<div>\n",
       "<style scoped>\n",
       "    .dataframe tbody tr th:only-of-type {\n",
       "        vertical-align: middle;\n",
       "    }\n",
       "\n",
       "    .dataframe tbody tr th {\n",
       "        vertical-align: top;\n",
       "    }\n",
       "\n",
       "    .dataframe thead th {\n",
       "        text-align: right;\n",
       "    }\n",
       "</style>\n",
       "<table border=\"1\" class=\"dataframe\">\n",
       "  <thead>\n",
       "    <tr style=\"text-align: right;\">\n",
       "      <th></th>\n",
       "      <th>Paciente</th>\n",
       "      <th>Idade da gestante</th>\n",
       "      <th>Idade gestacional em semanas</th>\n",
       "      <th>dias entre infeccao e parto</th>\n",
       "      <th>Condicoes medicas</th>\n",
       "      <th>Primeira patologia</th>\n",
       "      <th>Historico clinico</th>\n",
       "    </tr>\n",
       "  </thead>\n",
       "  <tbody>\n",
       "  </tbody>\n",
       "</table>\n",
       "</div>"
      ],
      "text/plain": [
       "Empty DataFrame\n",
       "Columns: [Paciente, Idade da gestante, Idade gestacional em semanas, dias entre infeccao e parto, Condicoes medicas, Primeira patologia, Historico clinico]\n",
       "Index: []"
      ]
     },
     "execution_count": 50,
     "metadata": {},
     "output_type": "execute_result"
    }
   ],
   "source": [
    "#verificamos se ainda existem valores discrepantes\n",
    "#Usamos o @ para identificar que limite_inferior e limite_superior são variáveis e não strings.\n",
    "dados_gestantes.query('`Idade gestacional em semanas` < @limite_inferior or `Idade gestacional em semanas` > @limite_superior')"
   ]
  },
  {
   "cell_type": "markdown",
   "id": "d1089cb4",
   "metadata": {},
   "source": [
    "**Agregação múltiplica com groupby:** Iremos selecionar um subconjunto das colunas do DataFrame dados_gestantes. Os nomes das colunas selecionadas são 'Idade da gestante', 'Idade gestacional em semanas' e 'dias entre infeccao e parto'. O resultado é um novo DataFrame que contém apenas essas colunas. Em seguida utilizaremos **o método groupby** para agrupar o DataFrame pelo valores únicos nas colunas 'Idade da gestante' e 'Idade gestacional em semanas'.  Em seguida é aplicado **a função agg** (agregação), sendo especificado três funções de agregação: mean (média), std (desvio padrão) e count (contagem). Isso significa que para cada grupo formado pelas combinações únicas de 'Idade da gestante' e 'Idade gestacional em semanas', **será calculado a média, o desvio padrão e a contagem dos valores na coluna 'dias entre infeccao e parto'**. Como a maioria dos valores são únicos, não teremos essas medidas para todo o conjunto, assim o código foi escolhido para treino. "
   ]
  },
  {
   "cell_type": "code",
   "execution_count": 51,
   "id": "64d13120",
   "metadata": {},
   "outputs": [
    {
     "data": {
      "text/html": [
       "<div>\n",
       "<style scoped>\n",
       "    .dataframe tbody tr th:only-of-type {\n",
       "        vertical-align: middle;\n",
       "    }\n",
       "\n",
       "    .dataframe tbody tr th {\n",
       "        vertical-align: top;\n",
       "    }\n",
       "\n",
       "    .dataframe thead tr th {\n",
       "        text-align: left;\n",
       "    }\n",
       "\n",
       "    .dataframe thead tr:last-of-type th {\n",
       "        text-align: right;\n",
       "    }\n",
       "</style>\n",
       "<table border=\"1\" class=\"dataframe\">\n",
       "  <thead>\n",
       "    <tr>\n",
       "      <th></th>\n",
       "      <th></th>\n",
       "      <th colspan=\"3\" halign=\"left\">dias entre infeccao e parto</th>\n",
       "    </tr>\n",
       "    <tr>\n",
       "      <th></th>\n",
       "      <th></th>\n",
       "      <th>mean</th>\n",
       "      <th>std</th>\n",
       "      <th>count</th>\n",
       "    </tr>\n",
       "    <tr>\n",
       "      <th>Idade da gestante</th>\n",
       "      <th>Idade gestacional em semanas</th>\n",
       "      <th></th>\n",
       "      <th></th>\n",
       "      <th></th>\n",
       "    </tr>\n",
       "  </thead>\n",
       "  <tbody>\n",
       "    <tr>\n",
       "      <th rowspan=\"2\" valign=\"top\">22.0</th>\n",
       "      <th>34.000000</th>\n",
       "      <td>33.0</td>\n",
       "      <td>NaN</td>\n",
       "      <td>1</td>\n",
       "    </tr>\n",
       "    <tr>\n",
       "      <th>35.000000</th>\n",
       "      <td>4.0</td>\n",
       "      <td>NaN</td>\n",
       "      <td>1</td>\n",
       "    </tr>\n",
       "    <tr>\n",
       "      <th>23.0</th>\n",
       "      <th>36.000000</th>\n",
       "      <td>0.0</td>\n",
       "      <td>NaN</td>\n",
       "      <td>1</td>\n",
       "    </tr>\n",
       "    <tr>\n",
       "      <th rowspan=\"2\" valign=\"top\">26.0</th>\n",
       "      <th>21.000000</th>\n",
       "      <td>74.0</td>\n",
       "      <td>NaN</td>\n",
       "      <td>1</td>\n",
       "    </tr>\n",
       "    <tr>\n",
       "      <th>32.000000</th>\n",
       "      <td>42.0</td>\n",
       "      <td>NaN</td>\n",
       "      <td>1</td>\n",
       "    </tr>\n",
       "    <tr>\n",
       "      <th>27.0</th>\n",
       "      <th>37.000000</th>\n",
       "      <td>12.0</td>\n",
       "      <td>NaN</td>\n",
       "      <td>1</td>\n",
       "    </tr>\n",
       "    <tr>\n",
       "      <th>28.0</th>\n",
       "      <th>25.000000</th>\n",
       "      <td>76.0</td>\n",
       "      <td>NaN</td>\n",
       "      <td>1</td>\n",
       "    </tr>\n",
       "    <tr>\n",
       "      <th>29.0</th>\n",
       "      <th>34.000000</th>\n",
       "      <td>0.0</td>\n",
       "      <td>NaN</td>\n",
       "      <td>1</td>\n",
       "    </tr>\n",
       "    <tr>\n",
       "      <th rowspan=\"2\" valign=\"top\">30.0</th>\n",
       "      <th>30.000000</th>\n",
       "      <td>46.0</td>\n",
       "      <td>NaN</td>\n",
       "      <td>1</td>\n",
       "    </tr>\n",
       "    <tr>\n",
       "      <th>30.133333</th>\n",
       "      <td>29.5</td>\n",
       "      <td>33.234019</td>\n",
       "      <td>2</td>\n",
       "    </tr>\n",
       "    <tr>\n",
       "      <th>32.0</th>\n",
       "      <th>38.000000</th>\n",
       "      <td>0.0</td>\n",
       "      <td>NaN</td>\n",
       "      <td>1</td>\n",
       "    </tr>\n",
       "    <tr>\n",
       "      <th>34.0</th>\n",
       "      <th>34.000000</th>\n",
       "      <td>26.0</td>\n",
       "      <td>NaN</td>\n",
       "      <td>1</td>\n",
       "    </tr>\n",
       "    <tr>\n",
       "      <th>37.0</th>\n",
       "      <th>34.000000</th>\n",
       "      <td>0.0</td>\n",
       "      <td>NaN</td>\n",
       "      <td>1</td>\n",
       "    </tr>\n",
       "    <tr>\n",
       "      <th>38.0</th>\n",
       "      <th>28.000000</th>\n",
       "      <td>3.0</td>\n",
       "      <td>NaN</td>\n",
       "      <td>1</td>\n",
       "    </tr>\n",
       "    <tr>\n",
       "      <th>39.0</th>\n",
       "      <th>32.000000</th>\n",
       "      <td>12.0</td>\n",
       "      <td>NaN</td>\n",
       "      <td>1</td>\n",
       "    </tr>\n",
       "    <tr>\n",
       "      <th>45.0</th>\n",
       "      <th>26.000000</th>\n",
       "      <td>3.0</td>\n",
       "      <td>NaN</td>\n",
       "      <td>1</td>\n",
       "    </tr>\n",
       "  </tbody>\n",
       "</table>\n",
       "</div>"
      ],
      "text/plain": [
       "                                               dias entre infeccao e parto  \\\n",
       "                                                                      mean   \n",
       "Idade da gestante Idade gestacional em semanas                               \n",
       "22.0              34.000000                                           33.0   \n",
       "                  35.000000                                            4.0   \n",
       "23.0              36.000000                                            0.0   \n",
       "26.0              21.000000                                           74.0   \n",
       "                  32.000000                                           42.0   \n",
       "27.0              37.000000                                           12.0   \n",
       "28.0              25.000000                                           76.0   \n",
       "29.0              34.000000                                            0.0   \n",
       "30.0              30.000000                                           46.0   \n",
       "                  30.133333                                           29.5   \n",
       "32.0              38.000000                                            0.0   \n",
       "34.0              34.000000                                           26.0   \n",
       "37.0              34.000000                                            0.0   \n",
       "38.0              28.000000                                            3.0   \n",
       "39.0              32.000000                                           12.0   \n",
       "45.0              26.000000                                            3.0   \n",
       "\n",
       "                                                                 \n",
       "                                                      std count  \n",
       "Idade da gestante Idade gestacional em semanas                   \n",
       "22.0              34.000000                           NaN     1  \n",
       "                  35.000000                           NaN     1  \n",
       "23.0              36.000000                           NaN     1  \n",
       "26.0              21.000000                           NaN     1  \n",
       "                  32.000000                           NaN     1  \n",
       "27.0              37.000000                           NaN     1  \n",
       "28.0              25.000000                           NaN     1  \n",
       "29.0              34.000000                           NaN     1  \n",
       "30.0              30.000000                           NaN     1  \n",
       "                  30.133333                     33.234019     2  \n",
       "32.0              38.000000                           NaN     1  \n",
       "34.0              34.000000                           NaN     1  \n",
       "37.0              34.000000                           NaN     1  \n",
       "38.0              28.000000                           NaN     1  \n",
       "39.0              32.000000                           NaN     1  \n",
       "45.0              26.000000                           NaN     1  "
      ]
     },
     "execution_count": 51,
     "metadata": {},
     "output_type": "execute_result"
    }
   ],
   "source": [
    "dados_gestantes[['Idade da gestante', 'Idade gestacional em semanas', 'dias entre infeccao e parto']].groupby([\n",
    "    'Idade da gestante', 'Idade gestacional em semanas']).agg(['mean', 'std', 'count'])"
   ]
  },
  {
   "cell_type": "markdown",
   "id": "80532884",
   "metadata": {},
   "source": [
    "**Há uma correlação negativa  moderada entre a idade gestacional e o período entre o diagnóstico da infecção e o momento do parto. A maioria dos dados indica, portanto, que o diagnóstico ocorreu ao final da gestação, com diferença de poucos dias para o parto. Há uma correlação fraca entre a idade da gestante e a idade gestacional e o período entre o diagnóstico da infecção e o momento do parto. O método corr utiliza o coeficiente de correlação de Pearson.**"
   ]
  },
  {
   "cell_type": "code",
   "execution_count": 52,
   "id": "af190322",
   "metadata": {},
   "outputs": [
    {
     "data": {
      "text/html": [
       "<div>\n",
       "<style scoped>\n",
       "    .dataframe tbody tr th:only-of-type {\n",
       "        vertical-align: middle;\n",
       "    }\n",
       "\n",
       "    .dataframe tbody tr th {\n",
       "        vertical-align: top;\n",
       "    }\n",
       "\n",
       "    .dataframe thead th {\n",
       "        text-align: right;\n",
       "    }\n",
       "</style>\n",
       "<table border=\"1\" class=\"dataframe\">\n",
       "  <thead>\n",
       "    <tr style=\"text-align: right;\">\n",
       "      <th></th>\n",
       "      <th>Idade da gestante</th>\n",
       "      <th>Idade gestacional em semanas</th>\n",
       "      <th>dias entre infeccao e parto</th>\n",
       "    </tr>\n",
       "  </thead>\n",
       "  <tbody>\n",
       "    <tr>\n",
       "      <th>Idade da gestante</th>\n",
       "      <td>1.000000</td>\n",
       "      <td>-0.238414</td>\n",
       "      <td>-0.314417</td>\n",
       "    </tr>\n",
       "    <tr>\n",
       "      <th>Idade gestacional em semanas</th>\n",
       "      <td>-0.238414</td>\n",
       "      <td>1.000000</td>\n",
       "      <td>-0.630728</td>\n",
       "    </tr>\n",
       "    <tr>\n",
       "      <th>dias entre infeccao e parto</th>\n",
       "      <td>-0.314417</td>\n",
       "      <td>-0.630728</td>\n",
       "      <td>1.000000</td>\n",
       "    </tr>\n",
       "  </tbody>\n",
       "</table>\n",
       "</div>"
      ],
      "text/plain": [
       "                              Idade da gestante  Idade gestacional em semanas  \\\n",
       "Idade da gestante                      1.000000                     -0.238414   \n",
       "Idade gestacional em semanas          -0.238414                      1.000000   \n",
       "dias entre infeccao e parto           -0.314417                     -0.630728   \n",
       "\n",
       "                              dias entre infeccao e parto  \n",
       "Idade da gestante                               -0.314417  \n",
       "Idade gestacional em semanas                    -0.630728  \n",
       "dias entre infeccao e parto                      1.000000  "
      ]
     },
     "execution_count": 52,
     "metadata": {},
     "output_type": "execute_result"
    }
   ],
   "source": [
    "# Utilizando o método corr () para calcular a matriz de correlação para todas as colunas numéricas. \n",
    "dados_gestantes.corr(numeric_only=True)"
   ]
  },
  {
   "cell_type": "markdown",
   "id": "b843ced3",
   "metadata": {},
   "source": [
    "A matriz de correlação é uma matriz quadrada em que os elementos da diagonal principal sempre têm um valor de 1. Isso acontece porque a diagonal principal representa a correlação de cada variável consigo mesma, o que é sempre perfeito (correlação de 100%) - uma variável é sempre perfeitamente correlacionada com ela mesma."
   ]
  },
  {
   "cell_type": "code",
   "execution_count": 53,
   "id": "746e31ac",
   "metadata": {},
   "outputs": [
    {
     "data": {
      "text/plain": [
       "<Axes: xlabel='dias entre infeccao e parto', ylabel='Idade gestacional em semanas'>"
      ]
     },
     "execution_count": 53,
     "metadata": {},
     "output_type": "execute_result"
    },
    {
     "data": {
      "image/png": "[encoded data removed]",
      "text/plain": [
       "<Figure size 640x480 with 1 Axes>"
      ]
     },
     "metadata": {},
     "output_type": "display_data"
    }
   ],
   "source": [
    "# Vamos analisar a relação entre a variável de entrada 'dias entre infecção e parto' e a variável alvo 'Idades gestacional'. \n",
    "sns.scatterplot(data = dados_gestantes, x = 'dias entre infeccao e parto', y = 'Idade gestacional em semanas')"
   ]
  },
  {
   "cell_type": "markdown",
   "id": "a8405ac6",
   "metadata": {},
   "source": [
    "## Conceitos"
   ]
  },
  {
   "cell_type": "markdown",
   "id": "727649bf",
   "metadata": {},
   "source": [
    "A **Regressão Linear** é uma técnica estatística utilizada para modelar a relação entre uma variável dependente (também chamada de variável resposta ou variável alvo) e uma ou mais variáveis independentes (também chamadas de variáveis explicativas ou preditoras).\n",
    "\n",
    "A Regressão Linear tem como objetivo estimar os coeficientes da equação que melhor descreve essa relação, minimizando a soma dos erros quadráticos entre os valores observados e os valores previstos pelo modelo.  \n",
    "\n",
    "O modelo de regressão linear simples é representado pela equação:\n",
    "\n",
    "**Y = β0 + β1*X  + ε.**  \n",
    "**Y** - é a variável dependente.  \n",
    "**X** -  é a variável independente.  \n",
    "**β0** -  é o coeficiente linear, ponto que corta o eixo y (intercepto).  \n",
    "**β1** - é o coeficiente associado a X (a inclinação)  \n",
    "**ε** - é o erro aleatório.  \n",
    "**β1** também pode ser entendido como  a taxa de variação de Y dependente de X, ou seja, o quanto a variável dependente (Y) muda em resposta a uma unidade de mudança na variável independente (X).\n",
    "Estes termos se relacionam de forma indireta com a trigonometria, **assim B1 também pode ser definida como a tangente do ângulo α (alfa)**, uma vez que, a tangente do ângulo alfa é a razão entre o comprimento do cateto oposto e o comprimento do cateto adjacente. "
   ]
  },
  {
   "cell_type": "markdown",
   "id": "35352d7b",
   "metadata": {},
   "source": [
    "#### Abaixo está uma figura representativa destes conceitos\n",
    "\n",
    "![Reta](regressao_linear.jpg)\n"
   ]
  },
  {
   "cell_type": "markdown",
   "id": "307a2b18",
   "metadata": {},
   "source": [
    "### Modelo de Regressão Linear utilizando o método de Mínimos Quadrados Ordinários (OLS - Ordinary Least Squares) com a biblioteca Statsmodels em Python"
   ]
  },
  {
   "cell_type": "code",
   "execution_count": 54,
   "id": "e2c1525a",
   "metadata": {},
   "outputs": [
    {
     "data": {
      "text/html": [
       "<div>\n",
       "<style scoped>\n",
       "    .dataframe tbody tr th:only-of-type {\n",
       "        vertical-align: middle;\n",
       "    }\n",
       "\n",
       "    .dataframe tbody tr th {\n",
       "        vertical-align: top;\n",
       "    }\n",
       "\n",
       "    .dataframe thead th {\n",
       "        text-align: right;\n",
       "    }\n",
       "</style>\n",
       "<table border=\"1\" class=\"dataframe\">\n",
       "  <thead>\n",
       "    <tr style=\"text-align: right;\">\n",
       "      <th></th>\n",
       "      <th>Paciente</th>\n",
       "      <th>Idade da gestante</th>\n",
       "      <th>Idade gestacional em semanas</th>\n",
       "      <th>dias entre infeccao e parto</th>\n",
       "      <th>Condicoes medicas</th>\n",
       "      <th>Primeira patologia</th>\n",
       "      <th>Historico clinico</th>\n",
       "    </tr>\n",
       "  </thead>\n",
       "  <tbody>\n",
       "    <tr>\n",
       "      <th>0</th>\n",
       "      <td>A</td>\n",
       "      <td>45.0</td>\n",
       "      <td>26.000000</td>\n",
       "      <td>3</td>\n",
       "      <td>Pre eclampsia e diabetes mellitus gestacional</td>\n",
       "      <td>Pre eclampsia</td>\n",
       "      <td>A - Pre eclampsia</td>\n",
       "    </tr>\n",
       "    <tr>\n",
       "      <th>1</th>\n",
       "      <td>B</td>\n",
       "      <td>38.0</td>\n",
       "      <td>28.000000</td>\n",
       "      <td>3</td>\n",
       "      <td>Hipotireoidismo pre gestacional</td>\n",
       "      <td>Hipotireoidismo pre gestacional</td>\n",
       "      <td>B - Hipotireoidismo pre gestacional</td>\n",
       "    </tr>\n",
       "    <tr>\n",
       "      <th>2</th>\n",
       "      <td>C</td>\n",
       "      <td>29.0</td>\n",
       "      <td>34.000000</td>\n",
       "      <td>0</td>\n",
       "      <td>Diabetes mellitus gestacional, obesidade, hipo...</td>\n",
       "      <td>Diabetes mellitus gestacional</td>\n",
       "      <td>C - Diabetes mellitus gestacional</td>\n",
       "    </tr>\n",
       "    <tr>\n",
       "      <th>3</th>\n",
       "      <td>D</td>\n",
       "      <td>37.0</td>\n",
       "      <td>34.000000</td>\n",
       "      <td>0</td>\n",
       "      <td>Transtorno de ansiedade generalizada</td>\n",
       "      <td>Transtorno de ansiedade generalizada</td>\n",
       "      <td>D - Transtorno de ansiedade generalizada</td>\n",
       "    </tr>\n",
       "    <tr>\n",
       "      <th>4</th>\n",
       "      <td>E</td>\n",
       "      <td>23.0</td>\n",
       "      <td>36.000000</td>\n",
       "      <td>0</td>\n",
       "      <td>Sem dados</td>\n",
       "      <td>Sem dados</td>\n",
       "      <td>E - Sem dados</td>\n",
       "    </tr>\n",
       "    <tr>\n",
       "      <th>5</th>\n",
       "      <td>F</td>\n",
       "      <td>28.0</td>\n",
       "      <td>25.000000</td>\n",
       "      <td>76</td>\n",
       "      <td>Diabetes mellitus tipo 2</td>\n",
       "      <td>Diabetes mellitus tipo 2</td>\n",
       "      <td>F - Diabetes mellitus tipo 2</td>\n",
       "    </tr>\n",
       "    <tr>\n",
       "      <th>6</th>\n",
       "      <td>G</td>\n",
       "      <td>22.0</td>\n",
       "      <td>35.000000</td>\n",
       "      <td>4</td>\n",
       "      <td>Diabetes mellitus gestacional, obesidade e hip...</td>\n",
       "      <td>Diabetes mellitus gestacional</td>\n",
       "      <td>G - Diabetes mellitus gestacional</td>\n",
       "    </tr>\n",
       "    <tr>\n",
       "      <th>7</th>\n",
       "      <td>H</td>\n",
       "      <td>26.0</td>\n",
       "      <td>32.000000</td>\n",
       "      <td>42</td>\n",
       "      <td>Toxoplasmose aguda e hipotireoidismo</td>\n",
       "      <td>Toxoplasmose aguda</td>\n",
       "      <td>H - Toxoplasmose aguda</td>\n",
       "    </tr>\n",
       "    <tr>\n",
       "      <th>8</th>\n",
       "      <td>I</td>\n",
       "      <td>22.0</td>\n",
       "      <td>34.000000</td>\n",
       "      <td>33</td>\n",
       "      <td>Asma, transtorno de ansiedade generalizada e o...</td>\n",
       "      <td>Asma</td>\n",
       "      <td>I - Asma</td>\n",
       "    </tr>\n",
       "    <tr>\n",
       "      <th>9</th>\n",
       "      <td>J</td>\n",
       "      <td>32.0</td>\n",
       "      <td>38.000000</td>\n",
       "      <td>0</td>\n",
       "      <td>Sem dados</td>\n",
       "      <td>Sem dados</td>\n",
       "      <td>J - Sem dados</td>\n",
       "    </tr>\n",
       "    <tr>\n",
       "      <th>10</th>\n",
       "      <td>K</td>\n",
       "      <td>30.0</td>\n",
       "      <td>30.000000</td>\n",
       "      <td>46</td>\n",
       "      <td>Pre eclampsia e diabetes mellitus gestacional,...</td>\n",
       "      <td>Pre eclampsia</td>\n",
       "      <td>K - Pre eclampsia</td>\n",
       "    </tr>\n",
       "    <tr>\n",
       "      <th>11</th>\n",
       "      <td>L</td>\n",
       "      <td>27.0</td>\n",
       "      <td>37.000000</td>\n",
       "      <td>12</td>\n",
       "      <td>Diabetes mellitus gestacional</td>\n",
       "      <td>Diabetes mellitus gestacional</td>\n",
       "      <td>L - Diabetes mellitus gestacional</td>\n",
       "    </tr>\n",
       "    <tr>\n",
       "      <th>12</th>\n",
       "      <td>M</td>\n",
       "      <td>34.0</td>\n",
       "      <td>34.000000</td>\n",
       "      <td>26</td>\n",
       "      <td>Sem dados</td>\n",
       "      <td>Sem dados</td>\n",
       "      <td>M - Sem dados</td>\n",
       "    </tr>\n",
       "    <tr>\n",
       "      <th>13</th>\n",
       "      <td>N</td>\n",
       "      <td>39.0</td>\n",
       "      <td>32.000000</td>\n",
       "      <td>12</td>\n",
       "      <td>Sem dados</td>\n",
       "      <td>Sem dados</td>\n",
       "      <td>N - Sem dados</td>\n",
       "    </tr>\n",
       "    <tr>\n",
       "      <th>14</th>\n",
       "      <td>O</td>\n",
       "      <td>26.0</td>\n",
       "      <td>21.000000</td>\n",
       "      <td>74</td>\n",
       "      <td>Diabetes mellitus gestacional, obesidade e hip...</td>\n",
       "      <td>Diabetes mellitus gestacional</td>\n",
       "      <td>O - Diabetes mellitus gestacional</td>\n",
       "    </tr>\n",
       "    <tr>\n",
       "      <th>15</th>\n",
       "      <td>P</td>\n",
       "      <td>30.0</td>\n",
       "      <td>30.133333</td>\n",
       "      <td>53</td>\n",
       "      <td>Sem dados</td>\n",
       "      <td>Sem dados</td>\n",
       "      <td>P - Sem dados</td>\n",
       "    </tr>\n",
       "    <tr>\n",
       "      <th>16</th>\n",
       "      <td>Q</td>\n",
       "      <td>30.0</td>\n",
       "      <td>30.133333</td>\n",
       "      <td>6</td>\n",
       "      <td>Sem dados</td>\n",
       "      <td>Sem dados</td>\n",
       "      <td>Q - Sem dados</td>\n",
       "    </tr>\n",
       "  </tbody>\n",
       "</table>\n",
       "</div>"
      ],
      "text/plain": [
       "   Paciente  Idade da gestante  Idade gestacional em semanas  \\\n",
       "0         A               45.0                     26.000000   \n",
       "1         B               38.0                     28.000000   \n",
       "2         C               29.0                     34.000000   \n",
       "3         D               37.0                     34.000000   \n",
       "4         E               23.0                     36.000000   \n",
       "5         F               28.0                     25.000000   \n",
       "6         G               22.0                     35.000000   \n",
       "7         H               26.0                     32.000000   \n",
       "8         I               22.0                     34.000000   \n",
       "9         J               32.0                     38.000000   \n",
       "10        K               30.0                     30.000000   \n",
       "11        L               27.0                     37.000000   \n",
       "12        M               34.0                     34.000000   \n",
       "13        N               39.0                     32.000000   \n",
       "14        O               26.0                     21.000000   \n",
       "15        P               30.0                     30.133333   \n",
       "16        Q               30.0                     30.133333   \n",
       "\n",
       "    dias entre infeccao e parto  \\\n",
       "0                             3   \n",
       "1                             3   \n",
       "2                             0   \n",
       "3                             0   \n",
       "4                             0   \n",
       "5                            76   \n",
       "6                             4   \n",
       "7                            42   \n",
       "8                            33   \n",
       "9                             0   \n",
       "10                           46   \n",
       "11                           12   \n",
       "12                           26   \n",
       "13                           12   \n",
       "14                           74   \n",
       "15                           53   \n",
       "16                            6   \n",
       "\n",
       "                                    Condicoes medicas  \\\n",
       "0       Pre eclampsia e diabetes mellitus gestacional   \n",
       "1                     Hipotireoidismo pre gestacional   \n",
       "2   Diabetes mellitus gestacional, obesidade, hipo...   \n",
       "3                Transtorno de ansiedade generalizada   \n",
       "4                                           Sem dados   \n",
       "5                            Diabetes mellitus tipo 2   \n",
       "6   Diabetes mellitus gestacional, obesidade e hip...   \n",
       "7                Toxoplasmose aguda e hipotireoidismo   \n",
       "8   Asma, transtorno de ansiedade generalizada e o...   \n",
       "9                                           Sem dados   \n",
       "10  Pre eclampsia e diabetes mellitus gestacional,...   \n",
       "11                      Diabetes mellitus gestacional   \n",
       "12                                          Sem dados   \n",
       "13                                          Sem dados   \n",
       "14  Diabetes mellitus gestacional, obesidade e hip...   \n",
       "15                                          Sem dados   \n",
       "16                                          Sem dados   \n",
       "\n",
       "                      Primeira patologia  \\\n",
       "0                          Pre eclampsia   \n",
       "1        Hipotireoidismo pre gestacional   \n",
       "2          Diabetes mellitus gestacional   \n",
       "3   Transtorno de ansiedade generalizada   \n",
       "4                              Sem dados   \n",
       "5               Diabetes mellitus tipo 2   \n",
       "6          Diabetes mellitus gestacional   \n",
       "7                     Toxoplasmose aguda   \n",
       "8                                   Asma   \n",
       "9                              Sem dados   \n",
       "10                         Pre eclampsia   \n",
       "11         Diabetes mellitus gestacional   \n",
       "12                             Sem dados   \n",
       "13                             Sem dados   \n",
       "14         Diabetes mellitus gestacional   \n",
       "15                             Sem dados   \n",
       "16                             Sem dados   \n",
       "\n",
       "                           Historico clinico  \n",
       "0                          A - Pre eclampsia  \n",
       "1        B - Hipotireoidismo pre gestacional  \n",
       "2          C - Diabetes mellitus gestacional  \n",
       "3   D - Transtorno de ansiedade generalizada  \n",
       "4                              E - Sem dados  \n",
       "5               F - Diabetes mellitus tipo 2  \n",
       "6          G - Diabetes mellitus gestacional  \n",
       "7                     H - Toxoplasmose aguda  \n",
       "8                                   I - Asma  \n",
       "9                              J - Sem dados  \n",
       "10                         K - Pre eclampsia  \n",
       "11         L - Diabetes mellitus gestacional  \n",
       "12                             M - Sem dados  \n",
       "13                             N - Sem dados  \n",
       "14         O - Diabetes mellitus gestacional  \n",
       "15                             P - Sem dados  \n",
       "16                             Q - Sem dados  "
      ]
     },
     "execution_count": 54,
     "metadata": {},
     "output_type": "execute_result"
    }
   ],
   "source": [
    "dados_gestantes"
   ]
  },
  {
   "cell_type": "code",
   "execution_count": 55,
   "id": "5b1af345",
   "metadata": {},
   "outputs": [
    {
     "data": {
      "text/plain": [
       "0      3\n",
       "1      3\n",
       "2      0\n",
       "3      0\n",
       "4      0\n",
       "5     76\n",
       "6      4\n",
       "7     42\n",
       "8     33\n",
       "9      0\n",
       "10    46\n",
       "11    12\n",
       "12    26\n",
       "13    12\n",
       "14    74\n",
       "15    53\n",
       "16     6\n",
       "Name: dias entre infeccao e parto, dtype: int64"
      ]
     },
     "execution_count": 55,
     "metadata": {},
     "output_type": "execute_result"
    }
   ],
   "source": [
    "# Definimos a variável dependente e indepedente\n",
    "y = dados_gestantes['Idade gestacional em semanas']\n",
    "X = dados_gestantes['dias entre infeccao e parto']\n",
    "X"
   ]
  },
  {
   "cell_type": "code",
   "execution_count": 56,
   "id": "9b7feed9",
   "metadata": {},
   "outputs": [
    {
     "data": {
      "text/html": [
       "<div>\n",
       "<style scoped>\n",
       "    .dataframe tbody tr th:only-of-type {\n",
       "        vertical-align: middle;\n",
       "    }\n",
       "\n",
       "    .dataframe tbody tr th {\n",
       "        vertical-align: top;\n",
       "    }\n",
       "\n",
       "    .dataframe thead th {\n",
       "        text-align: right;\n",
       "    }\n",
       "</style>\n",
       "<table border=\"1\" class=\"dataframe\">\n",
       "  <thead>\n",
       "    <tr style=\"text-align: right;\">\n",
       "      <th></th>\n",
       "      <th>const</th>\n",
       "      <th>dias entre infeccao e parto</th>\n",
       "    </tr>\n",
       "  </thead>\n",
       "  <tbody>\n",
       "    <tr>\n",
       "      <th>0</th>\n",
       "      <td>1.0</td>\n",
       "      <td>3</td>\n",
       "    </tr>\n",
       "    <tr>\n",
       "      <th>1</th>\n",
       "      <td>1.0</td>\n",
       "      <td>3</td>\n",
       "    </tr>\n",
       "    <tr>\n",
       "      <th>2</th>\n",
       "      <td>1.0</td>\n",
       "      <td>0</td>\n",
       "    </tr>\n",
       "    <tr>\n",
       "      <th>3</th>\n",
       "      <td>1.0</td>\n",
       "      <td>0</td>\n",
       "    </tr>\n",
       "    <tr>\n",
       "      <th>4</th>\n",
       "      <td>1.0</td>\n",
       "      <td>0</td>\n",
       "    </tr>\n",
       "    <tr>\n",
       "      <th>5</th>\n",
       "      <td>1.0</td>\n",
       "      <td>76</td>\n",
       "    </tr>\n",
       "    <tr>\n",
       "      <th>6</th>\n",
       "      <td>1.0</td>\n",
       "      <td>4</td>\n",
       "    </tr>\n",
       "    <tr>\n",
       "      <th>7</th>\n",
       "      <td>1.0</td>\n",
       "      <td>42</td>\n",
       "    </tr>\n",
       "    <tr>\n",
       "      <th>8</th>\n",
       "      <td>1.0</td>\n",
       "      <td>33</td>\n",
       "    </tr>\n",
       "    <tr>\n",
       "      <th>9</th>\n",
       "      <td>1.0</td>\n",
       "      <td>0</td>\n",
       "    </tr>\n",
       "    <tr>\n",
       "      <th>10</th>\n",
       "      <td>1.0</td>\n",
       "      <td>46</td>\n",
       "    </tr>\n",
       "    <tr>\n",
       "      <th>11</th>\n",
       "      <td>1.0</td>\n",
       "      <td>12</td>\n",
       "    </tr>\n",
       "    <tr>\n",
       "      <th>12</th>\n",
       "      <td>1.0</td>\n",
       "      <td>26</td>\n",
       "    </tr>\n",
       "    <tr>\n",
       "      <th>13</th>\n",
       "      <td>1.0</td>\n",
       "      <td>12</td>\n",
       "    </tr>\n",
       "    <tr>\n",
       "      <th>14</th>\n",
       "      <td>1.0</td>\n",
       "      <td>74</td>\n",
       "    </tr>\n",
       "    <tr>\n",
       "      <th>15</th>\n",
       "      <td>1.0</td>\n",
       "      <td>53</td>\n",
       "    </tr>\n",
       "    <tr>\n",
       "      <th>16</th>\n",
       "      <td>1.0</td>\n",
       "      <td>6</td>\n",
       "    </tr>\n",
       "  </tbody>\n",
       "</table>\n",
       "</div>"
      ],
      "text/plain": [
       "    const  dias entre infeccao e parto\n",
       "0     1.0                            3\n",
       "1     1.0                            3\n",
       "2     1.0                            0\n",
       "3     1.0                            0\n",
       "4     1.0                            0\n",
       "5     1.0                           76\n",
       "6     1.0                            4\n",
       "7     1.0                           42\n",
       "8     1.0                           33\n",
       "9     1.0                            0\n",
       "10    1.0                           46\n",
       "11    1.0                           12\n",
       "12    1.0                           26\n",
       "13    1.0                           12\n",
       "14    1.0                           74\n",
       "15    1.0                           53\n",
       "16    1.0                            6"
      ]
     },
     "execution_count": 56,
     "metadata": {},
     "output_type": "execute_result"
    }
   ],
   "source": [
    "# O Statsmodels requer a adição de uma constante à variável independente\n",
    "X= sm.add_constant(X)\n",
    "X"
   ]
  },
  {
   "cell_type": "code",
   "execution_count": 57,
   "id": "30e173b7",
   "metadata": {},
   "outputs": [],
   "source": [
    "# Criamos o modelo\n",
    "modelo = sm.OLS(y, X)"
   ]
  },
  {
   "cell_type": "markdown",
   "id": "0687b3d3",
   "metadata": {},
   "source": [
    "O **método sm.OLS(y, X)** é uma função do pacote Statsmodels, biblioteca Python utilizada para análise estatística. A função OLS (Ordinary Least Squares) é usada para ajustar um modelo de regressão linear, minimizando a soma dos erros quadráticos entre os valores observados e os valores previstos pelo modelo.  \n",
    "A função sm.OLS(y, X) recebe dois argumentos principais:  \n",
    "y: Um array ou pandas Series representando a variável dependente (variável resposta ou alvo). É a variável que você deseja prever ou explicar com base nas variáveis independentes.  \n",
    "X: Um array ou pandas DataFrame representando as variáveis independentes (variáveis explicativas ou preditoras). São as variáveis que você deseja usar para explicar ou prever a variável dependente."
   ]
  },
  {
   "cell_type": "code",
   "execution_count": 58,
   "id": "27542ad9",
   "metadata": {},
   "outputs": [],
   "source": [
    "# Treinamento do modelo\n",
    "resultado = modelo.fit()"
   ]
  },
  {
   "cell_type": "code",
   "execution_count": 59,
   "id": "71bf383a",
   "metadata": {},
   "outputs": [
    {
     "name": "stdout",
     "output_type": "stream",
     "text": [
      "                                 OLS Regression Results                                 \n",
      "========================================================================================\n",
      "Dep. Variable:     Idade gestacional em semanas   R-squared:                       0.398\n",
      "Model:                                      OLS   Adj. R-squared:                  0.358\n",
      "Method:                           Least Squares   F-statistic:                     9.909\n",
      "Date:                          Wed, 13 Sep 2023   Prob (F-statistic):            0.00663\n",
      "Time:                                  17:50:04   Log-Likelihood:                -45.058\n",
      "No. Observations:                            17   AIC:                             94.12\n",
      "Df Residuals:                                15   BIC:                             95.78\n",
      "Df Model:                                     1                                         \n",
      "Covariance Type:                      nonrobust                                         \n",
      "===============================================================================================\n",
      "                                  coef    std err          t      P>|t|      [0.025      0.975]\n",
      "-----------------------------------------------------------------------------------------------\n",
      "const                          34.0436      1.189     28.643      0.000      31.510      36.577\n",
      "dias entre infeccao e parto    -0.1089      0.035     -3.148      0.007      -0.183      -0.035\n",
      "==============================================================================\n",
      "Omnibus:                        2.816   Durbin-Watson:                   0.903\n",
      "Prob(Omnibus):                  0.245   Jarque-Bera (JB):                2.027\n",
      "Skew:                          -0.828   Prob(JB):                        0.363\n",
      "Kurtosis:                       2.651   Cond. No.                         46.2\n",
      "==============================================================================\n",
      "\n",
      "Notes:\n",
      "[1] Standard Errors assume that the covariance matrix of the errors is correctly specified.\n"
     ]
    },
    {
     "name": "stderr",
     "output_type": "stream",
     "text": [
      "C:\\Users\\Leticia\\anaconda3\\Lib\\site-packages\\scipy\\stats\\_stats_py.py:1736: UserWarning: kurtosistest only valid for n>=20 ... continuing anyway, n=17\n",
      "  warnings.warn(\"kurtosistest only valid for n>=20 ... continuing \"\n"
     ]
    }
   ],
   "source": [
    "print(resultado.summary())"
   ]
  },
  {
   "cell_type": "markdown",
   "id": "12729da4",
   "metadata": {},
   "source": [
    "A mensagem de aviso **\"kurtosistest only valid for n>=20 ... continuing anyway, n=17\"** é emitida pelo Statsmodels para informar que um dos testes estatísticos realizados no resumo do modelo (possivelmente o teste de curtose) pode não ser válido devido ao tamanho da amostra pequena (n=17) no seu conjunto de dados."
   ]
  },
  {
   "cell_type": "markdown",
   "id": "94ced392",
   "metadata": {},
   "source": [
    "## Interpretando o Resultado do Modelo Estatístico com Statsmodels\n",
    "\n",
    "A tabela acima traz um resumo do modelo com diversas estatísticas. Aqui faremos a análise de uma delas, o R².\n",
    "\n",
    "O coeficiente de determinação, também conhecido como R², é uma medida estatística que avalia o quão bem o modelo de regressão se ajusta aos dados observados. Ele varia de 0 a 1 e representa a proporção da variação total da variável dependente que é explicada pelo modelo de regressão.\n",
    "\n",
    "A interpretação do R² é a seguinte:\n",
    "\n",
    "R² = 0: Neste caso, o modelo de regressão não explica nenhuma variação na variável dependente. Isso significa que o modelo não é útil para prever ou explicar a variável de interesse.\n",
    "\n",
    "R² = 1: Neste caso, o modelo de regressão explica toda a variação na variável dependente. Isso indica que o modelo se ajusta perfeitamente aos dados e é extremamente útil para prever ou explicar a variável de interesse.\n",
    "\n",
    "0 < R² < 1: Neste caso, o modelo de regressão explica uma parte da variação na variável dependente. Quanto maior o valor de R², melhor o modelo se ajusta aos dados e melhor é a sua capacidade de prever ou explicar a variável de interesse.\n",
    "\n",
    "É importante notar que um R² alto não garante que o modelo seja adequado, nem que haja uma relação causal entre as variáveis.  Portanto, é essencial avaliar outras estatísticas e diagnosticar o modelo antes de tirar conclusões definitivas."
   ]
  },
  {
   "cell_type": "code",
   "execution_count": 60,
   "id": "f0ca7bec",
   "metadata": {},
   "outputs": [
    {
     "data": {
      "image/png": "[encoded data removed]",
      "text/plain": [
       "<Figure size 500x400 with 1 Axes>"
      ]
     },
     "metadata": {},
     "output_type": "display_data"
    }
   ],
   "source": [
    "# Plot\n",
    "plt.figure(figsize=(5, 4)) #cria uma nova figura de plotagem com uma largura de 7 unidades e uma altura de 4 unidades\n",
    "plt.xlabel('dias entre infeccao e parto', size=11) #Define o rótulo do eixo x; ajusta o tamanho da fonte para 11. \n",
    "plt.ylabel('Idade gestacional em semanas', size=11)#Define o rótulo do eixo y; ajusta o tamanho da fonte para 11. \n",
    "\n",
    "#Plota os dados reais no gráfico: X representa os valores da variável independente e y os valores da variável dependente.\n",
    "plt.plot(X['dias entre infeccao e parto'], y, 'o', label='Dados Reais')\n",
    "\n",
    "#X é usado como o eixo x e resultado.fittedvalues é a saída do modelo de regressão, a previsão do modelo.\n",
    "#O argumento 'r-' especifica que a linha deve ser desenhada em vermelho contínuo\n",
    "plt.plot(X['dias entre infeccao e parto'], resultado.fittedvalues, 'r-', label= 'Linha de Regressão')\n",
    "\n",
    "#Adiciona uma legenda ao gráfico com base nos rótulos. \n",
    "#O argumento loc='best' indica que a biblioteca deve escolher automaticamente a melhor posição para a legenda no gráfico.\n",
    "plt.legend(loc='best')\n",
    "plt.show()"
   ]
  },
  {
   "cell_type": "markdown",
   "id": "18fdb78d",
   "metadata": {},
   "source": [
    "### Modelo de Regressão Linear utilizando biblioteca Scikit-Learn em Python"
   ]
  },
  {
   "cell_type": "code",
   "execution_count": 61,
   "id": "b0df30ec",
   "metadata": {},
   "outputs": [
    {
     "data": {
      "text/html": [
       "<div>\n",
       "<style scoped>\n",
       "    .dataframe tbody tr th:only-of-type {\n",
       "        vertical-align: middle;\n",
       "    }\n",
       "\n",
       "    .dataframe tbody tr th {\n",
       "        vertical-align: top;\n",
       "    }\n",
       "\n",
       "    .dataframe thead th {\n",
       "        text-align: right;\n",
       "    }\n",
       "</style>\n",
       "<table border=\"1\" class=\"dataframe\">\n",
       "  <thead>\n",
       "    <tr style=\"text-align: right;\">\n",
       "      <th></th>\n",
       "      <th>Paciente</th>\n",
       "      <th>Idade da gestante</th>\n",
       "      <th>Idade gestacional em semanas</th>\n",
       "      <th>dias entre infeccao e parto</th>\n",
       "      <th>Condicoes medicas</th>\n",
       "      <th>Primeira patologia</th>\n",
       "      <th>Historico clinico</th>\n",
       "    </tr>\n",
       "  </thead>\n",
       "  <tbody>\n",
       "    <tr>\n",
       "      <th>0</th>\n",
       "      <td>A</td>\n",
       "      <td>45.0</td>\n",
       "      <td>26.0</td>\n",
       "      <td>3</td>\n",
       "      <td>Pre eclampsia e diabetes mellitus gestacional</td>\n",
       "      <td>Pre eclampsia</td>\n",
       "      <td>A - Pre eclampsia</td>\n",
       "    </tr>\n",
       "    <tr>\n",
       "      <th>1</th>\n",
       "      <td>B</td>\n",
       "      <td>38.0</td>\n",
       "      <td>28.0</td>\n",
       "      <td>3</td>\n",
       "      <td>Hipotireoidismo pre gestacional</td>\n",
       "      <td>Hipotireoidismo pre gestacional</td>\n",
       "      <td>B - Hipotireoidismo pre gestacional</td>\n",
       "    </tr>\n",
       "    <tr>\n",
       "      <th>2</th>\n",
       "      <td>C</td>\n",
       "      <td>29.0</td>\n",
       "      <td>34.0</td>\n",
       "      <td>0</td>\n",
       "      <td>Diabetes mellitus gestacional, obesidade, hipo...</td>\n",
       "      <td>Diabetes mellitus gestacional</td>\n",
       "      <td>C - Diabetes mellitus gestacional</td>\n",
       "    </tr>\n",
       "    <tr>\n",
       "      <th>3</th>\n",
       "      <td>D</td>\n",
       "      <td>37.0</td>\n",
       "      <td>34.0</td>\n",
       "      <td>0</td>\n",
       "      <td>Transtorno de ansiedade generalizada</td>\n",
       "      <td>Transtorno de ansiedade generalizada</td>\n",
       "      <td>D - Transtorno de ansiedade generalizada</td>\n",
       "    </tr>\n",
       "    <tr>\n",
       "      <th>4</th>\n",
       "      <td>E</td>\n",
       "      <td>23.0</td>\n",
       "      <td>36.0</td>\n",
       "      <td>0</td>\n",
       "      <td>Sem dados</td>\n",
       "      <td>Sem dados</td>\n",
       "      <td>E - Sem dados</td>\n",
       "    </tr>\n",
       "  </tbody>\n",
       "</table>\n",
       "</div>"
      ],
      "text/plain": [
       "  Paciente  Idade da gestante  Idade gestacional em semanas  \\\n",
       "0        A               45.0                          26.0   \n",
       "1        B               38.0                          28.0   \n",
       "2        C               29.0                          34.0   \n",
       "3        D               37.0                          34.0   \n",
       "4        E               23.0                          36.0   \n",
       "\n",
       "   dias entre infeccao e parto  \\\n",
       "0                            3   \n",
       "1                            3   \n",
       "2                            0   \n",
       "3                            0   \n",
       "4                            0   \n",
       "\n",
       "                                   Condicoes medicas  \\\n",
       "0      Pre eclampsia e diabetes mellitus gestacional   \n",
       "1                    Hipotireoidismo pre gestacional   \n",
       "2  Diabetes mellitus gestacional, obesidade, hipo...   \n",
       "3               Transtorno de ansiedade generalizada   \n",
       "4                                          Sem dados   \n",
       "\n",
       "                     Primeira patologia  \\\n",
       "0                         Pre eclampsia   \n",
       "1       Hipotireoidismo pre gestacional   \n",
       "2         Diabetes mellitus gestacional   \n",
       "3  Transtorno de ansiedade generalizada   \n",
       "4                             Sem dados   \n",
       "\n",
       "                          Historico clinico  \n",
       "0                         A - Pre eclampsia  \n",
       "1       B - Hipotireoidismo pre gestacional  \n",
       "2         C - Diabetes mellitus gestacional  \n",
       "3  D - Transtorno de ansiedade generalizada  \n",
       "4                             E - Sem dados  "
      ]
     },
     "execution_count": 61,
     "metadata": {},
     "output_type": "execute_result"
    }
   ],
   "source": [
    "dados_gestantes.head()"
   ]
  },
  {
   "cell_type": "code",
   "execution_count": 62,
   "id": "211ca501",
   "metadata": {},
   "outputs": [
    {
     "data": {
      "text/plain": [
       "array([ 3,  3,  0,  0,  0, 76,  4, 42, 33,  0, 46, 12, 26, 12, 74, 53,  6],\n",
       "      dtype=int64)"
      ]
     },
     "execution_count": 62,
     "metadata": {},
     "output_type": "execute_result"
    }
   ],
   "source": [
    "#Extração dos valores das colunas de interesse e armazenamento na variável indepedente e dependente, respectivamente:\n",
    "#.values é um atributo do Pandas que converte a série (coluna) de dados em uma matriz NumPy, um array unidimensional.\n",
    "X = dados_gestantes['dias entre infeccao e parto'].values\n",
    "y = dados_gestantes['Idade gestacional em semanas'].values\n",
    "X"
   ]
  },
  {
   "cell_type": "markdown",
   "id": "c2eaf1ff",
   "metadata": {},
   "source": [
    "Também poderia ser utilizado o código **X = np.array(dados_gestantes['dias entre infeccao e parto'])** para converter a coluna 'dias entre infeccao e parto' do DataFrame dados_gestantes em um objeto NumPy array. "
   ]
  },
  {
   "cell_type": "code",
   "execution_count": 63,
   "id": "16137ec0",
   "metadata": {},
   "outputs": [
    {
     "data": {
      "text/plain": [
       "numpy.ndarray"
      ]
     },
     "execution_count": 63,
     "metadata": {},
     "output_type": "execute_result"
    }
   ],
   "source": [
    "type(X)"
   ]
  },
  {
   "cell_type": "code",
   "execution_count": 64,
   "id": "1d46d60f",
   "metadata": {},
   "outputs": [
    {
     "data": {
      "text/plain": [
       "array([[ 1.       , -0.6307278],\n",
       "       [-0.6307278,  1.       ]])"
      ]
     },
     "execution_count": 64,
     "metadata": {},
     "output_type": "execute_result"
    }
   ],
   "source": [
    "#Utilizando a função np.corrcoef da biblioteca NumPy para calcular a matriz de correlação entre duas variáveis, X e y. \n",
    "correlacao = np.corrcoef(X, y)\n",
    "correlacao"
   ]
  },
  {
   "cell_type": "markdown",
   "id": "29dbaa12",
   "metadata": {},
   "source": [
    "O código X = X.reshape(-1, 1) está remodelando o array unidimensional X em uma matriz bidimensional, onde cada valor original de X é uma entrada na nova matriz. Isso é comum quando se prepara os dados para modelos de aprendizado de máquina, como regressão linear. O **valor -1**, indica que você quer que o NumPy calcule automaticamente o tamanho da primeira dimensão (número de linhas) para você, com base no tamanho total dos dados. Isso é útil quando você deseja manter o mesmo número total de elementos, mas deseja alterar a forma do array de uma dimensão para duas dimensões (matriz). **O valor 1,** define a segunda dimensão do array, que é o número de colunas. Neste caso, estamos criando uma matriz com uma única coluna. Desta forma, **o padrão -1, 1** é comumente usado para converter um array unidimensional em uma matriz bidimensional"
   ]
  },
  {
   "cell_type": "code",
   "execution_count": 65,
   "id": "cce44952",
   "metadata": {},
   "outputs": [
    {
     "name": "stdout",
     "output_type": "stream",
     "text": [
      "[[ 3]\n",
      " [ 3]\n",
      " [ 0]\n",
      " [ 0]\n",
      " [ 0]\n",
      " [76]\n",
      " [ 4]\n",
      " [42]\n",
      " [33]\n",
      " [ 0]\n",
      " [46]\n",
      " [12]\n",
      " [26]\n",
      " [12]\n",
      " [74]\n",
      " [53]\n",
      " [ 6]]\n"
     ]
    }
   ],
   "source": [
    "X = X.reshape(-1, 1)\n",
    "print (X)"
   ]
  },
  {
   "cell_type": "markdown",
   "id": "e08d20bc",
   "metadata": {},
   "source": [
    "### Divisão dos dados entre treino e teste"
   ]
  },
  {
   "cell_type": "markdown",
   "id": "45e0080a",
   "metadata": {},
   "source": [
    "Dividir os dados em conjuntos de treinamento e teste é uma prática fundamental na análise de dados e na construção de modelos de aprendizado de máquina. O objetivo principal dessa divisão é avaliar o desempenho do modelo de forma justa e realista, medindo como ele se comporta em dados que não foram usados durante o treinamento. Isso ajuda a garantir que o modelo seja capaz de generalizar bem para novos dados não vistos e não esteja apenas \"memorizando\" os dados de treinamento."
   ]
  },
  {
   "cell_type": "code",
   "execution_count": 66,
   "id": "4772dd34",
   "metadata": {},
   "outputs": [],
   "source": [
    "# Dividir dados em treinamento e teste\n",
    "X_treino, X_teste, y_treino, y_teste = train_test_split(X, y, test_size = 0.5, random_state = 42)"
   ]
  },
  {
   "cell_type": "markdown",
   "id": "10e7446d",
   "metadata": {},
   "source": [
    "**test_size=0.2:** Especifica a proporção do conjunto de dados que será alocada para o conjunto de teste. Neste caso, 50% do seu conjunto de dados será usado como conjunto de teste, e o restante será usado como conjunto de treinamento. **random_state=42:** Define uma semente (seed) para a geração de números aleatórios"
   ]
  },
  {
   "cell_type": "code",
   "execution_count": 67,
   "id": "f4d89983",
   "metadata": {},
   "outputs": [
    {
     "data": {
      "text/plain": [
       "(8, 1)"
      ]
     },
     "execution_count": 67,
     "metadata": {},
     "output_type": "execute_result"
    }
   ],
   "source": [
    "X_treino.shape"
   ]
  },
  {
   "cell_type": "code",
   "execution_count": 68,
   "id": "1b068df1",
   "metadata": {},
   "outputs": [
    {
     "data": {
      "text/plain": [
       "(9, 1)"
      ]
     },
     "execution_count": 68,
     "metadata": {},
     "output_type": "execute_result"
    }
   ],
   "source": [
    "X_teste.shape"
   ]
  },
  {
   "cell_type": "code",
   "execution_count": 69,
   "id": "346aba91",
   "metadata": {},
   "outputs": [
    {
     "data": {
      "text/plain": [
       "(8,)"
      ]
     },
     "execution_count": 69,
     "metadata": {},
     "output_type": "execute_result"
    }
   ],
   "source": [
    "y_treino.shape"
   ]
  },
  {
   "cell_type": "code",
   "execution_count": 70,
   "id": "cc0d3b43",
   "metadata": {},
   "outputs": [
    {
     "data": {
      "text/plain": [
       "(9,)"
      ]
     },
     "execution_count": 70,
     "metadata": {},
     "output_type": "execute_result"
    }
   ],
   "source": [
    "y_teste.shape"
   ]
  },
  {
   "cell_type": "markdown",
   "id": "7fb7f1cd",
   "metadata": {},
   "source": [
    "A diferença do Shape se porque o código X = X.reshape(-1, 1) remodelou o array unidimensional X em uma matriz bidimensional"
   ]
  },
  {
   "cell_type": "markdown",
   "id": "7350752c",
   "metadata": {},
   "source": [
    "## Modelagem Preditiva (Machine Learning)"
   ]
  },
  {
   "cell_type": "markdown",
   "id": "682ab7d4",
   "metadata": {},
   "source": [
    "Sobre o código **modelo = LinearRegression()**, quando você chama LinearRegression(), está criando uma instância vazia do modelo de regressão linear. Isso significa que você está criando um objeto que será capaz de realizar regressão linear, mas ainda não está configurado ou treinado para dados específicos. Desta forma, estamos criando um objeto de modelo de regressão linear vazio e atribuindo-o à variável modelo. Já quando chamamos o método **.fit(X, y)** , ele ajusta os parâmetros internos do modelo para que ele possa aprender a relação entre as **características(x, variável indepedente, preditoras)** e os **valores alvo(y, variável dependente, resposta)** nos dados de treinamento. Em outras palavras, o modelo está \"aprendendo\" a relação entre as características e os valores alvo com base nos dados de treinamento.\n",
    "No contexto da regressão linear, o objetivo é encontrar a melhor linha reta que se ajusta aos dados de treinamento"
   ]
  },
  {
   "cell_type": "code",
   "execution_count": 71,
   "id": "4ee070ae",
   "metadata": {},
   "outputs": [
    {
     "data": {
      "text/html": [
       "<style>#sk-container-id-1 {color: black;}#sk-container-id-1 pre{padding: 0;}#sk-container-id-1 div.sk-toggleable {background-color: white;}#sk-container-id-1 label.sk-toggleable__label {cursor: pointer;display: block;width: 100%;margin-bottom: 0;padding: 0.3em;box-sizing: border-box;text-align: center;}#sk-container-id-1 label.sk-toggleable__label-arrow:before {content: \"▸\";float: left;margin-right: 0.25em;color: #696969;}#sk-container-id-1 label.sk-toggleable__label-arrow:hover:before {color: black;}#sk-container-id-1 div.sk-estimator:hover label.sk-toggleable__label-arrow:before {color: black;}#sk-container-id-1 div.sk-toggleable__content {max-height: 0;max-width: 0;overflow: hidden;text-align: left;background-color: #f0f8ff;}#sk-container-id-1 div.sk-toggleable__content pre {margin: 0.2em;color: black;border-radius: 0.25em;background-color: #f0f8ff;}#sk-container-id-1 input.sk-toggleable__control:checked~div.sk-toggleable__content {max-height: 200px;max-width: 100%;overflow: auto;}#sk-container-id-1 input.sk-toggleable__control:checked~label.sk-toggleable__label-arrow:before {content: \"▾\";}#sk-container-id-1 div.sk-estimator input.sk-toggleable__control:checked~label.sk-toggleable__label {background-color: #d4ebff;}#sk-container-id-1 div.sk-label input.sk-toggleable__control:checked~label.sk-toggleable__label {background-color: #d4ebff;}#sk-container-id-1 input.sk-hidden--visually {border: 0;clip: rect(1px 1px 1px 1px);clip: rect(1px, 1px, 1px, 1px);height: 1px;margin: -1px;overflow: hidden;padding: 0;position: absolute;width: 1px;}#sk-container-id-1 div.sk-estimator {font-family: monospace;background-color: #f0f8ff;border: 1px dotted black;border-radius: 0.25em;box-sizing: border-box;margin-bottom: 0.5em;}#sk-container-id-1 div.sk-estimator:hover {background-color: #d4ebff;}#sk-container-id-1 div.sk-parallel-item::after {content: \"\";width: 100%;border-bottom: 1px solid gray;flex-grow: 1;}#sk-container-id-1 div.sk-label:hover label.sk-toggleable__label {background-color: #d4ebff;}#sk-container-id-1 div.sk-serial::before {content: \"\";position: absolute;border-left: 1px solid gray;box-sizing: border-box;top: 0;bottom: 0;left: 50%;z-index: 0;}#sk-container-id-1 div.sk-serial {display: flex;flex-direction: column;align-items: center;background-color: white;padding-right: 0.2em;padding-left: 0.2em;position: relative;}#sk-container-id-1 div.sk-item {position: relative;z-index: 1;}#sk-container-id-1 div.sk-parallel {display: flex;align-items: stretch;justify-content: center;background-color: white;position: relative;}#sk-container-id-1 div.sk-item::before, #sk-container-id-1 div.sk-parallel-item::before {content: \"\";position: absolute;border-left: 1px solid gray;box-sizing: border-box;top: 0;bottom: 0;left: 50%;z-index: -1;}#sk-container-id-1 div.sk-parallel-item {display: flex;flex-direction: column;z-index: 1;position: relative;background-color: white;}#sk-container-id-1 div.sk-parallel-item:first-child::after {align-self: flex-end;width: 50%;}#sk-container-id-1 div.sk-parallel-item:last-child::after {align-self: flex-start;width: 50%;}#sk-container-id-1 div.sk-parallel-item:only-child::after {width: 0;}#sk-container-id-1 div.sk-dashed-wrapped {border: 1px dashed gray;margin: 0 0.4em 0.5em 0.4em;box-sizing: border-box;padding-bottom: 0.4em;background-color: white;}#sk-container-id-1 div.sk-label label {font-family: monospace;font-weight: bold;display: inline-block;line-height: 1.2em;}#sk-container-id-1 div.sk-label-container {text-align: center;}#sk-container-id-1 div.sk-container {/* jupyter's `normalize.less` sets `[hidden] { display: none; }` but bootstrap.min.css set `[hidden] { display: none !important; }` so we also need the `!important` here to be able to override the default hidden behavior on the sphinx rendered scikit-learn.org. See: https://github.com/scikit-learn/scikit-learn/issues/21755 */display: inline-block !important;position: relative;}#sk-container-id-1 div.sk-text-repr-fallback {display: none;}</style><div id=\"sk-container-id-1\" class=\"sk-top-container\"><div class=\"sk-text-repr-fallback\"><pre>LinearRegression()</pre><b>In a Jupyter environment, please rerun this cell to show the HTML representation or trust the notebook. <br />On GitHub, the HTML representation is unable to render, please try loading this page with nbviewer.org.</b></div><div class=\"sk-container\" hidden><div class=\"sk-item\"><div class=\"sk-estimator sk-toggleable\"><input class=\"sk-toggleable__control sk-hidden--visually\" id=\"sk-estimator-id-1\" type=\"checkbox\" checked><label for=\"sk-estimator-id-1\" class=\"sk-toggleable__label sk-toggleable__label-arrow\">LinearRegression</label><div class=\"sk-toggleable__content\"><pre>LinearRegression()</pre></div></div></div></div></div>"
      ],
      "text/plain": [
       "LinearRegression()"
      ]
     },
     "execution_count": 71,
     "metadata": {},
     "output_type": "execute_result"
    }
   ],
   "source": [
    "# Cria o modelo de regressão linear simples\n",
    "modelo = LinearRegression()\n",
    "# Treina o modelo\n",
    "modelo.fit(X_treino, y_treino)"
   ]
  },
  {
   "cell_type": "markdown",
   "id": "7c2ca6ce",
   "metadata": {},
   "source": [
    "**plt.scatter(X, y):** Esta linha de código cria um gráfico de dispersão (scatter plot) dos pontos de dados. Isso é feito usando as variáveis X e y.   \n",
    "**plt.plot(X, modelo.predict(X), color='red')**: Esta linha de código plota a linha de regressão ajustada pelo modelo de regressão linear. Nesta abordagem,  estamos plotando as previsões do modelo (modelo.predict(X)) em relação às características de entrada (X). Isso faz sentido porque a regressão linear visa modelar a relação entre as variáveis independentes (características) e a variável dependente (valor alvo).  A reta de regressão é traçada ao longo das coordenadas X, representando as variáveis independentes."
   ]
  },
  {
   "cell_type": "code",
   "execution_count": 72,
   "id": "72474efe",
   "metadata": {},
   "outputs": [
    {
     "data": {
      "image/png": "[encoded data removed]",
      "text/plain": [
       "<Figure size 640x480 with 1 Axes>"
      ]
     },
     "metadata": {},
     "output_type": "display_data"
    }
   ],
   "source": [
    "# Visualiza a reta de regressão linear (previsões) e os dados reais \n",
    "plt.scatter(X, y, color='purple', label = 'Dados Reais')\n",
    "plt.plot(X,modelo.predict(X), color = 'brown', label = 'Reta de Regressão com as Previsões do Modelo')\n",
    "plt.xlabel('dias entre infeccao e parto')\n",
    "plt.ylabel('Idade gestacional em semanas')\n",
    "plt.legend()\n",
    "plt.show()"
   ]
  },
  {
   "cell_type": "code",
   "execution_count": 73,
   "id": "3a201f0e",
   "metadata": {},
   "outputs": [
    {
     "name": "stdout",
     "output_type": "stream",
     "text": [
      "Coeficiente R^2: 0.02\n"
     ]
    }
   ],
   "source": [
    "# Avalia o modelo nos dados de teste\n",
    "score = modelo.score(X_teste, y_teste)\n",
    "print(f\"Coeficiente R^2: {score:.2f}\")"
   ]
  },
  {
   "cell_type": "markdown",
   "id": "9b42d67e",
   "metadata": {},
   "source": [
    "Um coeficiente de determinação de 0.02 indica que o modelo de regressão não está desempenhando bem na explicação da variação na variável dependente com base nas variáveis independentes. Em outras palavras, o modelo não está conseguindo capturar ou prever adequadamente as relações entre as variáveis. Um dos motivos que pode explicar este valo baixo é tamanho da amostra pequeno, um tamanho de amostra pequeno em relação ao número de variáveis independentes pode levar a uma baixa capacidade de generalização do modelo. Neste caso, como não é possível coletar mais dados seria necessário explorar outras maneiras de melhorar ou ajustar seu modelo existente para obter o máximo de informações úteis possível a partir dos dados disponíveis. **Como a criação deste modelo é para treinamento de conhecimentos básicos, vamos prosseguir com esta situação.**"
   ]
  },
  {
   "cell_type": "code",
   "execution_count": 74,
   "id": "db9a2849",
   "metadata": {},
   "outputs": [
    {
     "data": {
      "text/plain": [
       "35.04259121370067"
      ]
     },
     "execution_count": 74,
     "metadata": {},
     "output_type": "execute_result"
    }
   ],
   "source": [
    "#Coeficiente linear\n",
    "B0= modelo.intercept_\n",
    "B0"
   ]
  },
  {
   "cell_type": "code",
   "execution_count": 75,
   "id": "1bd007ba",
   "metadata": {},
   "outputs": [
    {
     "data": {
      "text/plain": [
       "array([-0.09038223])"
      ]
     },
     "execution_count": 75,
     "metadata": {},
     "output_type": "execute_result"
    }
   ],
   "source": [
    "#Coeficiente angular\n",
    "B1=modelo.coef_\n",
    "B1"
   ]
  },
  {
   "cell_type": "markdown",
   "id": "f3b483de",
   "metadata": {},
   "source": [
    "## Deploy do Modelo\n",
    "\n",
    "Usaremos o modelo para 'prever' a idade gestacional"
   ]
  },
  {
   "cell_type": "code",
   "execution_count": 76,
   "id": "ea799f03",
   "metadata": {},
   "outputs": [
    {
     "data": {
      "text/plain": [
       "array([33.50609332])"
      ]
     },
     "execution_count": 76,
     "metadata": {},
     "output_type": "execute_result"
    }
   ],
   "source": [
    "# Define um novo valor 'dias entre infecção e o parto'\n",
    "dias_infeccao = np.array([[17]]) \n",
    "\n",
    "# Faz previsão com o modelo treinado\n",
    "idade_gestacional_prevista = modelo.predict(dias_infeccao)\n",
    "\n",
    "idade_gestacional_prevista"
   ]
  },
  {
   "cell_type": "markdown",
   "id": "35e4ffdf",
   "metadata": {},
   "source": [
    "## Podemos usar Numpy também para realizar a manipulação dos dados. ##\n",
    "Importaremos a biblioteca **'os'** que fornece uma interface para interagir com o sistema operacional, permitindo que seja realizado tarefas como gerenciar diretórios e arquivos. "
   ]
  },
  {
   "cell_type": "code",
   "execution_count": 77,
   "id": "7decefca",
   "metadata": {},
   "outputs": [
    {
     "name": "stdout",
     "output_type": "stream",
     "text": [
      "Paciente;Idade da gestante;Idade gestacional em semanas;dias entre infeccao e parto;Condicoes medicas\n",
      "A;45;26;3;Pre eclampsia e diabetes mellitus gestacional\n",
      "B;38;28;3;Hipotireoidismo pre gestacional\n",
      "C;29;34;0;Diabetes mellitus gestacional, obesidade, hipotireoidismo, ex usuaria de substancia psicoativa e historico de sifilis devidamente tratada\n",
      "D;37;34;0;Transtorno de ansiedade generalizada\n",
      "E;23;36;0;Nao informado\n",
      "F;28;25;76;Diabetes mellitus tipo 2\n",
      "G;22;35;4;Diabetes mellitus gestacional, obesidade e hipotireoidismo\n",
      "H;26;32;42;Toxoplasmose aguda e hipotireoidismo\n",
      "I;22;34;33;Asma, transtorno de ansiedade generalizada e obesidade\n",
      "J;32;38;0;Nao informado\n",
      "K;30;30;46;Pre eclampsia e diabetes mellitus gestacional, obesidade e infeccao do trato urinario de repeticao\n",
      "L;27;37;12;Diabetes mellitus gestacional\n",
      "M;34;34;26;Nao informado\n",
      "N;39;8;231;Nao informado\n",
      "O;26;21;74;Diabetes mellitus gestacional, obesidade e hipotireoidismo\n",
      "P;;;53;Nao informado\n",
      "Q;;;6;Nao informado\n"
     ]
    }
   ],
   "source": [
    "import os\n",
    "dados_gestantes1 = os.path.join('dadosgestantes.csv')\n",
    "!more dadosgestantes.csv"
   ]
  },
  {
   "cell_type": "markdown",
   "id": "272397ff",
   "metadata": {},
   "source": [
    "Agora utilizaremos biblioteca **NumPy** para carregar dados do arquivo e armazená-los nas variáveis. O código abaixo é projetado para carregar dados numéricos de um arquivo CSV e não é adequado para lidar com valores vazios ou strings, neste caso vamos escolher apenas as colunas númericas: 1,2,3, excluindo a primeira coluna (0). E como o **np.loadtxt** não permite excluir linhas do arquivo diretamente durante a leitura, iremos inicialmente carregar os dados como strings. **usecols=**: Especifica quais colunas do arquivo CSV você deseja carregar. **skiprows=1:** Ignora a primeira linha do arquivo CSV. Isso é comum quando a primeira linha contém cabeçalhos ou rótulos de coluna."
   ]
  },
  {
   "cell_type": "code",
   "execution_count": 78,
   "id": "d38705d4",
   "metadata": {},
   "outputs": [
    {
     "data": {
      "text/plain": [
       "array([['45', '26', '3'],\n",
       "       ['38', '28', '3'],\n",
       "       ['29', '34', '0'],\n",
       "       ['37', '34', '0'],\n",
       "       ['23', '36', '0'],\n",
       "       ['28', '25', '76'],\n",
       "       ['22', '35', '4'],\n",
       "       ['26', '32', '42'],\n",
       "       ['22', '34', '33'],\n",
       "       ['32', '38', '0'],\n",
       "       ['30', '30', '46'],\n",
       "       ['27', '37', '12'],\n",
       "       ['34', '34', '26'],\n",
       "       ['39', '8', '231'],\n",
       "       ['26', '21', '74'],\n",
       "       ['', '', '53'],\n",
       "       ['', '', '6']], dtype='<U3')"
      ]
     },
     "execution_count": 78,
     "metadata": {},
     "output_type": "execute_result"
    }
   ],
   "source": [
    "dados_gestantes_strings = np.loadtxt(dados_gestantes1, dtype=str, delimiter=';', usecols=(1, 2, 3), skiprows=1)\n",
    "dados_gestantes_strings"
   ]
  },
  {
   "cell_type": "code",
   "execution_count": 79,
   "id": "7e0b870d",
   "metadata": {},
   "outputs": [
    {
     "data": {
      "text/plain": [
       "array([['45', '26', '3'],\n",
       "       ['38', '28', '3'],\n",
       "       ['29', '34', '0'],\n",
       "       ['37', '34', '0'],\n",
       "       ['23', '36', '0'],\n",
       "       ['28', '25', '76'],\n",
       "       ['22', '35', '4'],\n",
       "       ['26', '32', '42'],\n",
       "       ['22', '34', '33'],\n",
       "       ['32', '38', '0'],\n",
       "       ['30', '30', '46'],\n",
       "       ['27', '37', '12'],\n",
       "       ['34', '34', '26'],\n",
       "       ['39', '8', '231'],\n",
       "       ['26', '21', '74']], dtype='<U3')"
      ]
     },
     "execution_count": 79,
     "metadata": {},
     "output_type": "execute_result"
    }
   ],
   "source": [
    "#Excluindo as duas últimas linhas\n",
    "dados_gestantes_array = dados_gestantes_strings[:-2, :]\n",
    "dados_gestantes_array"
   ]
  },
  {
   "cell_type": "code",
   "execution_count": 80,
   "id": "1a4521be",
   "metadata": {},
   "outputs": [
    {
     "data": {
      "text/plain": [
       "array([[ 45,  26,   3],\n",
       "       [ 38,  28,   3],\n",
       "       [ 29,  34,   0],\n",
       "       [ 37,  34,   0],\n",
       "       [ 23,  36,   0],\n",
       "       [ 28,  25,  76],\n",
       "       [ 22,  35,   4],\n",
       "       [ 26,  32,  42],\n",
       "       [ 22,  34,  33],\n",
       "       [ 32,  38,   0],\n",
       "       [ 30,  30,  46],\n",
       "       [ 27,  37,  12],\n",
       "       [ 34,  34,  26],\n",
       "       [ 39,   8, 231],\n",
       "       [ 26,  21,  74]])"
      ]
     },
     "execution_count": 80,
     "metadata": {},
     "output_type": "execute_result"
    }
   ],
   "source": [
    "#Converte os valores de string em números inteiros\n",
    "dados_gestantes_array = dados_gestantes_array.astype(int)\n",
    "dados_gestantes_array"
   ]
  },
  {
   "cell_type": "markdown",
   "id": "e6972c6b",
   "metadata": {},
   "source": [
    "Percebemos que dados_gestantes_array é uma matriz bidimensional, uma vez que possui linhas e colunas. "
   ]
  },
  {
   "cell_type": "code",
   "execution_count": 81,
   "id": "506052a7",
   "metadata": {},
   "outputs": [],
   "source": [
    "#Armazenando cada coluna do array de dados em duas variáveis diferentes\n",
    "#Coluna idade gestacional, segunda coluna:\n",
    "var1 = dados_gestantes_array[:, 1] \n",
    "#Coluna dias entre infeccção e o parto, terceira coluna:\n",
    "var2 = dados_gestantes_array[:, 2]  "
   ]
  },
  {
   "cell_type": "code",
   "execution_count": 82,
   "id": "5d8a1887",
   "metadata": {},
   "outputs": [
    {
     "data": {
      "image/png": "[encoded data removed]",
      "text/plain": [
       "<Figure size 640x480 with 1 Axes>"
      ]
     },
     "metadata": {},
     "output_type": "display_data"
    }
   ],
   "source": [
    "#PLotando um gráfico de dispersão em que var2 representa o eixo x e var1 o eixo y.\n",
    "plt.plot(var2, var1, 'o', markersize=6, color='red')\n",
    "plt.xlabel('Dias entre infecção e o parto')\n",
    "plt.ylabel('idade gestacional')\n",
    "plt.show()"
   ]
  },
  {
   "cell_type": "markdown",
   "id": "8e26d2cf",
   "metadata": {},
   "source": [
    "### O objetivo agora é criar um banco de dados PostgreSQL para aplicar a linguagem SQL na sintaxe do pandas com linguagem Python"
   ]
  },
  {
   "cell_type": "code",
   "execution_count": 83,
   "id": "6ac2941d",
   "metadata": {},
   "outputs": [],
   "source": [
    "# importando a biblioteca psycopg2, biblioteca Python para trabalhar com o banco de dados PostgreSQL.\n",
    "import psycopg2 as ps"
   ]
  },
  {
   "cell_type": "code",
   "execution_count": 84,
   "id": "0f089aff",
   "metadata": {},
   "outputs": [
    {
     "name": "stdout",
     "output_type": "stream",
     "text": [
      "Conexão ao PostgreSQL bem-sucedida\n"
     ]
    }
   ],
   "source": [
    "# Credenciais do banco de dados\n",
    "db_host = 'gestantes.czkoekqounhz.us-east-1.rds.amazonaws.com' #endereço onde o banco de dados PostgreSQL está hospedado\n",
    "db_port = '5432' #porta usada para se conectar ao banco de dados PostgreSQL\n",
    "db_name = 'gestantes1' #nome do banco de dados PostgreSQL\n",
    "db_user = 'postgres'  #nome de usuário usado para autenticar a conexão com o banco de dados\n",
    "db_password = '4960so49' #senha associada ao nome de usuário fornecido\n",
    "\n",
    "# Conectando-se ao banco de dados e atrbuindo a conexão a variável 'conn'\n",
    "# Armazenar a conexão em uma variável facilita o uso subsequente da conexão para executar consultas e outras operações \n",
    "#no banco de dados.\n",
    "try:\n",
    "    conn = ps.connect(\n",
    "        host=db_host,\n",
    "        port=db_port,\n",
    "        database=db_name,\n",
    "        user=db_user,\n",
    "        password=db_password\n",
    "    )\n",
    "    print(\"Conexão ao PostgreSQL bem-sucedida\")\n",
    "except ps.Error as e:\n",
    "    print(\"Erro ao conectar ao PostgreSQL:\", e)\n"
   ]
  },
  {
   "cell_type": "markdown",
   "id": "882b4233",
   "metadata": {},
   "source": [
    "Quando você chama **con.cursor()**, você está criando um objeto de cursor que está vinculado à conexão conn. Esse objeto de cursor age como uma espécie de \"ponte\" entre o seu código Python e o banco de dados. Portanto, a variável **cursor** é criada para permitir a interação com o banco de dados por meio de consultas SQL em Python"
   ]
  },
  {
   "cell_type": "code",
   "execution_count": 85,
   "id": "eabaa609",
   "metadata": {},
   "outputs": [],
   "source": [
    "# Abre um cursor para percorrer os dados no banco de dados\n",
    "cursor = conn.cursor()"
   ]
  },
  {
   "cell_type": "markdown",
   "id": "8501e1f4",
   "metadata": {},
   "source": [
    "**query** é uma variável que **armazena uma consulta SQL**. A consulta SQL em questão é uma instrução SELECT que solicita todas as colunas (*) da tabela chamada 'tabela_gestantes'"
   ]
  },
  {
   "cell_type": "code",
   "execution_count": 86,
   "id": "1aa6eafc",
   "metadata": {},
   "outputs": [],
   "source": [
    "query = 'SELECT * FROM tabela_gestantes'"
   ]
  },
  {
   "cell_type": "markdown",
   "id": "0a65d533",
   "metadata": {},
   "source": [
    "Ao executarmos o código **cursor.execute(query**) abaixo, estaremos executando a consulta e buscando os registros da tabela especificada. Há probabilidade de executar a consulta SQL diretamente usando **cursor.execute('SELECT * FROM tabela_gestantes')** sem armazená-la em uma variável, mas isto não é bom uso,quando pensamos na questão de reutilização de código."
   ]
  },
  {
   "cell_type": "code",
   "execution_count": 87,
   "id": "cd879623",
   "metadata": {},
   "outputs": [],
   "source": [
    "cursor.execute(query)"
   ]
  },
  {
   "cell_type": "markdown",
   "id": "7a42185c",
   "metadata": {},
   "source": [
    "Portanto, quando chamamos o **cursor.execute('SELECT * FROM tabela_gestantes')**, você está efetuando uma consulta SQL que seleciona todos os registros da tabela em questão. Após essa execução bem-sucedida, o objeto de cursor mantém o resultado da consulta em sua memória. Em seguida, quando chamamos o **cursor.fetchall()**, você está instruindo o cursor a recuperar todos os resultados da consulta que foi executada anteriormente. Os resultados recuperados são então armazenados agora **na variável dados**. Assim, ao executar o  **cursor.fetchall()**, o cursor recupera todos os resultados da consulta SQL que foi executada anteriormente e os armazena em uma lista (ou em uma sequência de tuplas, dependendo do banco de dados e da biblioteca que você está usando)."
   ]
  },
  {
   "cell_type": "code",
   "execution_count": 88,
   "id": "89271626",
   "metadata": {},
   "outputs": [],
   "source": [
    "dados = cursor.fetchall()"
   ]
  },
  {
   "cell_type": "code",
   "execution_count": 89,
   "id": "7c322138",
   "metadata": {},
   "outputs": [
    {
     "data": {
      "text/plain": [
       "[('A', 45, 26, 3, 'Pre eclampsia e diabetes mellitus gestacional'),\n",
       " ('B', 38, 28, 3, 'Hipotireoidismo pre gestacional'),\n",
       " ('C',\n",
       "  29,\n",
       "  34,\n",
       "  0,\n",
       "  'Diabetes mellitus gestacional, obesidade, hipotireoidismo, ex usuaria de substancia psicoativa e historico de sifilis devidamente tratada'),\n",
       " ('D', 37, 34, 0, 'Transtorno de ansiedade generalizada'),\n",
       " ('E', 23, 36, 0, 'Nao informado'),\n",
       " ('F', 28, 25, 76, 'Diabetes mellitus tipo 2'),\n",
       " ('G',\n",
       "  22,\n",
       "  35,\n",
       "  4,\n",
       "  'Diabetes mellitus gestacional, obesidade e hipotireoidismo'),\n",
       " ('H', 26, 32, 42, 'Toxoplasmose aguda e hipotireoidismo'),\n",
       " ('I', 22, 34, 33, 'Asma, transtorno de ansiedade generalizada e obesidade'),\n",
       " ('J', 32, 38, 0, 'Nao informado'),\n",
       " ('K',\n",
       "  30,\n",
       "  30,\n",
       "  46,\n",
       "  'Pre eclampsia e diabetes mellitus gestacional, obesidade e infeccao do trato urinario de repeticao'),\n",
       " ('L', 27, 37, 12, 'Diabetes mellitus gestacional'),\n",
       " ('M', 34, 34, 26, 'Nao informado'),\n",
       " ('N', 39, 8, 231, 'Nao informado'),\n",
       " ('O',\n",
       "  26,\n",
       "  21,\n",
       "  74,\n",
       "  'Diabetes mellitus gestacional, obesidade e hipotireoidismo'),\n",
       " ('P', None, None, 53, 'Nao informado'),\n",
       " ('Q', None, None, 6, 'Nao informado')]"
      ]
     },
     "execution_count": 89,
     "metadata": {},
     "output_type": "execute_result"
    }
   ],
   "source": [
    "dados"
   ]
  },
  {
   "cell_type": "code",
   "execution_count": 90,
   "id": "923f737d",
   "metadata": {},
   "outputs": [],
   "source": [
    "# Carrega os dados como dataframe do Pandas\n",
    "tabela_gestantes = pd.DataFrame(dados, columns = ['Paciente', \n",
    "                                    'Idade_gestante', \n",
    "                                    'Idade_gestacional',\n",
    "                                    'Dias_entre_infeccao_parto',\n",
    "                                    'Condicoes_medicas'])"
   ]
  },
  {
   "cell_type": "markdown",
   "id": "3a9b3093",
   "metadata": {},
   "source": [
    "Eu preciso adicionar o nome das colunas porque os metadados geralmente não são retornados automaticamente em uma consulta SELECT em um banco de dados. Quando você executa uma consulta SELECT, o banco de dados normalmente retorna apenas os dados das colunas especificadas na consulta. Os metadados, como informações sobre a estrutura da tabela (nomes das colunas, tipos de dados, restrições, chaves primárias, etc.), não são incluídos nos resultados da consulta por padrão."
   ]
  },
  {
   "cell_type": "code",
   "execution_count": 91,
   "id": "de2d33b7",
   "metadata": {},
   "outputs": [
    {
     "data": {
      "text/html": [
       "<div>\n",
       "<style scoped>\n",
       "    .dataframe tbody tr th:only-of-type {\n",
       "        vertical-align: middle;\n",
       "    }\n",
       "\n",
       "    .dataframe tbody tr th {\n",
       "        vertical-align: top;\n",
       "    }\n",
       "\n",
       "    .dataframe thead th {\n",
       "        text-align: right;\n",
       "    }\n",
       "</style>\n",
       "<table border=\"1\" class=\"dataframe\">\n",
       "  <thead>\n",
       "    <tr style=\"text-align: right;\">\n",
       "      <th></th>\n",
       "      <th>Paciente</th>\n",
       "      <th>Idade_gestante</th>\n",
       "      <th>Idade_gestacional</th>\n",
       "      <th>Dias_entre_infeccao_parto</th>\n",
       "      <th>Condicoes_medicas</th>\n",
       "    </tr>\n",
       "  </thead>\n",
       "  <tbody>\n",
       "    <tr>\n",
       "      <th>0</th>\n",
       "      <td>A</td>\n",
       "      <td>45.0</td>\n",
       "      <td>26.0</td>\n",
       "      <td>3</td>\n",
       "      <td>Pre eclampsia e diabetes mellitus gestacional</td>\n",
       "    </tr>\n",
       "    <tr>\n",
       "      <th>1</th>\n",
       "      <td>B</td>\n",
       "      <td>38.0</td>\n",
       "      <td>28.0</td>\n",
       "      <td>3</td>\n",
       "      <td>Hipotireoidismo pre gestacional</td>\n",
       "    </tr>\n",
       "    <tr>\n",
       "      <th>2</th>\n",
       "      <td>C</td>\n",
       "      <td>29.0</td>\n",
       "      <td>34.0</td>\n",
       "      <td>0</td>\n",
       "      <td>Diabetes mellitus gestacional, obesidade, hipo...</td>\n",
       "    </tr>\n",
       "    <tr>\n",
       "      <th>3</th>\n",
       "      <td>D</td>\n",
       "      <td>37.0</td>\n",
       "      <td>34.0</td>\n",
       "      <td>0</td>\n",
       "      <td>Transtorno de ansiedade generalizada</td>\n",
       "    </tr>\n",
       "    <tr>\n",
       "      <th>4</th>\n",
       "      <td>E</td>\n",
       "      <td>23.0</td>\n",
       "      <td>36.0</td>\n",
       "      <td>0</td>\n",
       "      <td>Nao informado</td>\n",
       "    </tr>\n",
       "    <tr>\n",
       "      <th>5</th>\n",
       "      <td>F</td>\n",
       "      <td>28.0</td>\n",
       "      <td>25.0</td>\n",
       "      <td>76</td>\n",
       "      <td>Diabetes mellitus tipo 2</td>\n",
       "    </tr>\n",
       "    <tr>\n",
       "      <th>6</th>\n",
       "      <td>G</td>\n",
       "      <td>22.0</td>\n",
       "      <td>35.0</td>\n",
       "      <td>4</td>\n",
       "      <td>Diabetes mellitus gestacional, obesidade e hip...</td>\n",
       "    </tr>\n",
       "    <tr>\n",
       "      <th>7</th>\n",
       "      <td>H</td>\n",
       "      <td>26.0</td>\n",
       "      <td>32.0</td>\n",
       "      <td>42</td>\n",
       "      <td>Toxoplasmose aguda e hipotireoidismo</td>\n",
       "    </tr>\n",
       "    <tr>\n",
       "      <th>8</th>\n",
       "      <td>I</td>\n",
       "      <td>22.0</td>\n",
       "      <td>34.0</td>\n",
       "      <td>33</td>\n",
       "      <td>Asma, transtorno de ansiedade generalizada e o...</td>\n",
       "    </tr>\n",
       "    <tr>\n",
       "      <th>9</th>\n",
       "      <td>J</td>\n",
       "      <td>32.0</td>\n",
       "      <td>38.0</td>\n",
       "      <td>0</td>\n",
       "      <td>Nao informado</td>\n",
       "    </tr>\n",
       "    <tr>\n",
       "      <th>10</th>\n",
       "      <td>K</td>\n",
       "      <td>30.0</td>\n",
       "      <td>30.0</td>\n",
       "      <td>46</td>\n",
       "      <td>Pre eclampsia e diabetes mellitus gestacional,...</td>\n",
       "    </tr>\n",
       "    <tr>\n",
       "      <th>11</th>\n",
       "      <td>L</td>\n",
       "      <td>27.0</td>\n",
       "      <td>37.0</td>\n",
       "      <td>12</td>\n",
       "      <td>Diabetes mellitus gestacional</td>\n",
       "    </tr>\n",
       "    <tr>\n",
       "      <th>12</th>\n",
       "      <td>M</td>\n",
       "      <td>34.0</td>\n",
       "      <td>34.0</td>\n",
       "      <td>26</td>\n",
       "      <td>Nao informado</td>\n",
       "    </tr>\n",
       "    <tr>\n",
       "      <th>13</th>\n",
       "      <td>N</td>\n",
       "      <td>39.0</td>\n",
       "      <td>8.0</td>\n",
       "      <td>231</td>\n",
       "      <td>Nao informado</td>\n",
       "    </tr>\n",
       "    <tr>\n",
       "      <th>14</th>\n",
       "      <td>O</td>\n",
       "      <td>26.0</td>\n",
       "      <td>21.0</td>\n",
       "      <td>74</td>\n",
       "      <td>Diabetes mellitus gestacional, obesidade e hip...</td>\n",
       "    </tr>\n",
       "    <tr>\n",
       "      <th>15</th>\n",
       "      <td>P</td>\n",
       "      <td>NaN</td>\n",
       "      <td>NaN</td>\n",
       "      <td>53</td>\n",
       "      <td>Nao informado</td>\n",
       "    </tr>\n",
       "    <tr>\n",
       "      <th>16</th>\n",
       "      <td>Q</td>\n",
       "      <td>NaN</td>\n",
       "      <td>NaN</td>\n",
       "      <td>6</td>\n",
       "      <td>Nao informado</td>\n",
       "    </tr>\n",
       "  </tbody>\n",
       "</table>\n",
       "</div>"
      ],
      "text/plain": [
       "   Paciente  Idade_gestante  Idade_gestacional  Dias_entre_infeccao_parto  \\\n",
       "0         A            45.0               26.0                          3   \n",
       "1         B            38.0               28.0                          3   \n",
       "2         C            29.0               34.0                          0   \n",
       "3         D            37.0               34.0                          0   \n",
       "4         E            23.0               36.0                          0   \n",
       "5         F            28.0               25.0                         76   \n",
       "6         G            22.0               35.0                          4   \n",
       "7         H            26.0               32.0                         42   \n",
       "8         I            22.0               34.0                         33   \n",
       "9         J            32.0               38.0                          0   \n",
       "10        K            30.0               30.0                         46   \n",
       "11        L            27.0               37.0                         12   \n",
       "12        M            34.0               34.0                         26   \n",
       "13        N            39.0                8.0                        231   \n",
       "14        O            26.0               21.0                         74   \n",
       "15        P             NaN                NaN                         53   \n",
       "16        Q             NaN                NaN                          6   \n",
       "\n",
       "                                    Condicoes_medicas  \n",
       "0       Pre eclampsia e diabetes mellitus gestacional  \n",
       "1                     Hipotireoidismo pre gestacional  \n",
       "2   Diabetes mellitus gestacional, obesidade, hipo...  \n",
       "3                Transtorno de ansiedade generalizada  \n",
       "4                                       Nao informado  \n",
       "5                            Diabetes mellitus tipo 2  \n",
       "6   Diabetes mellitus gestacional, obesidade e hip...  \n",
       "7                Toxoplasmose aguda e hipotireoidismo  \n",
       "8   Asma, transtorno de ansiedade generalizada e o...  \n",
       "9                                       Nao informado  \n",
       "10  Pre eclampsia e diabetes mellitus gestacional,...  \n",
       "11                      Diabetes mellitus gestacional  \n",
       "12                                      Nao informado  \n",
       "13                                      Nao informado  \n",
       "14  Diabetes mellitus gestacional, obesidade e hip...  \n",
       "15                                      Nao informado  \n",
       "16                                      Nao informado  "
      ]
     },
     "execution_count": 91,
     "metadata": {},
     "output_type": "execute_result"
    }
   ],
   "source": [
    "tabela_gestantes"
   ]
  },
  {
   "cell_type": "markdown",
   "id": "770dda3c",
   "metadata": {},
   "source": [
    "### Agora podemos realizar uma variedade de operações de manipulação de dados, análise, visualização, agregação, etc., usando as funcionalidades oferecidas pelo Pandas."
   ]
  },
  {
   "cell_type": "code",
   "execution_count": 92,
   "id": "0bb6fdb9",
   "metadata": {},
   "outputs": [],
   "source": [
    "tabela_gestantes['Condicoes_medicas'] = tabela_gestantes['Condicoes_medicas'].str.replace('Nao informado', 'Sem dados')"
   ]
  },
  {
   "cell_type": "code",
   "execution_count": 93,
   "id": "334ea877",
   "metadata": {},
   "outputs": [
    {
     "data": {
      "text/html": [
       "<div>\n",
       "<style scoped>\n",
       "    .dataframe tbody tr th:only-of-type {\n",
       "        vertical-align: middle;\n",
       "    }\n",
       "\n",
       "    .dataframe tbody tr th {\n",
       "        vertical-align: top;\n",
       "    }\n",
       "\n",
       "    .dataframe thead th {\n",
       "        text-align: right;\n",
       "    }\n",
       "</style>\n",
       "<table border=\"1\" class=\"dataframe\">\n",
       "  <thead>\n",
       "    <tr style=\"text-align: right;\">\n",
       "      <th></th>\n",
       "      <th>Paciente</th>\n",
       "      <th>Idade_gestante</th>\n",
       "      <th>Idade_gestacional</th>\n",
       "      <th>Dias_entre_infeccao_parto</th>\n",
       "      <th>Condicoes_medicas</th>\n",
       "    </tr>\n",
       "  </thead>\n",
       "  <tbody>\n",
       "    <tr>\n",
       "      <th>0</th>\n",
       "      <td>A</td>\n",
       "      <td>45.0</td>\n",
       "      <td>26.0</td>\n",
       "      <td>3</td>\n",
       "      <td>Pre eclampsia e diabetes mellitus gestacional</td>\n",
       "    </tr>\n",
       "    <tr>\n",
       "      <th>1</th>\n",
       "      <td>B</td>\n",
       "      <td>38.0</td>\n",
       "      <td>28.0</td>\n",
       "      <td>3</td>\n",
       "      <td>Hipotireoidismo pre gestacional</td>\n",
       "    </tr>\n",
       "    <tr>\n",
       "      <th>2</th>\n",
       "      <td>C</td>\n",
       "      <td>29.0</td>\n",
       "      <td>34.0</td>\n",
       "      <td>0</td>\n",
       "      <td>Diabetes mellitus gestacional, obesidade, hipo...</td>\n",
       "    </tr>\n",
       "    <tr>\n",
       "      <th>3</th>\n",
       "      <td>D</td>\n",
       "      <td>37.0</td>\n",
       "      <td>34.0</td>\n",
       "      <td>0</td>\n",
       "      <td>Transtorno de ansiedade generalizada</td>\n",
       "    </tr>\n",
       "    <tr>\n",
       "      <th>4</th>\n",
       "      <td>E</td>\n",
       "      <td>23.0</td>\n",
       "      <td>36.0</td>\n",
       "      <td>0</td>\n",
       "      <td>Sem dados</td>\n",
       "    </tr>\n",
       "    <tr>\n",
       "      <th>5</th>\n",
       "      <td>F</td>\n",
       "      <td>28.0</td>\n",
       "      <td>25.0</td>\n",
       "      <td>76</td>\n",
       "      <td>Diabetes mellitus tipo 2</td>\n",
       "    </tr>\n",
       "    <tr>\n",
       "      <th>6</th>\n",
       "      <td>G</td>\n",
       "      <td>22.0</td>\n",
       "      <td>35.0</td>\n",
       "      <td>4</td>\n",
       "      <td>Diabetes mellitus gestacional, obesidade e hip...</td>\n",
       "    </tr>\n",
       "    <tr>\n",
       "      <th>7</th>\n",
       "      <td>H</td>\n",
       "      <td>26.0</td>\n",
       "      <td>32.0</td>\n",
       "      <td>42</td>\n",
       "      <td>Toxoplasmose aguda e hipotireoidismo</td>\n",
       "    </tr>\n",
       "    <tr>\n",
       "      <th>8</th>\n",
       "      <td>I</td>\n",
       "      <td>22.0</td>\n",
       "      <td>34.0</td>\n",
       "      <td>33</td>\n",
       "      <td>Asma, transtorno de ansiedade generalizada e o...</td>\n",
       "    </tr>\n",
       "    <tr>\n",
       "      <th>9</th>\n",
       "      <td>J</td>\n",
       "      <td>32.0</td>\n",
       "      <td>38.0</td>\n",
       "      <td>0</td>\n",
       "      <td>Sem dados</td>\n",
       "    </tr>\n",
       "    <tr>\n",
       "      <th>10</th>\n",
       "      <td>K</td>\n",
       "      <td>30.0</td>\n",
       "      <td>30.0</td>\n",
       "      <td>46</td>\n",
       "      <td>Pre eclampsia e diabetes mellitus gestacional,...</td>\n",
       "    </tr>\n",
       "    <tr>\n",
       "      <th>11</th>\n",
       "      <td>L</td>\n",
       "      <td>27.0</td>\n",
       "      <td>37.0</td>\n",
       "      <td>12</td>\n",
       "      <td>Diabetes mellitus gestacional</td>\n",
       "    </tr>\n",
       "    <tr>\n",
       "      <th>12</th>\n",
       "      <td>M</td>\n",
       "      <td>34.0</td>\n",
       "      <td>34.0</td>\n",
       "      <td>26</td>\n",
       "      <td>Sem dados</td>\n",
       "    </tr>\n",
       "    <tr>\n",
       "      <th>13</th>\n",
       "      <td>N</td>\n",
       "      <td>39.0</td>\n",
       "      <td>8.0</td>\n",
       "      <td>231</td>\n",
       "      <td>Sem dados</td>\n",
       "    </tr>\n",
       "    <tr>\n",
       "      <th>14</th>\n",
       "      <td>O</td>\n",
       "      <td>26.0</td>\n",
       "      <td>21.0</td>\n",
       "      <td>74</td>\n",
       "      <td>Diabetes mellitus gestacional, obesidade e hip...</td>\n",
       "    </tr>\n",
       "    <tr>\n",
       "      <th>15</th>\n",
       "      <td>P</td>\n",
       "      <td>NaN</td>\n",
       "      <td>NaN</td>\n",
       "      <td>53</td>\n",
       "      <td>Sem dados</td>\n",
       "    </tr>\n",
       "    <tr>\n",
       "      <th>16</th>\n",
       "      <td>Q</td>\n",
       "      <td>NaN</td>\n",
       "      <td>NaN</td>\n",
       "      <td>6</td>\n",
       "      <td>Sem dados</td>\n",
       "    </tr>\n",
       "  </tbody>\n",
       "</table>\n",
       "</div>"
      ],
      "text/plain": [
       "   Paciente  Idade_gestante  Idade_gestacional  Dias_entre_infeccao_parto  \\\n",
       "0         A            45.0               26.0                          3   \n",
       "1         B            38.0               28.0                          3   \n",
       "2         C            29.0               34.0                          0   \n",
       "3         D            37.0               34.0                          0   \n",
       "4         E            23.0               36.0                          0   \n",
       "5         F            28.0               25.0                         76   \n",
       "6         G            22.0               35.0                          4   \n",
       "7         H            26.0               32.0                         42   \n",
       "8         I            22.0               34.0                         33   \n",
       "9         J            32.0               38.0                          0   \n",
       "10        K            30.0               30.0                         46   \n",
       "11        L            27.0               37.0                         12   \n",
       "12        M            34.0               34.0                         26   \n",
       "13        N            39.0                8.0                        231   \n",
       "14        O            26.0               21.0                         74   \n",
       "15        P             NaN                NaN                         53   \n",
       "16        Q             NaN                NaN                          6   \n",
       "\n",
       "                                    Condicoes_medicas  \n",
       "0       Pre eclampsia e diabetes mellitus gestacional  \n",
       "1                     Hipotireoidismo pre gestacional  \n",
       "2   Diabetes mellitus gestacional, obesidade, hipo...  \n",
       "3                Transtorno de ansiedade generalizada  \n",
       "4                                           Sem dados  \n",
       "5                            Diabetes mellitus tipo 2  \n",
       "6   Diabetes mellitus gestacional, obesidade e hip...  \n",
       "7                Toxoplasmose aguda e hipotireoidismo  \n",
       "8   Asma, transtorno de ansiedade generalizada e o...  \n",
       "9                                           Sem dados  \n",
       "10  Pre eclampsia e diabetes mellitus gestacional,...  \n",
       "11                      Diabetes mellitus gestacional  \n",
       "12                                          Sem dados  \n",
       "13                                          Sem dados  \n",
       "14  Diabetes mellitus gestacional, obesidade e hip...  \n",
       "15                                          Sem dados  \n",
       "16                                          Sem dados  "
      ]
     },
     "execution_count": 93,
     "metadata": {},
     "output_type": "execute_result"
    }
   ],
   "source": [
    "tabela_gestantes"
   ]
  },
  {
   "cell_type": "code",
   "execution_count": 94,
   "id": "4f0d314d",
   "metadata": {},
   "outputs": [],
   "source": [
    "# Fecha o cursor e encerra a conexão\n",
    "cursor.close()\n",
    "conn.close()"
   ]
  }
 ],
 "metadata": {
  "kernelspec": {
   "display_name": "Python 3 (ipykernel)",
   "language": "python",
   "name": "python3"
  },
  "language_info": {
   "codemirror_mode": {
    "name": "ipython",
    "version": 3
   },
   "file_extension": ".py",
   "mimetype": "text/x-python",
   "name": "python",
   "nbconvert_exporter": "python",
   "pygments_lexer": "ipython3",
   "version": "3.11.4"
  }
 },
 "nbformat": 4,
 "nbformat_minor": 5
}
